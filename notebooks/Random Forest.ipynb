{
 "cells": [
  {
   "cell_type": "markdown",
   "metadata": {},
   "source": [
    "### ***Theory of random forest***\n",
    "\n",
    "As described in DT notebook, DT are subject to high overfitting because they have low bias and high variance errors. The first is high if we have made a lot of assumptions about the target function, so if our modelling function is not flexible. The second, instead, refers to the variability of a target function w.r.t. different training samples: models with high variance will change a lot when small modifications of the training dataset are made. The idea used by RF to overcome this limitations is to build multiple trees and average their predictions for regression or use majority voting (or confidence averaging) for classification. Each tree is built using a different dataset and a random subset of features.\n",
    "\n",
    "To reduce the variance error, RF employs *bootstrap aggregation* (or *bagging*). Among the different techniques used for it, the one that will be used in this notebook was proposed by the inventors of RF Leo Breiman and Adele Cutler. Given a dataset $D=\\{(X_1, y_1), \\dots, (X_N, y_N)\\}$ where $X_i$ are the features and $y_i$ the labels, we generate $B$ bootstrapped samples $D_1, \\dots, D_B$ by sampling with replacement $N$ tuples from $D$. Because replacement is allowed there might be some duplicate elements in $D_k$. Then, a decision tree $T_i$ is trained using $D_i$. Without bootstrapping, all the trees would be highly correlated, i.e. if $T_i$ predicts label $\\tilde y$, there's a high chance that also $T_k$ will predict $\\tilde y$: consequently, if one overfits, the others will overfit either. Note that this allows us to parallelize the training process: different machines will train one (or several) model.\n",
    "\n",
    "Moreover, each $T_i$ is built considering only a random subset of $|F_i|=m$ features among the total $|F|=d$ features at eah best split call (see `DecisionTree.find_best_split(...)`): if we used the entire features vector, even with bootstrapping, there would be an high chance to keep using the mostly dominant features, not reducing correlation. Typically, $m=\\sqrt{d}$ for classification and $m=\\frac13d$ for regression. \n",
    "\n",
    "When it comes to make a prediction for a classification task, the typical idea is to use *majority voting*:\n",
    "$$\\tilde y = \\arg \\max_{k}\\,\\,\\sum_{i = 1}^{B}\\mathbb{I}\\{T_i(x) = k\\}$$\n",
    "\n",
    "where $k$ is a label, $\\mathbb{I}\\{...\\}$ is the indicator function and $T_i(x)$ is the prediction of the $i\\text{-th}$ tree. Another way is to exploit the probabilities outputted by each tree. For a specific sample $x$, the confidence of the RF in the prediction $k$ is given by the average of the confidences of the trees:\n",
    "$$P\\{k \\text{ for sample } x\\} = \\frac{1}{B}\\sum_{i=1}^{B}P\\{k \\text{ assigned to } x \\text{ by tree } T_i\\}$$\n",
    "\n",
    "Consequently, the predicted class is the one with largest probability:\n",
    "$$\\tilde y = \\arg \\max_{k}\\,\\,\\frac{1}{B}\\sum_{i=1}^{B}P\\{k \\text{ assigned to } x \\text{ by tree } T_i\\}$$\n",
    "\n",
    "Both of this methods are supported by our implementation. In general, the latter approach is preferred when it's required to plot ROC curves since it outputs continuos probabilities, rather than agreement fractions (nevertheless, also the first can be used). Also, the second is more calibrated because it reflects the true probabilities on building DT in the RF; since in our DT the `Node.value` of a leaf is given by the classes with largest number of samples belonging to it (so, the one with highest probability), both methods will produce the same results in terms of accuracy, precision, recall and F1. \n",
    "\n",
    "Vice versa, for a regression task (not necessary in this notebook, but reported for the sake of completeness):\n",
    "$$\\tilde y = \\frac1B\\sum_{i=1}^{B}T_i(x)$$"
   ]
  },
  {
   "cell_type": "markdown",
   "metadata": {},
   "source": [
    "### ***Model definition***"
   ]
  },
  {
   "cell_type": "code",
   "execution_count": 26,
   "metadata": {},
   "outputs": [],
   "source": [
    "import numpy as np\n",
    "from tqdm import tqdm\n",
    "\n",
    "import sys\n",
    "sys.path.append(\"..\")\n",
    "from utils.models.DecisionTree import DecisionTree"
   ]
  },
  {
   "cell_type": "code",
   "execution_count": 27,
   "metadata": {},
   "outputs": [],
   "source": [
    "class RandomForest:\n",
    "    def __init__(self, \n",
    "                 n_trees = 10,\n",
    "                 criterion = \"gini\", \n",
    "                 max_depth = None, \n",
    "                 min_samples_split = 2, \n",
    "                 min_samples_leaf = 1, \n",
    "                 min_impurity_decrease = 0.0,\n",
    "                 max_thresholds = 1,\n",
    "                 max_features = \"sqrt\", #As explained in the theory part, for classification tasks, sqrt(n_features) is typically used.\n",
    "                                        #We choose to not pass directly this value to the DT because in some contexts, user might want to change it;\n",
    "                                        #see for more details methods \"build_tree(...)\" and \"find_best_split(...)\" of DT.\n",
    "                 random_state = 0):\n",
    "        \n",
    "        \"\"\"\n",
    "            Initializes both random forest' and decision tree' parameters.\n",
    "            \n",
    "            Args:\n",
    "                - Parameters of RF:\n",
    "                    n_trees (int): number of trees to be built\n",
    "                    random_state (int): random seed.\n",
    "                \n",
    "                - Parameters of DT to be built: \n",
    "                    criterion (str): the function to measure the quality of a split (\"gini\" or \"entropy\").\n",
    "                    max_depth (int): the maximum depth of the tree.\n",
    "                    min_samples_split (int): the minimum number of samples required to split an internal node.\n",
    "                    min_samples_leaf (int): the minimum number of samples required to be at a leaf node.\n",
    "                    min_impurity_decrease (float): the minimum impurity decrease required to split a node.\n",
    "                    max_thresholds (int): the maximum number of thresholds to use during best split search.\n",
    "                    max_features (str / float): the maximum number of features to choose from in the given ones: \n",
    "                                                    - if \"sqrt\", then int(sqrt(n_features)); \n",
    "                                                    - if \"log2\", then int(log2(n_features)):\n",
    "                                                    - if float, then int(n_features * max_features);\n",
    "                                                    - if int, then max_features;\n",
    "                                                    - if None, all features\n",
    "                    random_state (int): random seed.\n",
    "        \"\"\"\n",
    "        \n",
    "        self.n_trees = n_trees\n",
    "\n",
    "        #When the training process is complete, all the DecisionTree objects in this list will be trained\n",
    "        self.trees = [DecisionTree(criterion = criterion,\n",
    "                                   max_depth = max_depth,\n",
    "                                   min_samples_split = min_samples_split,\n",
    "                                   min_samples_leaf = min_samples_leaf,\n",
    "                                   min_impurity_decrease = min_impurity_decrease,\n",
    "                                   max_thresholds = max_thresholds,\n",
    "                                   max_features = max_features,\n",
    "                                   random_state = random_state)\n",
    "                     for _ in range(self.n_trees)]\n",
    "\n",
    "        self.random_state = random_state\n",
    "\n",
    "    def fit(self, X, y):\n",
    "        \"\"\"\n",
    "            Fit a RF model with the specified parameters to the data. \n",
    "\n",
    "            Args:\n",
    "                X (np.ndarray): the matrix containing the features (sample on the rows);\n",
    "                y (np.ndarray): the vector containing the labels.\n",
    "        \"\"\"\n",
    " \n",
    "        for i in tqdm(range(self.n_trees), desc = \"Training of RF\"):\n",
    "            #For each subtree that we have to build, we generate a bootstrapped dataset\n",
    "            bs_ids = np.random.choice(np.arange(X.shape[0]), X.shape[0], replace = True)\n",
    "            X_bs = X[bs_ids]\n",
    "            y_bs = y[bs_ids]\n",
    "\n",
    "            #Then, we train the DT on it\n",
    "            self.trees[i].fit(X_bs, y_bs)\n",
    "\n",
    "    def predict(self, X, type = \"prob\"):\n",
    "        \"\"\"\n",
    "            This method predicts the labels of a given set of samples.\n",
    "\n",
    "            Args:\n",
    "                X (np.ndarray): the matrix containing the samples to be classified (samples on rows).\n",
    "                type (str): if \"prob\", predicted labels and average probabilities for them are returned,\n",
    "                            if \"voting\", predicted labels and voting fraction are returned.\n",
    " \n",
    "            Returns:\n",
    "                labels (np.ndarray): the predicted label of each sample in X.\n",
    "                scores (np.ndarray): the score associated to each prediction (see \"type\" attribute).\n",
    "        \"\"\"\n",
    "\n",
    "        #As defined in the theory part, we collect the predictions and probabilities of each tree.\n",
    "        pred_labels, pred_probs = zip(*[t.predict(X) for t in self.trees])\n",
    "\n",
    "        #Note: this will a matrix of shape n_trees x n_samples because the prediction is a number \n",
    "        pred_labels = np.array(pred_labels)\n",
    "\n",
    "        #Note: this will be a tensor of shape n_trees x n_samples x n_classes because each tree is outputting a vector of probabilities\n",
    "        pred_probs = np.array(pred_probs)\n",
    "\n",
    "        if type == \"prob\":          \n",
    "            #First, compute the average probability across all trees: we are working row by row (each row is n_samples x n_classes),\n",
    "            #taking the average of each array of probabilities [... n_classes ...]. The resulting matrix will be n_samples x n_classes\n",
    "            avg_probs = np.mean(pred_probs, axis = 0)\n",
    "            \n",
    "            #Each column of \"avg_probs\" contains the average probabilities for a specific class; thus, to have the label of each sample, we have to take the \n",
    "            #argmax over all the columns argmax([... n_classes ...]).\n",
    "            labels = np.argmax(avg_probs, axis = 1)\n",
    "    \n",
    "            return labels, avg_probs\n",
    "        elif type == \"voting\":\n",
    "            #For each sample, voting fractions are represented by an array of length n_classes and we have n_samples samples, so\n",
    "            #the matrix has shape (n_samples, n_classes)\n",
    "            voting_fractions = np.zeros((X.shape[0], self.trees[0].num_classes))  \n",
    "\n",
    "            #Each row of pred_labels contains the labels assigned to all the samples by a specific tree, so to compute the voting fraction, we need to \n",
    "            #count the frequencies of each label in a certain column and then normalize them\n",
    "            for sample_idx in range(X.shape[0]):\n",
    "            \n",
    "                #Count the number of trees voting for each class for the current sample: min_length = num_classes is used so that even if all \n",
    "                #trees agree on a certain label the resulting voting_fractions array will have length n_classes ([0, 0, ..., 1, ..., 0, 0])\n",
    "                class_counts = np.bincount(pred_labels[:, sample_idx], minlength = self.trees[0].num_classes)\n",
    "                \n",
    "                #Then, normalize to obtain a value in [0, 1]\n",
    "                voting_fractions[sample_idx] = class_counts / self.n_trees\n",
    "\n",
    "            #The predicted label is the one with the largest voting fraction\n",
    "            labels = np.argmax(voting_fractions, axis = 1)\n",
    "\n",
    "            return labels, voting_fractions\n",
    "        else:\n",
    "            raise ValueError(f\"Parameter 'type' should be either 'prob' or 'voting', got {type}\")\n"
   ]
  },
  {
   "cell_type": "markdown",
   "metadata": {},
   "source": [
    "### ***Usage of the model***"
   ]
  },
  {
   "cell_type": "code",
   "execution_count": 28,
   "metadata": {},
   "outputs": [],
   "source": [
    "import pandas as pd\n",
    "from sklearn.model_selection import train_test_split\n",
    "import numpy as np\n",
    "\n",
    "import sys\n",
    "sys.path.append(\"..\")\n",
    "\n",
    "from utils.preprocessing import undersample, fit_resample\n",
    "\n",
    "import utils.model_evaluation as me\n",
    "import matplotlib.pyplot as plt"
   ]
  },
  {
   "cell_type": "code",
   "execution_count": 29,
   "metadata": {},
   "outputs": [],
   "source": [
    "#Load the dataset\n",
    "init_data = pd.read_csv(\"../creditcard_2021.csv\")\n",
    "data = init_data[me.feature_vectors[\"v5\"] + [\"Class\"]]\n",
    "\n",
    "#\"Class\" column is the target variable, so we remove it from the feature matrix and store it in the variable y\n",
    "X = data.drop(columns = [\"Class\"])\n",
    "y = data[\"Class\"]\n",
    "\n",
    "X = np.array(X)\n",
    "y = np.array(y)"
   ]
  },
  {
   "cell_type": "code",
   "execution_count": 30,
   "metadata": {},
   "outputs": [],
   "source": [
    "#Split the dataset into training and testing sets\n",
    "X_train, X_test, y_train, y_test = train_test_split(X, y, test_size = 0.3, random_state = 0)"
   ]
  },
  {
   "cell_type": "code",
   "execution_count": 31,
   "metadata": {},
   "outputs": [],
   "source": [
    "#Note: in contrast with what have been done for DT, here we apply SMOTE because we have observed experimentally that it increases the recall with slight decrease of the precision on the testing set\n",
    "X_smote = fit_resample(X_train[y_train == 1], 2500, 10)\n",
    "\n",
    "X_train = np.vstack((X_train, X_smote))\n",
    "y_train = np.hstack((y_train, [1] * 2500))"
   ]
  },
  {
   "cell_type": "code",
   "execution_count": 40,
   "metadata": {},
   "outputs": [],
   "source": [
    "rf = RandomForest(n_trees = 25,\n",
    "                  criterion = \"entropy\", \n",
    "                  max_depth = 15, \n",
    "                  min_samples_split = 2, \n",
    "                  min_samples_leaf = 1, \n",
    "                  min_impurity_decrease = 1e-7, #Important parameter: small changes can lead to big differences in the tree and its performance\n",
    "                  max_thresholds = 75, \n",
    "                  random_state = 0)"
   ]
  },
  {
   "cell_type": "code",
   "execution_count": 41,
   "metadata": {},
   "outputs": [
    {
     "name": "stderr",
     "output_type": "stream",
     "text": [
      "Training of RF: 100%|██████████| 25/25 [03:39<00:00,  8.80s/it]\n"
     ]
    }
   ],
   "source": [
    "#Once defined, we can train the model\n",
    "rf.fit(X_train, y_train)"
   ]
  },
  {
   "cell_type": "code",
   "execution_count": 42,
   "metadata": {},
   "outputs": [
    {
     "data": {
      "text/plain": [
       "array([0, 0, 0, ..., 0, 0, 0], shape=(85443,))"
      ]
     },
     "execution_count": 42,
     "metadata": {},
     "output_type": "execute_result"
    }
   ],
   "source": [
    "#Once trained, we can make predictions with type = \"prob\"\n",
    "y_pred, votes = rf.predict(X_test, type = \"prob\")\n",
    "y_pred"
   ]
  },
  {
   "cell_type": "code",
   "execution_count": 43,
   "metadata": {},
   "outputs": [
    {
     "data": {
      "text/plain": [
       "array([[1.00000000e+00, 0.00000000e+00],\n",
       "       [1.00000000e+00, 0.00000000e+00],\n",
       "       [1.00000000e+00, 0.00000000e+00],\n",
       "       ...,\n",
       "       [9.99948254e-01, 5.17464424e-05],\n",
       "       [1.00000000e+00, 0.00000000e+00],\n",
       "       [1.00000000e+00, 0.00000000e+00]], shape=(85443, 2))"
      ]
     },
     "execution_count": 43,
     "metadata": {},
     "output_type": "execute_result"
    }
   ],
   "source": [
    "votes"
   ]
  },
  {
   "cell_type": "code",
   "execution_count": 44,
   "metadata": {},
   "outputs": [
    {
     "name": "stdout",
     "output_type": "stream",
     "text": [
      "Precision: 0.9291338582677166\n",
      "Recall: 0.8027210884353742\n",
      "F1 Score: 0.8613138686131387\n",
      "Accuracy: 0.9995552590615966\n",
      "AUC Score: 0.9637972591963067\n"
     ]
    },
    {
     "data": {
      "image/png": "[encoded data removed]",
      "text/plain": [
       "<Figure size 640x480 with 1 Axes>"
      ]
     },
     "metadata": {},
     "output_type": "display_data"
    }
   ],
   "source": [
    "metrics = me.compute_metrics(y_test, y_pred)\n",
    "\n",
    "print(\"Precision:\", metrics[\"precision\"][0])\n",
    "print(\"Recall:\", metrics[\"recall\"][0])\n",
    "print(\"F1 Score:\", metrics[\"f1-score\"][0])\n",
    "print(\"Accuracy:\", metrics[\"accuracy\"][0])\n",
    "\n",
    "fpr, tpr, auc = me.compute_roc_auc(y_test, votes[:, 1])\n",
    "print(\"AUC Score:\", auc)\n",
    "\n",
    "plt.plot(fpr, tpr)\n",
    "plt.xlabel(\"False Positive Rate\")\n",
    "plt.ylabel(\"True Positive Rate\")\n",
    "plt.title(\"ROC curve\")\n",
    "plt.tight_layout()\n",
    "plt.show()"
   ]
  },
  {
   "cell_type": "code",
   "execution_count": 45,
   "metadata": {},
   "outputs": [
    {
     "data": {
      "text/plain": [
       "array([0, 0, 0, ..., 0, 0, 0], shape=(85443,))"
      ]
     },
     "execution_count": 45,
     "metadata": {},
     "output_type": "execute_result"
    }
   ],
   "source": [
    "#Or we can make predictions with type = \"voting\"\n",
    "y_pred, votes = rf.predict(X_test, type = \"voting\")\n",
    "y_pred"
   ]
  },
  {
   "cell_type": "code",
   "execution_count": 46,
   "metadata": {},
   "outputs": [
    {
     "data": {
      "text/plain": [
       "array([[1., 0.],\n",
       "       [1., 0.],\n",
       "       [1., 0.],\n",
       "       ...,\n",
       "       [1., 0.],\n",
       "       [1., 0.],\n",
       "       [1., 0.]], shape=(85443, 2))"
      ]
     },
     "execution_count": 46,
     "metadata": {},
     "output_type": "execute_result"
    }
   ],
   "source": [
    "votes"
   ]
  },
  {
   "cell_type": "code",
   "execution_count": 47,
   "metadata": {},
   "outputs": [
    {
     "name": "stdout",
     "output_type": "stream",
     "text": [
      "Precision: 0.9291338582677166\n",
      "Recall: 0.8027210884353742\n",
      "F1 Score: 0.8613138686131387\n",
      "Accuracy: 0.9995552590615966\n",
      "AUC Score: 0.9407440452264192\n"
     ]
    },
    {
     "data": {
      "image/png": "[encoded data removed]",
      "text/plain": [
       "<Figure size 640x480 with 1 Axes>"
      ]
     },
     "metadata": {},
     "output_type": "display_data"
    }
   ],
   "source": [
    "metrics = me.compute_metrics(y_test, y_pred)\n",
    "\n",
    "print(\"Precision:\", metrics[\"precision\"][0])\n",
    "print(\"Recall:\", metrics[\"recall\"][0])\n",
    "print(\"F1 Score:\", metrics[\"f1-score\"][0])\n",
    "print(\"Accuracy:\", metrics[\"accuracy\"][0])\n",
    "\n",
    "fpr, tpr, auc = me.compute_roc_auc(y_test, votes[:, 1])\n",
    "print(\"AUC Score:\", auc)\n",
    "\n",
    "plt.plot(fpr, tpr)\n",
    "plt.xlabel(\"False Positive Rate\")\n",
    "plt.ylabel(\"True Positive Rate\")\n",
    "plt.title(\"ROC curve\")\n",
    "plt.tight_layout()\n",
    "plt.show()"
   ]
  },
  {
   "cell_type": "code",
   "execution_count": 25,
   "metadata": {},
   "outputs": [
    {
     "name": "stdout",
     "output_type": "stream",
     "text": [
      "Current feature vector: ['V1', 'V5', 'V7', 'V8', 'V11', 'V13', 'V14', 'V15', 'V16', 'V17', 'V18', 'V19', 'V20', 'V21', 'V22', 'V23', 'V24', 'Amount']\n"
     ]
    },
    {
     "name": "stderr",
     "output_type": "stream",
     "text": [
      "Training of RF: 100%|██████████| 25/25 [04:10<00:00, 10.02s/it]\n"
     ]
    },
    {
     "name": "stdout",
     "output_type": "stream",
     "text": [
      "\n",
      "Current feature vector: ['V1', 'V6', 'V13', 'V16', 'V17', 'V22', 'V23', 'V28', 'Amount']\n"
     ]
    },
    {
     "name": "stderr",
     "output_type": "stream",
     "text": [
      "Training of RF: 100%|██████████| 25/25 [03:35<00:00,  8.61s/it]\n"
     ]
    },
    {
     "name": "stdout",
     "output_type": "stream",
     "text": [
      "\n",
      "Current feature vector: ['V2', 'V11', 'V12', 'V13', 'V15', 'V16', 'V17', 'V18', 'V20', 'V21', 'V24', 'V26', 'Amount']\n"
     ]
    },
    {
     "name": "stderr",
     "output_type": "stream",
     "text": [
      "Training of RF: 100%|██████████| 25/25 [03:18<00:00,  7.93s/it]\n"
     ]
    },
    {
     "name": "stdout",
     "output_type": "stream",
     "text": [
      "\n",
      "Current feature vector: ['V2', 'V7', 'V10', 'V13', 'V15', 'V17', 'V19', 'V28', 'Amount']\n"
     ]
    },
    {
     "name": "stderr",
     "output_type": "stream",
     "text": [
      "Training of RF: 100%|██████████| 25/25 [03:19<00:00,  7.97s/it]\n"
     ]
    },
    {
     "name": "stdout",
     "output_type": "stream",
     "text": [
      "\n",
      "Current feature vector: ['Time', 'V1', 'V7', 'V8', 'V9', 'V11', 'V12', 'V14', 'V15', 'V22', 'V27', 'V28', 'Amount']\n"
     ]
    },
    {
     "name": "stderr",
     "output_type": "stream",
     "text": [
      "Training of RF: 100%|██████████| 25/25 [02:54<00:00,  7.00s/it]\n"
     ]
    },
    {
     "name": "stdout",
     "output_type": "stream",
     "text": [
      "\n",
      "Current feature vector: ['Time', 'V1', 'V2', 'V3', 'V4', 'V5', 'V6', 'V7', 'V8', 'V9', 'V10', 'V11', 'V12', 'V13', 'V14', 'V15', 'V16', 'V17', 'V18', 'V19', 'V20', 'V21', 'V22', 'V23', 'V24', 'V25', 'V26', 'V27', 'V28', 'Amount']\n"
     ]
    },
    {
     "name": "stderr",
     "output_type": "stream",
     "text": [
      "Training of RF: 100%|██████████| 25/25 [04:54<00:00, 11.79s/it]\n"
     ]
    },
    {
     "name": "stdout",
     "output_type": "stream",
     "text": [
      "\n",
      "Current feature vector: ['V1', 'V2', 'V3', 'V4', 'V5', 'V6', 'V7', 'V8', 'V9', 'V10', 'V11', 'V12', 'V13', 'V14', 'V15', 'V16', 'V17', 'V18', 'V19', 'V20', 'V21', 'V22', 'V23', 'V24', 'V25', 'V26', 'V27', 'V28', 'Amount']\n"
     ]
    },
    {
     "name": "stderr",
     "output_type": "stream",
     "text": [
      "Training of RF: 100%|██████████| 25/25 [04:40<00:00, 11.23s/it]\n"
     ]
    },
    {
     "name": "stdout",
     "output_type": "stream",
     "text": [
      "\n"
     ]
    }
   ],
   "source": [
    "params = {\n",
    "    \"n_trees\" : 25,\n",
    "    \"criterion\" : \"entropy\", \n",
    "    \"max_depth\" : 15, \n",
    "    \"min_samples_split\" : 5, \n",
    "    \"min_samples_leaf\" : 2, \n",
    "    \"min_impurity_decrease\" : 1e-5, \n",
    "    \"max_thresholds\" : 75, \n",
    "    \"random_state\" : 0\n",
    "}\n",
    "\n",
    "metrics_training = pd.DataFrame()\n",
    "metrics_testing = pd.DataFrame()\n",
    "\n",
    "roc_auc_training = {}\n",
    "roc_auc_testing = {}\n",
    "\n",
    "X_2 = init_data.drop(columns = [\"Class\"])\n",
    "y_2 = data[\"Class\"]\n",
    "\n",
    "X_2 = np.array(X_2)\n",
    "y_2 = np.array(y_2)\n",
    "\n",
    "X_train, X_test, y_train, y_test = train_test_split(X_2, y_2, test_size = 0.3, random_state = 0)\n",
    "\n",
    "X_smote = fit_resample(X_train[y_train == 1], 2500, 10)\n",
    "X_train = np.vstack((X_train, X_smote))\n",
    "y_train = np.hstack((y_train, [1] * 2500))\n",
    "\n",
    "for key, value in me.feature_vectors.items():\n",
    "    print(f\"Current feature vector: {value}\")\n",
    "\n",
    "    X_tr = X_train[:, np.array(me.feature_masks[key]).astype(bool)]\n",
    "    X_te = X_test[:, np.array(me.feature_masks[key]).astype(bool)]\n",
    "\n",
    "    rf = RandomForest(**params)\n",
    "\n",
    "    rf.fit(X_tr, y_train)\n",
    "    y_pred, y_prob = rf.predict(X_tr, type = \"prob\")\n",
    "\n",
    "    metrics_training = me.compute_metrics(y_train, y_pred, metrics_df = metrics_training, dataset_label = key)\n",
    "    roc_auc_training[key] = me.compute_roc_auc(y_train, y_prob[:, 1])\n",
    "\n",
    "    y_pred, y_prob = rf.predict(X_te, type = \"prob\")\n",
    "    \n",
    "    metrics_testing = me.compute_metrics(y_test, y_pred, metrics_df = metrics_testing, dataset_label = key)\n",
    "    roc_auc_testing[key] = me.compute_roc_auc(y_test, y_prob[:, 1])\n",
    "    \n",
    "    print(\"\")"
   ]
  },
  {
   "cell_type": "code",
   "execution_count": 26,
   "metadata": {},
   "outputs": [
    {
     "data": {
      "text/html": [
       "<div>\n",
       "<style scoped>\n",
       "    .dataframe tbody tr th:only-of-type {\n",
       "        vertical-align: middle;\n",
       "    }\n",
       "\n",
       "    .dataframe tbody tr th {\n",
       "        vertical-align: top;\n",
       "    }\n",
       "\n",
       "    .dataframe thead th {\n",
       "        text-align: right;\n",
       "    }\n",
       "</style>\n",
       "<table border=\"1\" class=\"dataframe\">\n",
       "  <thead>\n",
       "    <tr style=\"text-align: right;\">\n",
       "      <th></th>\n",
       "      <th>set of features</th>\n",
       "      <th>tp</th>\n",
       "      <th>tn</th>\n",
       "      <th>fp</th>\n",
       "      <th>fn</th>\n",
       "      <th>accuracy</th>\n",
       "      <th>recall</th>\n",
       "      <th>precision</th>\n",
       "      <th>f1-score</th>\n",
       "      <th>total transaction</th>\n",
       "      <th>fraud transactions</th>\n",
       "    </tr>\n",
       "  </thead>\n",
       "  <tbody>\n",
       "    <tr>\n",
       "      <th>0</th>\n",
       "      <td>v1</td>\n",
       "      <td>2723</td>\n",
       "      <td>199017</td>\n",
       "      <td>2</td>\n",
       "      <td>122</td>\n",
       "      <td>0.999386</td>\n",
       "      <td>0.957118</td>\n",
       "      <td>0.999266</td>\n",
       "      <td>0.977738</td>\n",
       "      <td>201864</td>\n",
       "      <td>2845</td>\n",
       "    </tr>\n",
       "    <tr>\n",
       "      <th>1</th>\n",
       "      <td>v2</td>\n",
       "      <td>2576</td>\n",
       "      <td>199011</td>\n",
       "      <td>8</td>\n",
       "      <td>269</td>\n",
       "      <td>0.998628</td>\n",
       "      <td>0.905448</td>\n",
       "      <td>0.996904</td>\n",
       "      <td>0.948978</td>\n",
       "      <td>201864</td>\n",
       "      <td>2845</td>\n",
       "    </tr>\n",
       "    <tr>\n",
       "      <th>2</th>\n",
       "      <td>v3</td>\n",
       "      <td>2663</td>\n",
       "      <td>199012</td>\n",
       "      <td>7</td>\n",
       "      <td>182</td>\n",
       "      <td>0.999064</td>\n",
       "      <td>0.936028</td>\n",
       "      <td>0.997378</td>\n",
       "      <td>0.965730</td>\n",
       "      <td>201864</td>\n",
       "      <td>2845</td>\n",
       "    </tr>\n",
       "    <tr>\n",
       "      <th>3</th>\n",
       "      <td>v4</td>\n",
       "      <td>2695</td>\n",
       "      <td>199010</td>\n",
       "      <td>9</td>\n",
       "      <td>150</td>\n",
       "      <td>0.999212</td>\n",
       "      <td>0.947276</td>\n",
       "      <td>0.996672</td>\n",
       "      <td>0.971346</td>\n",
       "      <td>201864</td>\n",
       "      <td>2845</td>\n",
       "    </tr>\n",
       "    <tr>\n",
       "      <th>4</th>\n",
       "      <td>v5</td>\n",
       "      <td>2737</td>\n",
       "      <td>199014</td>\n",
       "      <td>5</td>\n",
       "      <td>108</td>\n",
       "      <td>0.999440</td>\n",
       "      <td>0.962039</td>\n",
       "      <td>0.998177</td>\n",
       "      <td>0.979774</td>\n",
       "      <td>201864</td>\n",
       "      <td>2845</td>\n",
       "    </tr>\n",
       "    <tr>\n",
       "      <th>5</th>\n",
       "      <td>v6</td>\n",
       "      <td>2790</td>\n",
       "      <td>199017</td>\n",
       "      <td>2</td>\n",
       "      <td>55</td>\n",
       "      <td>0.999718</td>\n",
       "      <td>0.980668</td>\n",
       "      <td>0.999284</td>\n",
       "      <td>0.989888</td>\n",
       "      <td>201864</td>\n",
       "      <td>2845</td>\n",
       "    </tr>\n",
       "    <tr>\n",
       "      <th>6</th>\n",
       "      <td>v7</td>\n",
       "      <td>2795</td>\n",
       "      <td>199013</td>\n",
       "      <td>6</td>\n",
       "      <td>50</td>\n",
       "      <td>0.999723</td>\n",
       "      <td>0.982425</td>\n",
       "      <td>0.997858</td>\n",
       "      <td>0.990081</td>\n",
       "      <td>201864</td>\n",
       "      <td>2845</td>\n",
       "    </tr>\n",
       "  </tbody>\n",
       "</table>\n",
       "</div>"
      ],
      "text/plain": [
       "  set of features    tp      tn  fp   fn  accuracy    recall  precision  \\\n",
       "0              v1  2723  199017   2  122  0.999386  0.957118   0.999266   \n",
       "1              v2  2576  199011   8  269  0.998628  0.905448   0.996904   \n",
       "2              v3  2663  199012   7  182  0.999064  0.936028   0.997378   \n",
       "3              v4  2695  199010   9  150  0.999212  0.947276   0.996672   \n",
       "4              v5  2737  199014   5  108  0.999440  0.962039   0.998177   \n",
       "5              v6  2790  199017   2   55  0.999718  0.980668   0.999284   \n",
       "6              v7  2795  199013   6   50  0.999723  0.982425   0.997858   \n",
       "\n",
       "   f1-score  total transaction  fraud transactions  \n",
       "0  0.977738             201864                2845  \n",
       "1  0.948978             201864                2845  \n",
       "2  0.965730             201864                2845  \n",
       "3  0.971346             201864                2845  \n",
       "4  0.979774             201864                2845  \n",
       "5  0.989888             201864                2845  \n",
       "6  0.990081             201864                2845  "
      ]
     },
     "execution_count": 26,
     "metadata": {},
     "output_type": "execute_result"
    }
   ],
   "source": [
    "#Metrics for training\n",
    "metrics_training"
   ]
  },
  {
   "cell_type": "code",
   "execution_count": 27,
   "metadata": {},
   "outputs": [
    {
     "data": {
      "text/html": [
       "<div>\n",
       "<style scoped>\n",
       "    .dataframe tbody tr th:only-of-type {\n",
       "        vertical-align: middle;\n",
       "    }\n",
       "\n",
       "    .dataframe tbody tr th {\n",
       "        vertical-align: top;\n",
       "    }\n",
       "\n",
       "    .dataframe thead th {\n",
       "        text-align: right;\n",
       "    }\n",
       "</style>\n",
       "<table border=\"1\" class=\"dataframe\">\n",
       "  <thead>\n",
       "    <tr style=\"text-align: right;\">\n",
       "      <th></th>\n",
       "      <th>set of features</th>\n",
       "      <th>tp</th>\n",
       "      <th>tn</th>\n",
       "      <th>fp</th>\n",
       "      <th>fn</th>\n",
       "      <th>accuracy</th>\n",
       "      <th>recall</th>\n",
       "      <th>precision</th>\n",
       "      <th>f1-score</th>\n",
       "      <th>total transaction</th>\n",
       "      <th>fraud transactions</th>\n",
       "    </tr>\n",
       "  </thead>\n",
       "  <tbody>\n",
       "    <tr>\n",
       "      <th>0</th>\n",
       "      <td>v1</td>\n",
       "      <td>119</td>\n",
       "      <td>85285</td>\n",
       "      <td>11</td>\n",
       "      <td>28</td>\n",
       "      <td>0.999544</td>\n",
       "      <td>0.809524</td>\n",
       "      <td>0.915385</td>\n",
       "      <td>0.859206</td>\n",
       "      <td>85443</td>\n",
       "      <td>147</td>\n",
       "    </tr>\n",
       "    <tr>\n",
       "      <th>1</th>\n",
       "      <td>v2</td>\n",
       "      <td>115</td>\n",
       "      <td>85279</td>\n",
       "      <td>17</td>\n",
       "      <td>32</td>\n",
       "      <td>0.999427</td>\n",
       "      <td>0.782313</td>\n",
       "      <td>0.871212</td>\n",
       "      <td>0.824373</td>\n",
       "      <td>85443</td>\n",
       "      <td>147</td>\n",
       "    </tr>\n",
       "    <tr>\n",
       "      <th>2</th>\n",
       "      <td>v3</td>\n",
       "      <td>117</td>\n",
       "      <td>85280</td>\n",
       "      <td>16</td>\n",
       "      <td>30</td>\n",
       "      <td>0.999462</td>\n",
       "      <td>0.795918</td>\n",
       "      <td>0.879699</td>\n",
       "      <td>0.835714</td>\n",
       "      <td>85443</td>\n",
       "      <td>147</td>\n",
       "    </tr>\n",
       "    <tr>\n",
       "      <th>3</th>\n",
       "      <td>v4</td>\n",
       "      <td>118</td>\n",
       "      <td>85280</td>\n",
       "      <td>16</td>\n",
       "      <td>29</td>\n",
       "      <td>0.999473</td>\n",
       "      <td>0.802721</td>\n",
       "      <td>0.880597</td>\n",
       "      <td>0.839858</td>\n",
       "      <td>85443</td>\n",
       "      <td>147</td>\n",
       "    </tr>\n",
       "    <tr>\n",
       "      <th>4</th>\n",
       "      <td>v5</td>\n",
       "      <td>119</td>\n",
       "      <td>85286</td>\n",
       "      <td>10</td>\n",
       "      <td>28</td>\n",
       "      <td>0.999555</td>\n",
       "      <td>0.809524</td>\n",
       "      <td>0.922481</td>\n",
       "      <td>0.862319</td>\n",
       "      <td>85443</td>\n",
       "      <td>147</td>\n",
       "    </tr>\n",
       "    <tr>\n",
       "      <th>5</th>\n",
       "      <td>v6</td>\n",
       "      <td>121</td>\n",
       "      <td>85282</td>\n",
       "      <td>14</td>\n",
       "      <td>26</td>\n",
       "      <td>0.999532</td>\n",
       "      <td>0.823129</td>\n",
       "      <td>0.896296</td>\n",
       "      <td>0.858156</td>\n",
       "      <td>85443</td>\n",
       "      <td>147</td>\n",
       "    </tr>\n",
       "    <tr>\n",
       "      <th>6</th>\n",
       "      <td>v7</td>\n",
       "      <td>119</td>\n",
       "      <td>85281</td>\n",
       "      <td>15</td>\n",
       "      <td>28</td>\n",
       "      <td>0.999497</td>\n",
       "      <td>0.809524</td>\n",
       "      <td>0.888060</td>\n",
       "      <td>0.846975</td>\n",
       "      <td>85443</td>\n",
       "      <td>147</td>\n",
       "    </tr>\n",
       "  </tbody>\n",
       "</table>\n",
       "</div>"
      ],
      "text/plain": [
       "  set of features   tp     tn  fp  fn  accuracy    recall  precision  \\\n",
       "0              v1  119  85285  11  28  0.999544  0.809524   0.915385   \n",
       "1              v2  115  85279  17  32  0.999427  0.782313   0.871212   \n",
       "2              v3  117  85280  16  30  0.999462  0.795918   0.879699   \n",
       "3              v4  118  85280  16  29  0.999473  0.802721   0.880597   \n",
       "4              v5  119  85286  10  28  0.999555  0.809524   0.922481   \n",
       "5              v6  121  85282  14  26  0.999532  0.823129   0.896296   \n",
       "6              v7  119  85281  15  28  0.999497  0.809524   0.888060   \n",
       "\n",
       "   f1-score  total transaction  fraud transactions  \n",
       "0  0.859206              85443                 147  \n",
       "1  0.824373              85443                 147  \n",
       "2  0.835714              85443                 147  \n",
       "3  0.839858              85443                 147  \n",
       "4  0.862319              85443                 147  \n",
       "5  0.858156              85443                 147  \n",
       "6  0.846975              85443                 147  "
      ]
     },
     "execution_count": 27,
     "metadata": {},
     "output_type": "execute_result"
    }
   ],
   "source": [
    "#Metrics for testing\n",
    "metrics_testing"
   ]
  },
  {
   "cell_type": "code",
   "execution_count": null,
   "metadata": {},
   "outputs": [
    {
     "data": {
      "image/png": "[encoded data removed]",
      "text/plain": [
       "<Figure size 1000x500 with 2 Axes>"
      ]
     },
     "metadata": {},
     "output_type": "display_data"
    },
    {
     "name": "stdout",
     "output_type": "stream",
     "text": [
      "Training AUC:\n",
      "v1 -> 0.9999957418554531\n",
      "v2 -> 0.9999691191798408\n",
      "v3 -> 0.999992089494224\n",
      "v4 -> 0.9999916956467609\n",
      "v5 -> 0.9999969419422302\n",
      "v6 -> 0.9999988361189314\n",
      "v7 -> 0.9999984731787802\n",
      "\n",
      "Testing AUC:\n",
      "v1 -> 0.955074055039386\n",
      "v2 -> 0.9180580997170956\n",
      "v3 -> 0.9525930588892844\n",
      "v4 -> 0.9464364272251765\n",
      "v5 -> 0.9449522000696733\n",
      "v6 -> 0.9589443707514894\n",
      "v7 -> 0.9523325016556989\n"
     ]
    }
   ],
   "source": [
    "fig, axs = plt.subplots(1, 2, figsize = (10, 5))\n",
    "\n",
    "#ROC curve for training\n",
    "for i in roc_auc_training.keys():\n",
    "    axs[0].plot(roc_auc_training[i][0], roc_auc_training[i][1], label = i)\n",
    "    axs[0].set_xlabel(\"False Positive Rate\")\n",
    "    axs[0].set_ylabel(\"True Positive Rate\")\n",
    "    axs[0].set_title(\"ROC curve for training\")\n",
    "    axs[0].legend()\n",
    "\n",
    "#ROC curve for testing\n",
    "for i in roc_auc_testing.keys():\n",
    "    axs[1].plot(roc_auc_testing[i][0], roc_auc_testing[i][1], label = i)\n",
    "    axs[1].set_xlabel(\"False Positive Rate\")\n",
    "    axs[1].set_ylabel(\"True Positive Rate\")\n",
    "    axs[1].set_title(\"ROC curve for testing\")\n",
    "    axs[1].legend()\n",
    "\n",
    "plt.tight_layout()\n",
    "plt.show()\n",
    "\n",
    "print(\"Training AUC:\")\n",
    "for i, auc in roc_auc_training.items():\n",
    "    print(f\"{i} -> {auc[2]}\")\n",
    "\n",
    "print(\"\\nTesting AUC:\")\n",
    "for i, auc in roc_auc_testing.items():\n",
    "    print(f\"{i} -> {auc[2]}\")"
   ]
  },
  {
   "cell_type": "code",
   "execution_count": 6,
   "metadata": {},
   "outputs": [],
   "source": [
    "#One thing that we can try to do is undersampling:\n",
    "X_train, X_test, y_train, y_test = train_test_split(X, y, test_size = 0.3, random_state = 0)\n",
    "\n",
    "X_train, y_train = undersample(X_train, y_train, 0, 1 - (sum(y_train) * 300.0 / X_train.shape[0]))"
   ]
  },
  {
   "cell_type": "code",
   "execution_count": 7,
   "metadata": {},
   "outputs": [],
   "source": [
    "rf = RandomForest(n_trees = 20,\n",
    "                  criterion = \"gini\", \n",
    "                  max_depth = 10, \n",
    "                  min_samples_split = 2, \n",
    "                  min_samples_leaf = 1, \n",
    "                  min_impurity_decrease = 0.0, #Important parameter: small changes can lead to big differences in the tree and its performance (1e-5)\n",
    "                  max_thresholds = 20, \n",
    "                  random_state = 0)"
   ]
  },
  {
   "cell_type": "code",
   "execution_count": 8,
   "metadata": {},
   "outputs": [
    {
     "name": "stderr",
     "output_type": "stream",
     "text": [
      "Training of RF: 100%|██████████| 20/20 [00:18<00:00,  1.06it/s]\n"
     ]
    }
   ],
   "source": [
    "#Once defined, we can train the model\n",
    "rf.fit(X_train, y_train)"
   ]
  },
  {
   "cell_type": "code",
   "execution_count": 9,
   "metadata": {},
   "outputs": [
    {
     "data": {
      "text/plain": [
       "array([0, 0, 0, ..., 0, 0, 0], shape=(85443,))"
      ]
     },
     "execution_count": 9,
     "metadata": {},
     "output_type": "execute_result"
    }
   ],
   "source": [
    "#Once trained, we can make predictions\n",
    "y_pred, votes = rf.predict(X_test)\n",
    "y_pred"
   ]
  },
  {
   "cell_type": "code",
   "execution_count": 10,
   "metadata": {},
   "outputs": [
    {
     "name": "stdout",
     "output_type": "stream",
     "text": [
      "Precision: 0.9487179487179487\n",
      "Recall: 0.7551020408163265\n",
      "F1 Score: 0.8409090909090908\n",
      "Accuracy: 0.9995084442259752\n",
      "AUC Score: 0.9582330423259156\n"
     ]
    },
    {
     "data": {
      "image/png": "[encoded data removed]",
      "text/plain": [
       "<Figure size 640x480 with 1 Axes>"
      ]
     },
     "metadata": {},
     "output_type": "display_data"
    }
   ],
   "source": [
    "metrics = me.compute_metrics(y_test, y_pred)\n",
    "\n",
    "print(\"Precision:\", metrics[\"precision\"][0])\n",
    "print(\"Recall:\", metrics[\"recall\"][0])\n",
    "print(\"F1 Score:\", metrics[\"f1-score\"][0])\n",
    "print(\"Accuracy:\", metrics[\"accuracy\"][0])\n",
    "\n",
    "fpr, tpr, auc = me.compute_roc_auc(y_test, votes[:, 1])\n",
    "print(\"AUC Score:\", auc)\n",
    "\n",
    "plt.plot(fpr, tpr)\n",
    "plt.xlabel(\"False Positive Rate\")\n",
    "plt.ylabel(\"True Positive Rate\")\n",
    "plt.title(\"ROC curve\")\n",
    "plt.tight_layout()\n",
    "plt.show()"
   ]
  },
  {
   "cell_type": "code",
   "execution_count": 11,
   "metadata": {},
   "outputs": [
    {
     "name": "stdout",
     "output_type": "stream",
     "text": [
      "Current feature vector: ['V1', 'V5', 'V7', 'V8', 'V11', 'V13', 'V14', 'V15', 'V16', 'V17', 'V18', 'V19', 'V20', 'V21', 'V22', 'V23', 'V24', 'Amount']\n"
     ]
    },
    {
     "name": "stderr",
     "output_type": "stream",
     "text": [
      "Training of RF: 100%|██████████| 20/20 [00:26<00:00,  1.34s/it]\n"
     ]
    },
    {
     "name": "stdout",
     "output_type": "stream",
     "text": [
      "\n",
      "Current feature vector: ['V1', 'V6', 'V13', 'V16', 'V17', 'V22', 'V23', 'V28', 'Amount']\n"
     ]
    },
    {
     "name": "stderr",
     "output_type": "stream",
     "text": [
      "Training of RF: 100%|██████████| 20/20 [00:20<00:00,  1.00s/it]\n"
     ]
    },
    {
     "name": "stdout",
     "output_type": "stream",
     "text": [
      "\n",
      "Current feature vector: ['V2', 'V11', 'V12', 'V13', 'V15', 'V16', 'V17', 'V18', 'V20', 'V21', 'V24', 'V26', 'Amount']\n"
     ]
    },
    {
     "name": "stderr",
     "output_type": "stream",
     "text": [
      "Training of RF: 100%|██████████| 20/20 [00:19<00:00,  1.03it/s]\n"
     ]
    },
    {
     "name": "stdout",
     "output_type": "stream",
     "text": [
      "\n",
      "Current feature vector: ['V2', 'V7', 'V10', 'V13', 'V15', 'V17', 'V19', 'V28', 'Amount']\n"
     ]
    },
    {
     "name": "stderr",
     "output_type": "stream",
     "text": [
      "Training of RF: 100%|██████████| 20/20 [00:19<00:00,  1.03it/s]\n"
     ]
    },
    {
     "name": "stdout",
     "output_type": "stream",
     "text": [
      "\n",
      "Current feature vector: ['Time', 'V1', 'V7', 'V8', 'V9', 'V11', 'V12', 'V14', 'V15', 'V22', 'V27', 'V28', 'Amount']\n"
     ]
    },
    {
     "name": "stderr",
     "output_type": "stream",
     "text": [
      "Training of RF: 100%|██████████| 20/20 [00:18<00:00,  1.07it/s]\n"
     ]
    },
    {
     "name": "stdout",
     "output_type": "stream",
     "text": [
      "\n",
      "Current feature vector: ['Time', 'V1', 'V2', 'V3', 'V4', 'V5', 'V6', 'V7', 'V8', 'V9', 'V10', 'V11', 'V12', 'V13', 'V14', 'V15', 'V16', 'V17', 'V18', 'V19', 'V20', 'V21', 'V22', 'V23', 'V24', 'V25', 'V26', 'V27', 'V28', 'Amount']\n"
     ]
    },
    {
     "name": "stderr",
     "output_type": "stream",
     "text": [
      "Training of RF: 100%|██████████| 20/20 [00:32<00:00,  1.62s/it]\n"
     ]
    },
    {
     "name": "stdout",
     "output_type": "stream",
     "text": [
      "\n",
      "Current feature vector: ['V1', 'V2', 'V3', 'V4', 'V5', 'V6', 'V7', 'V8', 'V9', 'V10', 'V11', 'V12', 'V13', 'V14', 'V15', 'V16', 'V17', 'V18', 'V19', 'V20', 'V21', 'V22', 'V23', 'V24', 'V25', 'V26', 'V27', 'V28', 'Amount']\n"
     ]
    },
    {
     "name": "stderr",
     "output_type": "stream",
     "text": [
      "Training of RF: 100%|██████████| 20/20 [00:31<00:00,  1.59s/it]\n"
     ]
    },
    {
     "name": "stdout",
     "output_type": "stream",
     "text": [
      "\n"
     ]
    }
   ],
   "source": [
    "params = {\n",
    "    \"n_trees\" : 20,\n",
    "    \"criterion\" : \"gini\", \n",
    "    \"max_depth\" : 10, \n",
    "    \"min_samples_split\" : 2, \n",
    "    \"min_samples_leaf\" : 1, \n",
    "    \"min_impurity_decrease\" : 0.0, \n",
    "    \"max_thresholds\" : 20, \n",
    "    \"random_state\" : 0\n",
    "}\n",
    "\n",
    "metrics_training_2 = pd.DataFrame()\n",
    "metrics_testing_2 = pd.DataFrame()\n",
    "\n",
    "roc_auc_training_2 = {}\n",
    "roc_auc_testing_2 = {}\n",
    "\n",
    "X_2 = init_data.drop(columns = [\"Class\"])\n",
    "y_2 = data[\"Class\"]\n",
    "\n",
    "X_2 = np.array(X_2)\n",
    "y_2 = np.array(y_2)\n",
    "\n",
    "X_train, X_test, y_train, y_test = train_test_split(X_2, y_2, test_size = 0.3, random_state = 0)\n",
    "\n",
    "#As done for the previous case, we undersample the dataset\n",
    "X_train, y_train = undersample(X_train, y_train, 0, 1 - (sum(y_train) * 300.0 / X_train.shape[0]))\n",
    "\n",
    "for key, value in me.feature_vectors.items():\n",
    "    print(f\"Current feature vector: {value}\")\n",
    "\n",
    "    X_tr = X_train[:, np.array(me.feature_masks[key]).astype(bool)]\n",
    "    X_te = X_test[:, np.array(me.feature_masks[key]).astype(bool)]\n",
    "\n",
    "    rf = RandomForest(**params)\n",
    "\n",
    "    rf.fit(X_tr, y_train)\n",
    "    y_pred, y_prob = rf.predict(X_tr, type = \"prob\")\n",
    "\n",
    "    metrics_training_2 = me.compute_metrics(y_train, y_pred, metrics_df = metrics_training_2, dataset_label = key)\n",
    "    roc_auc_training_2[key] = me.compute_roc_auc(y_train, y_prob[:, 1])\n",
    "\n",
    "    y_pred, y_prob = rf.predict(X_te, type = \"prob\")\n",
    "    \n",
    "    metrics_testing_2 = me.compute_metrics(y_test, y_pred, metrics_df = metrics_testing_2, dataset_label = key)\n",
    "    roc_auc_testing_2[key] = me.compute_roc_auc(y_test, y_prob[:, 1])\n",
    "    \n",
    "    print(\"\")"
   ]
  },
  {
   "cell_type": "code",
   "execution_count": 30,
   "metadata": {},
   "outputs": [
    {
     "data": {
      "text/html": [
       "<div>\n",
       "<style scoped>\n",
       "    .dataframe tbody tr th:only-of-type {\n",
       "        vertical-align: middle;\n",
       "    }\n",
       "\n",
       "    .dataframe tbody tr th {\n",
       "        vertical-align: top;\n",
       "    }\n",
       "\n",
       "    .dataframe thead th {\n",
       "        text-align: right;\n",
       "    }\n",
       "</style>\n",
       "<table border=\"1\" class=\"dataframe\">\n",
       "  <thead>\n",
       "    <tr style=\"text-align: right;\">\n",
       "      <th></th>\n",
       "      <th>set of features</th>\n",
       "      <th>tp</th>\n",
       "      <th>tn</th>\n",
       "      <th>fp</th>\n",
       "      <th>fn</th>\n",
       "      <th>accuracy</th>\n",
       "      <th>recall</th>\n",
       "      <th>precision</th>\n",
       "      <th>f1-score</th>\n",
       "      <th>total transaction</th>\n",
       "      <th>fraud transactions</th>\n",
       "    </tr>\n",
       "  </thead>\n",
       "  <tbody>\n",
       "    <tr>\n",
       "      <th>0</th>\n",
       "      <td>v1</td>\n",
       "      <td>163</td>\n",
       "      <td>103315</td>\n",
       "      <td>0</td>\n",
       "      <td>21</td>\n",
       "      <td>0.999797</td>\n",
       "      <td>0.885870</td>\n",
       "      <td>1.000000</td>\n",
       "      <td>0.939481</td>\n",
       "      <td>103499</td>\n",
       "      <td>184</td>\n",
       "    </tr>\n",
       "    <tr>\n",
       "      <th>1</th>\n",
       "      <td>v2</td>\n",
       "      <td>161</td>\n",
       "      <td>103314</td>\n",
       "      <td>1</td>\n",
       "      <td>23</td>\n",
       "      <td>0.999768</td>\n",
       "      <td>0.875000</td>\n",
       "      <td>0.993827</td>\n",
       "      <td>0.930636</td>\n",
       "      <td>103499</td>\n",
       "      <td>184</td>\n",
       "    </tr>\n",
       "    <tr>\n",
       "      <th>2</th>\n",
       "      <td>v3</td>\n",
       "      <td>162</td>\n",
       "      <td>103315</td>\n",
       "      <td>0</td>\n",
       "      <td>22</td>\n",
       "      <td>0.999787</td>\n",
       "      <td>0.880435</td>\n",
       "      <td>1.000000</td>\n",
       "      <td>0.936416</td>\n",
       "      <td>103499</td>\n",
       "      <td>184</td>\n",
       "    </tr>\n",
       "    <tr>\n",
       "      <th>3</th>\n",
       "      <td>v4</td>\n",
       "      <td>161</td>\n",
       "      <td>103315</td>\n",
       "      <td>0</td>\n",
       "      <td>23</td>\n",
       "      <td>0.999778</td>\n",
       "      <td>0.875000</td>\n",
       "      <td>1.000000</td>\n",
       "      <td>0.933333</td>\n",
       "      <td>103499</td>\n",
       "      <td>184</td>\n",
       "    </tr>\n",
       "    <tr>\n",
       "      <th>4</th>\n",
       "      <td>v5</td>\n",
       "      <td>165</td>\n",
       "      <td>103315</td>\n",
       "      <td>0</td>\n",
       "      <td>19</td>\n",
       "      <td>0.999816</td>\n",
       "      <td>0.896739</td>\n",
       "      <td>1.000000</td>\n",
       "      <td>0.945559</td>\n",
       "      <td>103499</td>\n",
       "      <td>184</td>\n",
       "    </tr>\n",
       "    <tr>\n",
       "      <th>5</th>\n",
       "      <td>v6</td>\n",
       "      <td>162</td>\n",
       "      <td>103315</td>\n",
       "      <td>0</td>\n",
       "      <td>22</td>\n",
       "      <td>0.999787</td>\n",
       "      <td>0.880435</td>\n",
       "      <td>1.000000</td>\n",
       "      <td>0.936416</td>\n",
       "      <td>103499</td>\n",
       "      <td>184</td>\n",
       "    </tr>\n",
       "    <tr>\n",
       "      <th>6</th>\n",
       "      <td>v7</td>\n",
       "      <td>165</td>\n",
       "      <td>103315</td>\n",
       "      <td>0</td>\n",
       "      <td>19</td>\n",
       "      <td>0.999816</td>\n",
       "      <td>0.896739</td>\n",
       "      <td>1.000000</td>\n",
       "      <td>0.945559</td>\n",
       "      <td>103499</td>\n",
       "      <td>184</td>\n",
       "    </tr>\n",
       "  </tbody>\n",
       "</table>\n",
       "</div>"
      ],
      "text/plain": [
       "  set of features   tp      tn  fp  fn  accuracy    recall  precision  \\\n",
       "0              v1  163  103315   0  21  0.999797  0.885870   1.000000   \n",
       "1              v2  161  103314   1  23  0.999768  0.875000   0.993827   \n",
       "2              v3  162  103315   0  22  0.999787  0.880435   1.000000   \n",
       "3              v4  161  103315   0  23  0.999778  0.875000   1.000000   \n",
       "4              v5  165  103315   0  19  0.999816  0.896739   1.000000   \n",
       "5              v6  162  103315   0  22  0.999787  0.880435   1.000000   \n",
       "6              v7  165  103315   0  19  0.999816  0.896739   1.000000   \n",
       "\n",
       "   f1-score  total transaction  fraud transactions  \n",
       "0  0.939481             103499                 184  \n",
       "1  0.930636             103499                 184  \n",
       "2  0.936416             103499                 184  \n",
       "3  0.933333             103499                 184  \n",
       "4  0.945559             103499                 184  \n",
       "5  0.936416             103499                 184  \n",
       "6  0.945559             103499                 184  "
      ]
     },
     "execution_count": 30,
     "metadata": {},
     "output_type": "execute_result"
    }
   ],
   "source": [
    "#Metrics for training\n",
    "metrics_training_2"
   ]
  },
  {
   "cell_type": "code",
   "execution_count": 31,
   "metadata": {},
   "outputs": [
    {
     "data": {
      "text/html": [
       "<div>\n",
       "<style scoped>\n",
       "    .dataframe tbody tr th:only-of-type {\n",
       "        vertical-align: middle;\n",
       "    }\n",
       "\n",
       "    .dataframe tbody tr th {\n",
       "        vertical-align: top;\n",
       "    }\n",
       "\n",
       "    .dataframe thead th {\n",
       "        text-align: right;\n",
       "    }\n",
       "</style>\n",
       "<table border=\"1\" class=\"dataframe\">\n",
       "  <thead>\n",
       "    <tr style=\"text-align: right;\">\n",
       "      <th></th>\n",
       "      <th>set of features</th>\n",
       "      <th>tp</th>\n",
       "      <th>tn</th>\n",
       "      <th>fp</th>\n",
       "      <th>fn</th>\n",
       "      <th>accuracy</th>\n",
       "      <th>recall</th>\n",
       "      <th>precision</th>\n",
       "      <th>f1-score</th>\n",
       "      <th>total transaction</th>\n",
       "      <th>fraud transactions</th>\n",
       "    </tr>\n",
       "  </thead>\n",
       "  <tbody>\n",
       "    <tr>\n",
       "      <th>0</th>\n",
       "      <td>v1</td>\n",
       "      <td>103</td>\n",
       "      <td>85292</td>\n",
       "      <td>4</td>\n",
       "      <td>44</td>\n",
       "      <td>0.999438</td>\n",
       "      <td>0.700680</td>\n",
       "      <td>0.962617</td>\n",
       "      <td>0.811024</td>\n",
       "      <td>85443</td>\n",
       "      <td>147</td>\n",
       "    </tr>\n",
       "    <tr>\n",
       "      <th>1</th>\n",
       "      <td>v2</td>\n",
       "      <td>95</td>\n",
       "      <td>85285</td>\n",
       "      <td>11</td>\n",
       "      <td>52</td>\n",
       "      <td>0.999263</td>\n",
       "      <td>0.646259</td>\n",
       "      <td>0.896226</td>\n",
       "      <td>0.750988</td>\n",
       "      <td>85443</td>\n",
       "      <td>147</td>\n",
       "    </tr>\n",
       "    <tr>\n",
       "      <th>2</th>\n",
       "      <td>v3</td>\n",
       "      <td>102</td>\n",
       "      <td>85286</td>\n",
       "      <td>10</td>\n",
       "      <td>45</td>\n",
       "      <td>0.999356</td>\n",
       "      <td>0.693878</td>\n",
       "      <td>0.910714</td>\n",
       "      <td>0.787645</td>\n",
       "      <td>85443</td>\n",
       "      <td>147</td>\n",
       "    </tr>\n",
       "    <tr>\n",
       "      <th>3</th>\n",
       "      <td>v4</td>\n",
       "      <td>99</td>\n",
       "      <td>85288</td>\n",
       "      <td>8</td>\n",
       "      <td>48</td>\n",
       "      <td>0.999345</td>\n",
       "      <td>0.673469</td>\n",
       "      <td>0.925234</td>\n",
       "      <td>0.779528</td>\n",
       "      <td>85443</td>\n",
       "      <td>147</td>\n",
       "    </tr>\n",
       "    <tr>\n",
       "      <th>4</th>\n",
       "      <td>v5</td>\n",
       "      <td>110</td>\n",
       "      <td>85290</td>\n",
       "      <td>6</td>\n",
       "      <td>37</td>\n",
       "      <td>0.999497</td>\n",
       "      <td>0.748299</td>\n",
       "      <td>0.948276</td>\n",
       "      <td>0.836502</td>\n",
       "      <td>85443</td>\n",
       "      <td>147</td>\n",
       "    </tr>\n",
       "    <tr>\n",
       "      <th>5</th>\n",
       "      <td>v6</td>\n",
       "      <td>109</td>\n",
       "      <td>85289</td>\n",
       "      <td>7</td>\n",
       "      <td>38</td>\n",
       "      <td>0.999473</td>\n",
       "      <td>0.741497</td>\n",
       "      <td>0.939655</td>\n",
       "      <td>0.828897</td>\n",
       "      <td>85443</td>\n",
       "      <td>147</td>\n",
       "    </tr>\n",
       "    <tr>\n",
       "      <th>6</th>\n",
       "      <td>v7</td>\n",
       "      <td>106</td>\n",
       "      <td>85291</td>\n",
       "      <td>5</td>\n",
       "      <td>41</td>\n",
       "      <td>0.999462</td>\n",
       "      <td>0.721088</td>\n",
       "      <td>0.954955</td>\n",
       "      <td>0.821705</td>\n",
       "      <td>85443</td>\n",
       "      <td>147</td>\n",
       "    </tr>\n",
       "  </tbody>\n",
       "</table>\n",
       "</div>"
      ],
      "text/plain": [
       "  set of features   tp     tn  fp  fn  accuracy    recall  precision  \\\n",
       "0              v1  103  85292   4  44  0.999438  0.700680   0.962617   \n",
       "1              v2   95  85285  11  52  0.999263  0.646259   0.896226   \n",
       "2              v3  102  85286  10  45  0.999356  0.693878   0.910714   \n",
       "3              v4   99  85288   8  48  0.999345  0.673469   0.925234   \n",
       "4              v5  110  85290   6  37  0.999497  0.748299   0.948276   \n",
       "5              v6  109  85289   7  38  0.999473  0.741497   0.939655   \n",
       "6              v7  106  85291   5  41  0.999462  0.721088   0.954955   \n",
       "\n",
       "   f1-score  total transaction  fraud transactions  \n",
       "0  0.811024              85443                 147  \n",
       "1  0.750988              85443                 147  \n",
       "2  0.787645              85443                 147  \n",
       "3  0.779528              85443                 147  \n",
       "4  0.836502              85443                 147  \n",
       "5  0.828897              85443                 147  \n",
       "6  0.821705              85443                 147  "
      ]
     },
     "execution_count": 31,
     "metadata": {},
     "output_type": "execute_result"
    }
   ],
   "source": [
    "#Metrics for testing\n",
    "metrics_testing_2"
   ]
  },
  {
   "cell_type": "code",
   "execution_count": 13,
   "metadata": {},
   "outputs": [
    {
     "data": {
      "image/png": "[encoded data removed]",
      "text/plain": [
       "<Figure size 1000x500 with 2 Axes>"
      ]
     },
     "metadata": {},
     "output_type": "display_data"
    },
    {
     "name": "stdout",
     "output_type": "stream",
     "text": [
      "Training AUC:\n",
      "v1 -> 0.9997073135622259\n",
      "v2 -> 0.9998090018653124\n",
      "v3 -> 0.9999866133272169\n",
      "v4 -> 0.9998858352058573\n",
      "v5 -> 0.999962528518444\n",
      "v6 -> 0.9999855771203279\n",
      "v7 -> 0.9999776515379061\n",
      "\n",
      "Testing AUC:\n",
      "v1 -> 0.9716665741517015\n",
      "v2 -> 0.9285595053065308\n",
      "v3 -> 0.9568448393238367\n",
      "v4 -> 0.9748195399900722\n",
      "v5 -> 0.9582330423259156\n",
      "v6 -> 0.9660306980605033\n",
      "v7 -> 0.9717761565327688\n"
     ]
    }
   ],
   "source": [
    "fig, axs = plt.subplots(1, 2, figsize = (10, 5))\n",
    "\n",
    "#ROC curve for training\n",
    "for i in roc_auc_training_2.keys():\n",
    "    axs[0].plot(roc_auc_training_2[i][0], roc_auc_training_2[i][1], label = i)\n",
    "    axs[0].set_xlabel(\"False Positive Rate\")\n",
    "    axs[0].set_ylabel(\"True Positive Rate\")\n",
    "    axs[0].set_title(\"ROC curve for training\")\n",
    "    axs[0].legend()\n",
    "\n",
    "#ROC curve for testing\n",
    "for i in roc_auc_testing_2.keys():\n",
    "    axs[1].plot(roc_auc_testing_2[i][0], roc_auc_testing_2[i][1], label = i)\n",
    "    axs[1].set_xlabel(\"False Positive Rate\")\n",
    "    axs[1].set_ylabel(\"True Positive Rate\")\n",
    "    axs[1].set_title(\"ROC curve for testing\")\n",
    "    axs[1].legend()\n",
    "\n",
    "plt.tight_layout()\n",
    "plt.show()\n",
    "\n",
    "print(\"Training AUC:\")\n",
    "for i, auc in roc_auc_training_2.items():\n",
    "    print(f\"{i} -> {auc[2]}\")\n",
    "\n",
    "print(\"\\nTesting AUC:\")\n",
    "for i, auc in roc_auc_testing_2.items():\n",
    "    print(f\"{i} -> {auc[2]}\")"
   ]
  },
  {
   "cell_type": "code",
   "execution_count": null,
   "metadata": {},
   "outputs": [
    {
     "name": "stdout",
     "output_type": "stream",
     "text": [
      "Current feature vector: ['V1', 'V5', 'V7', 'V8', 'V11', 'V13', 'V14', 'V15', 'V16', 'V17', 'V18', 'V19', 'V20', 'V21', 'V22', 'V23', 'V24', 'Amount']\n"
     ]
    },
    {
     "name": "stderr",
     "output_type": "stream",
     "text": [
      "Training of RF: 100%|██████████| 10/10 [03:49<00:00, 22.95s/it]\n"
     ]
    },
    {
     "name": "stdout",
     "output_type": "stream",
     "text": [
      "\n",
      "Current feature vector: ['V1', 'V6', 'V13', 'V16', 'V17', 'V22', 'V23', 'V28', 'Amount']\n"
     ]
    },
    {
     "name": "stderr",
     "output_type": "stream",
     "text": [
      "Training of RF: 100%|██████████| 10/10 [03:59<00:00, 23.90s/it]\n"
     ]
    },
    {
     "name": "stdout",
     "output_type": "stream",
     "text": [
      "\n",
      "Current feature vector: ['V2', 'V11', 'V12', 'V13', 'V15', 'V16', 'V17', 'V18', 'V20', 'V21', 'V24', 'V26', 'Amount']\n"
     ]
    },
    {
     "name": "stderr",
     "output_type": "stream",
     "text": [
      "Training of RF: 100%|██████████| 10/10 [04:11<00:00, 25.17s/it]\n"
     ]
    },
    {
     "name": "stdout",
     "output_type": "stream",
     "text": [
      "\n",
      "Current feature vector: ['V2', 'V7', 'V10', 'V13', 'V15', 'V17', 'V19', 'V28', 'Amount']\n"
     ]
    },
    {
     "name": "stderr",
     "output_type": "stream",
     "text": [
      "Training of RF: 100%|██████████| 10/10 [04:04<00:00, 24.47s/it]\n"
     ]
    },
    {
     "name": "stdout",
     "output_type": "stream",
     "text": [
      "\n",
      "Current feature vector: ['Time', 'V1', 'V7', 'V8', 'V9', 'V11', 'V12', 'V14', 'V15', 'V22', 'V27', 'V28', 'Amount']\n"
     ]
    },
    {
     "name": "stderr",
     "output_type": "stream",
     "text": [
      "Training of RF: 100%|██████████| 10/10 [03:29<00:00, 20.98s/it]\n"
     ]
    },
    {
     "name": "stdout",
     "output_type": "stream",
     "text": [
      "\n",
      "Current feature vector: ['Time', 'V1', 'V2', 'V3', 'V4', 'V5', 'V6', 'V7', 'V8', 'V9', 'V10', 'V11', 'V12', 'V13', 'V14', 'V15', 'V16', 'V17', 'V18', 'V19', 'V20', 'V21', 'V22', 'V23', 'V24', 'V25', 'V26', 'V27', 'V28', 'Amount']\n"
     ]
    },
    {
     "name": "stderr",
     "output_type": "stream",
     "text": [
      "Training of RF: 100%|██████████| 10/10 [03:37<00:00, 21.77s/it]\n"
     ]
    },
    {
     "name": "stdout",
     "output_type": "stream",
     "text": [
      "\n",
      "Current feature vector: ['V1', 'V2', 'V3', 'V4', 'V5', 'V6', 'V7', 'V8', 'V9', 'V10', 'V11', 'V12', 'V13', 'V14', 'V15', 'V16', 'V17', 'V18', 'V19', 'V20', 'V21', 'V22', 'V23', 'V24', 'V25', 'V26', 'V27', 'V28', 'Amount']\n"
     ]
    },
    {
     "name": "stderr",
     "output_type": "stream",
     "text": [
      "Training of RF: 100%|██████████| 10/10 [03:37<00:00, 21.74s/it]\n"
     ]
    },
    {
     "name": "stdout",
     "output_type": "stream",
     "text": [
      "\n"
     ]
    }
   ],
   "source": [
    "#Another model with entropy, but a fixed number of features checked when looking for the best split\n",
    "params = {\n",
    "    \"n_trees\" : 10,\n",
    "    \"criterion\" : \"entropy\", \n",
    "    \"max_depth\" : 15, \n",
    "    \"min_samples_split\" : 5, \n",
    "    \"min_samples_leaf\" : 2, \n",
    "    \"min_impurity_decrease\" : 0.0, \n",
    "    \"max_thresholds\" : 75, \n",
    "    \"max_features\" : 10,\n",
    "    \"random_state\" : 0\n",
    "}\n",
    "\n",
    "metrics_training_3 = pd.DataFrame()\n",
    "metrics_testing_3 = pd.DataFrame()\n",
    "\n",
    "roc_auc_training_3 = {}\n",
    "roc_auc_testing_3 = {}\n",
    "\n",
    "X_3 = init_data.drop(columns = [\"Class\"])\n",
    "y_3 = data[\"Class\"]\n",
    "\n",
    "X_3 = np.array(X_3)\n",
    "y_3 = np.array(y_3)\n",
    "\n",
    "X_train, X_test, y_train, y_test = train_test_split(X_3, y_3, test_size = 0.3, random_state = 0)\n",
    "\n",
    "X_smote = fit_resample(X_train[y_train == 1], 2500, 5)\n",
    "X_train = np.vstack((X_train, X_smote))\n",
    "y_train = np.hstack((y_train, [1] * 2500))\n",
    "\n",
    "for key, value in me.feature_vectors.items():\n",
    "    print(f\"Current feature vector: {value}\")\n",
    "\n",
    "    X_tr = X_train[:, np.array(me.feature_masks[key]).astype(bool)]\n",
    "    X_te = X_test[:, np.array(me.feature_masks[key]).astype(bool)]\n",
    "\n",
    "    rf = RandomForest(**params)\n",
    "\n",
    "    rf.fit(X_tr, y_train)\n",
    "    y_pred, y_prob = rf.predict(X_tr, type = \"prob\")\n",
    "\n",
    "    metrics_training_3 = me.compute_metrics(y_train, y_pred, metrics_df = metrics_training_3, dataset_label = key)\n",
    "    roc_auc_training_3[key] = me.compute_roc_auc(y_train, y_prob[:, 1])\n",
    "\n",
    "    y_pred, y_prob = rf.predict(X_te, type = \"prob\")\n",
    "    \n",
    "    metrics_testing_3 = me.compute_metrics(y_test, y_pred, metrics_df = metrics_testing_3, dataset_label = key)\n",
    "    roc_auc_testing_3[key] = me.compute_roc_auc(y_test, y_prob[:, 1])\n",
    "    \n",
    "    print(\"\")"
   ]
  },
  {
   "cell_type": "code",
   "execution_count": 10,
   "metadata": {},
   "outputs": [
    {
     "data": {
      "text/html": [
       "<div>\n",
       "<style scoped>\n",
       "    .dataframe tbody tr th:only-of-type {\n",
       "        vertical-align: middle;\n",
       "    }\n",
       "\n",
       "    .dataframe tbody tr th {\n",
       "        vertical-align: top;\n",
       "    }\n",
       "\n",
       "    .dataframe thead th {\n",
       "        text-align: right;\n",
       "    }\n",
       "</style>\n",
       "<table border=\"1\" class=\"dataframe\">\n",
       "  <thead>\n",
       "    <tr style=\"text-align: right;\">\n",
       "      <th></th>\n",
       "      <th>set of features</th>\n",
       "      <th>tp</th>\n",
       "      <th>tn</th>\n",
       "      <th>fp</th>\n",
       "      <th>fn</th>\n",
       "      <th>accuracy</th>\n",
       "      <th>recall</th>\n",
       "      <th>precision</th>\n",
       "      <th>f1-score</th>\n",
       "      <th>total transaction</th>\n",
       "      <th>fraud transactions</th>\n",
       "    </tr>\n",
       "  </thead>\n",
       "  <tbody>\n",
       "    <tr>\n",
       "      <th>0</th>\n",
       "      <td>v1</td>\n",
       "      <td>2751</td>\n",
       "      <td>199014</td>\n",
       "      <td>5</td>\n",
       "      <td>94</td>\n",
       "      <td>0.999510</td>\n",
       "      <td>0.966960</td>\n",
       "      <td>0.998186</td>\n",
       "      <td>0.982325</td>\n",
       "      <td>201864</td>\n",
       "      <td>2845</td>\n",
       "    </tr>\n",
       "    <tr>\n",
       "      <th>1</th>\n",
       "      <td>v2</td>\n",
       "      <td>2665</td>\n",
       "      <td>199008</td>\n",
       "      <td>11</td>\n",
       "      <td>180</td>\n",
       "      <td>0.999054</td>\n",
       "      <td>0.936731</td>\n",
       "      <td>0.995889</td>\n",
       "      <td>0.965405</td>\n",
       "      <td>201864</td>\n",
       "      <td>2845</td>\n",
       "    </tr>\n",
       "    <tr>\n",
       "      <th>2</th>\n",
       "      <td>v3</td>\n",
       "      <td>2733</td>\n",
       "      <td>199013</td>\n",
       "      <td>6</td>\n",
       "      <td>112</td>\n",
       "      <td>0.999415</td>\n",
       "      <td>0.960633</td>\n",
       "      <td>0.997809</td>\n",
       "      <td>0.978868</td>\n",
       "      <td>201864</td>\n",
       "      <td>2845</td>\n",
       "    </tr>\n",
       "    <tr>\n",
       "      <th>3</th>\n",
       "      <td>v4</td>\n",
       "      <td>2699</td>\n",
       "      <td>199014</td>\n",
       "      <td>5</td>\n",
       "      <td>146</td>\n",
       "      <td>0.999252</td>\n",
       "      <td>0.948682</td>\n",
       "      <td>0.998151</td>\n",
       "      <td>0.972788</td>\n",
       "      <td>201864</td>\n",
       "      <td>2845</td>\n",
       "    </tr>\n",
       "    <tr>\n",
       "      <th>4</th>\n",
       "      <td>v5</td>\n",
       "      <td>2772</td>\n",
       "      <td>199011</td>\n",
       "      <td>8</td>\n",
       "      <td>73</td>\n",
       "      <td>0.999599</td>\n",
       "      <td>0.974341</td>\n",
       "      <td>0.997122</td>\n",
       "      <td>0.985600</td>\n",
       "      <td>201864</td>\n",
       "      <td>2845</td>\n",
       "    </tr>\n",
       "    <tr>\n",
       "      <th>5</th>\n",
       "      <td>v6</td>\n",
       "      <td>2800</td>\n",
       "      <td>199014</td>\n",
       "      <td>5</td>\n",
       "      <td>45</td>\n",
       "      <td>0.999752</td>\n",
       "      <td>0.984183</td>\n",
       "      <td>0.998217</td>\n",
       "      <td>0.991150</td>\n",
       "      <td>201864</td>\n",
       "      <td>2845</td>\n",
       "    </tr>\n",
       "    <tr>\n",
       "      <th>6</th>\n",
       "      <td>v7</td>\n",
       "      <td>2798</td>\n",
       "      <td>199017</td>\n",
       "      <td>2</td>\n",
       "      <td>47</td>\n",
       "      <td>0.999757</td>\n",
       "      <td>0.983480</td>\n",
       "      <td>0.999286</td>\n",
       "      <td>0.991320</td>\n",
       "      <td>201864</td>\n",
       "      <td>2845</td>\n",
       "    </tr>\n",
       "  </tbody>\n",
       "</table>\n",
       "</div>"
      ],
      "text/plain": [
       "  set of features    tp      tn  fp   fn  accuracy    recall  precision  \\\n",
       "0              v1  2751  199014   5   94  0.999510  0.966960   0.998186   \n",
       "1              v2  2665  199008  11  180  0.999054  0.936731   0.995889   \n",
       "2              v3  2733  199013   6  112  0.999415  0.960633   0.997809   \n",
       "3              v4  2699  199014   5  146  0.999252  0.948682   0.998151   \n",
       "4              v5  2772  199011   8   73  0.999599  0.974341   0.997122   \n",
       "5              v6  2800  199014   5   45  0.999752  0.984183   0.998217   \n",
       "6              v7  2798  199017   2   47  0.999757  0.983480   0.999286   \n",
       "\n",
       "   f1-score  total transaction  fraud transactions  \n",
       "0  0.982325             201864                2845  \n",
       "1  0.965405             201864                2845  \n",
       "2  0.978868             201864                2845  \n",
       "3  0.972788             201864                2845  \n",
       "4  0.985600             201864                2845  \n",
       "5  0.991150             201864                2845  \n",
       "6  0.991320             201864                2845  "
      ]
     },
     "execution_count": 10,
     "metadata": {},
     "output_type": "execute_result"
    }
   ],
   "source": [
    "metrics_training_3"
   ]
  },
  {
   "cell_type": "code",
   "execution_count": 11,
   "metadata": {},
   "outputs": [
    {
     "data": {
      "text/html": [
       "<div>\n",
       "<style scoped>\n",
       "    .dataframe tbody tr th:only-of-type {\n",
       "        vertical-align: middle;\n",
       "    }\n",
       "\n",
       "    .dataframe tbody tr th {\n",
       "        vertical-align: top;\n",
       "    }\n",
       "\n",
       "    .dataframe thead th {\n",
       "        text-align: right;\n",
       "    }\n",
       "</style>\n",
       "<table border=\"1\" class=\"dataframe\">\n",
       "  <thead>\n",
       "    <tr style=\"text-align: right;\">\n",
       "      <th></th>\n",
       "      <th>set of features</th>\n",
       "      <th>tp</th>\n",
       "      <th>tn</th>\n",
       "      <th>fp</th>\n",
       "      <th>fn</th>\n",
       "      <th>accuracy</th>\n",
       "      <th>recall</th>\n",
       "      <th>precision</th>\n",
       "      <th>f1-score</th>\n",
       "      <th>total transaction</th>\n",
       "      <th>fraud transactions</th>\n",
       "    </tr>\n",
       "  </thead>\n",
       "  <tbody>\n",
       "    <tr>\n",
       "      <th>0</th>\n",
       "      <td>v1</td>\n",
       "      <td>117</td>\n",
       "      <td>85282</td>\n",
       "      <td>14</td>\n",
       "      <td>30</td>\n",
       "      <td>0.999485</td>\n",
       "      <td>0.795918</td>\n",
       "      <td>0.893130</td>\n",
       "      <td>0.841727</td>\n",
       "      <td>85443</td>\n",
       "      <td>147</td>\n",
       "    </tr>\n",
       "    <tr>\n",
       "      <th>1</th>\n",
       "      <td>v2</td>\n",
       "      <td>117</td>\n",
       "      <td>85274</td>\n",
       "      <td>22</td>\n",
       "      <td>30</td>\n",
       "      <td>0.999391</td>\n",
       "      <td>0.795918</td>\n",
       "      <td>0.841727</td>\n",
       "      <td>0.818182</td>\n",
       "      <td>85443</td>\n",
       "      <td>147</td>\n",
       "    </tr>\n",
       "    <tr>\n",
       "      <th>2</th>\n",
       "      <td>v3</td>\n",
       "      <td>118</td>\n",
       "      <td>85273</td>\n",
       "      <td>23</td>\n",
       "      <td>29</td>\n",
       "      <td>0.999391</td>\n",
       "      <td>0.802721</td>\n",
       "      <td>0.836879</td>\n",
       "      <td>0.819444</td>\n",
       "      <td>85443</td>\n",
       "      <td>147</td>\n",
       "    </tr>\n",
       "    <tr>\n",
       "      <th>3</th>\n",
       "      <td>v4</td>\n",
       "      <td>119</td>\n",
       "      <td>85278</td>\n",
       "      <td>18</td>\n",
       "      <td>28</td>\n",
       "      <td>0.999462</td>\n",
       "      <td>0.809524</td>\n",
       "      <td>0.868613</td>\n",
       "      <td>0.838028</td>\n",
       "      <td>85443</td>\n",
       "      <td>147</td>\n",
       "    </tr>\n",
       "    <tr>\n",
       "      <th>4</th>\n",
       "      <td>v5</td>\n",
       "      <td>120</td>\n",
       "      <td>85276</td>\n",
       "      <td>20</td>\n",
       "      <td>27</td>\n",
       "      <td>0.999450</td>\n",
       "      <td>0.816327</td>\n",
       "      <td>0.857143</td>\n",
       "      <td>0.836237</td>\n",
       "      <td>85443</td>\n",
       "      <td>147</td>\n",
       "    </tr>\n",
       "    <tr>\n",
       "      <th>5</th>\n",
       "      <td>v6</td>\n",
       "      <td>120</td>\n",
       "      <td>85278</td>\n",
       "      <td>18</td>\n",
       "      <td>27</td>\n",
       "      <td>0.999473</td>\n",
       "      <td>0.816327</td>\n",
       "      <td>0.869565</td>\n",
       "      <td>0.842105</td>\n",
       "      <td>85443</td>\n",
       "      <td>147</td>\n",
       "    </tr>\n",
       "    <tr>\n",
       "      <th>6</th>\n",
       "      <td>v7</td>\n",
       "      <td>121</td>\n",
       "      <td>85280</td>\n",
       "      <td>16</td>\n",
       "      <td>26</td>\n",
       "      <td>0.999508</td>\n",
       "      <td>0.823129</td>\n",
       "      <td>0.883212</td>\n",
       "      <td>0.852113</td>\n",
       "      <td>85443</td>\n",
       "      <td>147</td>\n",
       "    </tr>\n",
       "  </tbody>\n",
       "</table>\n",
       "</div>"
      ],
      "text/plain": [
       "  set of features   tp     tn  fp  fn  accuracy    recall  precision  \\\n",
       "0              v1  117  85282  14  30  0.999485  0.795918   0.893130   \n",
       "1              v2  117  85274  22  30  0.999391  0.795918   0.841727   \n",
       "2              v3  118  85273  23  29  0.999391  0.802721   0.836879   \n",
       "3              v4  119  85278  18  28  0.999462  0.809524   0.868613   \n",
       "4              v5  120  85276  20  27  0.999450  0.816327   0.857143   \n",
       "5              v6  120  85278  18  27  0.999473  0.816327   0.869565   \n",
       "6              v7  121  85280  16  26  0.999508  0.823129   0.883212   \n",
       "\n",
       "   f1-score  total transaction  fraud transactions  \n",
       "0  0.841727              85443                 147  \n",
       "1  0.818182              85443                 147  \n",
       "2  0.819444              85443                 147  \n",
       "3  0.838028              85443                 147  \n",
       "4  0.836237              85443                 147  \n",
       "5  0.842105              85443                 147  \n",
       "6  0.852113              85443                 147  "
      ]
     },
     "execution_count": 11,
     "metadata": {},
     "output_type": "execute_result"
    }
   ],
   "source": [
    "metrics_testing_3"
   ]
  },
  {
   "cell_type": "code",
   "execution_count": 12,
   "metadata": {},
   "outputs": [
    {
     "data": {
      "image/png": "[encoded data removed]",
      "text/plain": [
       "<Figure size 1000x500 with 2 Axes>"
      ]
     },
     "metadata": {},
     "output_type": "display_data"
    },
    {
     "name": "stdout",
     "output_type": "stream",
     "text": [
      "Training AUC:\n",
      "v1 -> 0.9999964836309444\n",
      "v2 -> 0.9999745809434291\n",
      "v3 -> 0.9999915923280315\n",
      "v4 -> 0.9999799155455046\n",
      "v5 -> 0.9999965260181154\n",
      "v6 -> 0.999998353964862\n",
      "v7 -> 0.9999978462018768\n",
      "\n",
      "Testing AUC:\n",
      "v1 -> 0.9453591462846629\n",
      "v2 -> 0.9232469929446174\n",
      "v3 -> 0.9338543919725083\n",
      "v4 -> 0.9260769539479644\n",
      "v5 -> 0.9325762498771785\n",
      "v6 -> 0.9335027952280143\n",
      "v7 -> 0.9440583938508811\n"
     ]
    }
   ],
   "source": [
    "fig, axs = plt.subplots(1, 2, figsize = (10, 5))\n",
    "\n",
    "#ROC curve for training\n",
    "for i in roc_auc_training_3.keys():\n",
    "    axs[0].plot(roc_auc_training_3[i][0], roc_auc_training_3[i][1], label = i)\n",
    "    axs[0].set_xlabel(\"False Positive Rate\")\n",
    "    axs[0].set_ylabel(\"True Positive Rate\")\n",
    "    axs[0].set_title(\"ROC curve for training\")\n",
    "    axs[0].legend()\n",
    "\n",
    "#ROC curve for testing\n",
    "for i in roc_auc_testing_3.keys():\n",
    "    axs[1].plot(roc_auc_testing_3[i][0], roc_auc_testing_3[i][1], label = i)\n",
    "    axs[1].set_xlabel(\"False Positive Rate\")\n",
    "    axs[1].set_ylabel(\"True Positive Rate\")\n",
    "    axs[1].set_title(\"ROC curve for testing\")\n",
    "    axs[1].legend()\n",
    "\n",
    "plt.tight_layout()\n",
    "plt.show()\n",
    "\n",
    "print(\"Training AUC:\")\n",
    "for i, auc in roc_auc_training_3.items():\n",
    "    print(f\"{i} -> {auc[2]}\")\n",
    "\n",
    "print(\"\\nTesting AUC:\")\n",
    "for i, auc in roc_auc_testing_3.items():\n",
    "    print(f\"{i} -> {auc[2]}\")"
   ]
  }
 ],
 "metadata": {
  "kernelspec": {
   "display_name": "venv",
   "language": "python",
   "name": "python3"
  },
  "language_info": {
   "codemirror_mode": {
    "name": "ipython",
    "version": 3
   },
   "file_extension": ".py",
   "mimetype": "text/x-python",
   "name": "python",
   "nbconvert_exporter": "python",
   "pygments_lexer": "ipython3",
   "version": "3.12.7"
  }
 },
 "nbformat": 4,
 "nbformat_minor": 2
}
