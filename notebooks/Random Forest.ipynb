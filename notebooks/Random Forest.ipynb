{
 "cells": [
  {
   "cell_type": "markdown",
   "metadata": {},
   "source": [
    "### ***Theory of random forest***\n",
    "\n",
    "As described in DT notebook, DT can be subject to high overfitting because they have low bias and high variance errors. The first is high if we have made a lot of assumptions abpout the target function, so if our modelling function is not flexible. The second, instead, refers to the variability of a target function w.r.t. different training samples: models with high varianvce will change a lot when small modifications of the training dataset are made. The idea used by RF to overcome this limitations is to build multiple trees and average their prediction for regression or use majority voting for classification. Each tree is built using a different dataset and a random subset of features.\n",
    "\n",
    "To reduce the variance error, RF employs *bootstrap aggregation* (or *bagging*). Among the different techniques used for it, the one that will be used in this notebook was proposed by the inventors of RF Leo Breiman and Adele Cutler. Given a dataset $D=\\{(X_1, y_1), \\dots, (X_N, y_N)\\}$ where $X_i$ are the features and $y_i$ the labels, we generate $B$ bootstraped samples $D_1, \\dots, D_B$ by sampling with replacement $N$ tuples from $D$. Because replacement is allowed there might be some duplicate elements in $D_k$. Then, a decision tree $T_i$ is trained using $D_i$. Without bootrapping, all the trees would be highly correlated, i.e. if $T_i$ predicts label $\\tilde y$, there's a high chance that also $T_k$ will predict $\\tilde y$: consequently, if one overfits, also the other will overfit either. Note that this allows us to parallelize the training process: different machines will train one (or several) model.\n",
    "\n",
    "Moreover, each $T_i$ is built considering only a random subset of $|F_i|=m$ features among the total $|F|=d$ features at eah best split call (see `DecisionTree.find_best_split(...)`): if we used the entire features vector, even with bootstrapping, there would be an high chance to keep using the mostly dominant features, not reducing correlation. Typically, $m=\\sqrt{d}$ for classification and $m=\\frac13d$ for regression. \n",
    "\n",
    "When it comes to make a prediction for a classification task, the idea is to use *majority voting*:\n",
    "$$\\tilde y = \\argmax_{k}\\,\\,\\sum_{i = 1}^{B}\\mathbb{I}\\{T_i(x) = k\\}$$\n",
    "\n",
    "where $k$ is a label, $\\mathbb{I}\\{...\\}$ is the indicator function and $T_i(x)$ is the prediction of the $i\\text{-th}$ tree.\n",
    "\n",
    "Viceversa, for a regrassion task (not necessary in this notebook, but reported for the sake of completeness):\n",
    "$$\\tilde y = \\frac1B\\sum_{i=1}^{B}T_i(x)$$"
   ]
  },
  {
   "cell_type": "markdown",
   "metadata": {},
   "source": [
    "### ***Model definition***"
   ]
  },
  {
   "cell_type": "code",
   "execution_count": 1,
   "metadata": {},
   "outputs": [],
   "source": [
    "import numpy as np\n",
    "from tqdm import tqdm\n",
    "import scipy\n",
    "\n",
    "import sys\n",
    "sys.path.append(\"..\")\n",
    "from utils.models.DecisionTree import DecisionTree"
   ]
  },
  {
   "cell_type": "code",
   "execution_count": 2,
   "metadata": {},
   "outputs": [],
   "source": [
    "class RandomForest:\n",
    "    def __init__(self, \n",
    "                 n_trees = 10,\n",
    "                 criterion = \"gini\", \n",
    "                 max_depth = None, \n",
    "                 min_samples_split = 2, \n",
    "                 min_samples_leaf = 1, \n",
    "                 min_impurity_decrease = 0.0,\n",
    "                 max_thresholds = 1,\n",
    "                 random_state = 0):\n",
    "        \n",
    "        \"\"\"\n",
    "            Initializes the decision tree parameters.\n",
    "            \n",
    "            Args:\n",
    "                - Parameters of RF:\n",
    "                    n_trees (int): number of trees to be built\n",
    "                    random_state (int): random seed.\n",
    "                \n",
    "                - Paramters of DT to be built: \n",
    "                    criterion (str): the function to measure the quality of a split (\"gini\" or \"entropy\").\n",
    "                    max_depth (int): the maximum depth of the tree.\n",
    "                    min_samples_split (int): the minimum number of samples required to split an internal node.\n",
    "                    min_samples_leaf (int): the minimum number of samples required to be at a leaf node.\n",
    "                    min_impurity_decrease (float): the minimum impurity decrease required to split a node.\n",
    "                    max_thresholds (int): the maximum number of thresholds to use during best split search.\n",
    "                    max_features (str / float): the maximum number of features to choose from in the given ones: \n",
    "                                                    - if \"sqrt\", then int(sqrt(n_features)); \n",
    "                                                    - if \"log2\", then int(log2(n_features)):\n",
    "                                                    - if float, then int(n_features * max_features);\n",
    "                                                    - if None, all features\n",
    "                    random_state (int): random seed.\n",
    "        \"\"\"\n",
    "        \n",
    "        self.n_trees = n_trees\n",
    "\n",
    "        #When the traing process is complete, all the DecisionTree objects in this list will be trained\n",
    "        self.trees = [DecisionTree(criterion = criterion,\n",
    "                                   max_depth = max_depth,\n",
    "                                   min_samples_split = min_samples_split,\n",
    "                                   min_samples_leaf = min_samples_leaf,\n",
    "                                   min_impurity_decrease = min_impurity_decrease,\n",
    "                                   max_thresholds = max_thresholds,\n",
    "                                   max_features = \"sqrt\", #As explained in the theory part, for classification tasks, sqrt(n_features) have to be used.\n",
    "                                                          #Thus, we pass directly to the DT the parameter max_features = \"sqrt\", so that it will be the DT to selct randomly them;\n",
    "                                                          #see for more details methods \"build_tree(...)\" and \"find_best_split(...)\" of DT.\n",
    "                                   random_state = random_state)\n",
    "                     for _ in range(self.n_trees)]\n",
    "\n",
    "        self.random_state = random_state\n",
    "\n",
    "    def fit(self, X, y):\n",
    "        \"\"\"\n",
    "            Fit a RF model with the specified parameters to the data. \n",
    "\n",
    "            Args:\n",
    "                X (np.ndarray): the matrix containing the features (sample on the rows);\n",
    "                y (np.ndarray): the vector containg the labels.\n",
    "        \"\"\"\n",
    " \n",
    "        for i in tqdm(range(self.n_trees), desc = \"Training of RF\"):\n",
    "            #For each subtree that we have to build, we generate a bootstrapped dataset\n",
    "            bs_ids = np.random.choice(np.arange(X.shape[0]), X.shape[0], replace = True)\n",
    "            X_bs = X[bs_ids]\n",
    "            y_bs = y[bs_ids]\n",
    "\n",
    "            #Then, we train the DT on it\n",
    "            self.trees[i].fit(X_bs, y_bs)\n",
    "\n",
    "    def predict(self, X):\n",
    "        \"\"\"\n",
    "            This method predicts the labels of a given set of samples.\n",
    "\n",
    "            Args:\n",
    "                X (np.ndarray): the matrix containing the samples to be classified (samples on rows)\n",
    "\n",
    "            Returns:\n",
    "                labels (np.ndarray): the predicted label of each sample in X\n",
    "                scores (np.ndarray): the score associated to each prediction\n",
    "        \"\"\"\n",
    "\n",
    "        #As define in the theory part, we collect the prediction of each tree.\n",
    "        #Note: the resulting matrix is n_trees x n_samples, so we have to compute the frequencies of the values\n",
    "        #on the columns, not on the rows!\n",
    "        predictions = np.array([t.predict(X) for t in self.trees])  \n",
    "        \n",
    "        #scipy.stats.mode (axis = 0) collets all the modes or \"modal\" (most common values) along with their frequencies\n",
    "        labels, counts = scipy.stats.mode(predictions, axis = 0)\n",
    "\n",
    "        #Finally, we normalize the frequencies so that they are in [0,1]\n",
    "        scores = counts / predictions.shape[0]\n",
    "\n",
    "        return labels, scores\n"
   ]
  },
  {
   "cell_type": "markdown",
   "metadata": {},
   "source": [
    "### ***Usage of the model***"
   ]
  },
  {
   "cell_type": "code",
   "execution_count": 3,
   "metadata": {},
   "outputs": [],
   "source": [
    "import pandas as pd\n",
    "from sklearn.model_selection import train_test_split\n",
    "import numpy as np\n",
    "\n",
    "import sys\n",
    "sys.path.append(\"..\")\n",
    "\n",
    "from utils.preprocessing import undersample, fit_resample\n",
    "\n",
    "import utils.model_evaluation as me\n",
    "import matplotlib.pyplot as plt"
   ]
  },
  {
   "cell_type": "code",
   "execution_count": 4,
   "metadata": {},
   "outputs": [],
   "source": [
    "#Load the dataset\n",
    "init_data = pd.read_csv(\"../creditcard_2021.csv\")\n",
    "data = init_data[me.feature_vectors[\"v5\"] + [\"Class\"]]\n",
    "\n",
    "#\"Class\" column is the target variable, so we remove it from the feature matrix and store it in the variable y\n",
    "X = data.drop(columns = [\"Class\"])\n",
    "y = data[\"Class\"]\n",
    "\n",
    "X = np.array(X)\n",
    "y = np.array(y)"
   ]
  },
  {
   "cell_type": "code",
   "execution_count": 5,
   "metadata": {},
   "outputs": [],
   "source": [
    "#Split the dataset into training and testing sets\n",
    "X_train, X_test, y_train, y_test = train_test_split(X, y, test_size = 0.3, random_state = 0)"
   ]
  },
  {
   "cell_type": "code",
   "execution_count": 6,
   "metadata": {},
   "outputs": [],
   "source": [
    "#Note: in constrant with what have been done for DT, here we apply SMOTE because we have observed experimentally that it increases the recall with slight decrease of the precision on the testing set\n",
    "X_smote = fit_resample(X_train[y_train == 1], 2500, 10)\n",
    "\n",
    "X_train = np.vstack((X_train, X_smote))\n",
    "y_train = np.hstack((y_train, [1] * 2500))"
   ]
  },
  {
   "cell_type": "code",
   "execution_count": 7,
   "metadata": {},
   "outputs": [],
   "source": [
    "rf = RandomForest(n_trees = 25,\n",
    "                  criterion = \"entropy\", \n",
    "                  max_depth = 15, \n",
    "                  min_samples_split = 5, \n",
    "                  min_samples_leaf = 2, \n",
    "                  min_impurity_decrease = 1e-5, #Important parameter: small changes can lead to big differences in the tree and its performance\n",
    "                  max_thresholds = 75, \n",
    "                  random_state = 0)"
   ]
  },
  {
   "cell_type": "code",
   "execution_count": 8,
   "metadata": {},
   "outputs": [
    {
     "name": "stderr",
     "output_type": "stream",
     "text": [
      "Training of RF: 100%|██████████| 25/25 [03:24<00:00,  8.17s/it]\n"
     ]
    }
   ],
   "source": [
    "#Once defined, we can train the model\n",
    "rf.fit(X_train, y_train)"
   ]
  },
  {
   "cell_type": "code",
   "execution_count": 9,
   "metadata": {},
   "outputs": [
    {
     "data": {
      "text/plain": [
       "array([0, 0, 0, ..., 0, 0, 0], shape=(85443,))"
      ]
     },
     "execution_count": 9,
     "metadata": {},
     "output_type": "execute_result"
    }
   ],
   "source": [
    "#Once trained, we can make predictions\n",
    "y_pred, votes = rf.predict(X_test)\n",
    "y_pred"
   ]
  },
  {
   "cell_type": "code",
   "execution_count": 10,
   "metadata": {},
   "outputs": [
    {
     "name": "stdout",
     "output_type": "stream",
     "text": [
      "Precision: 0.921875\n",
      "Recall: 0.8027210884353742\n",
      "F1 Score: 0.8581818181818183\n",
      "Accuracy: 0.9995435553526912\n",
      "AUC Score: 0.9443946378964265\n"
     ]
    },
    {
     "data": {
      "image/png": "[encoded data removed]",
      "text/plain": [
       "<Figure size 640x480 with 1 Axes>"
      ]
     },
     "metadata": {},
     "output_type": "display_data"
    }
   ],
   "source": [
    "metrics = me.compute_metrics(y_test, y_pred)\n",
    "\n",
    "print(\"Precision:\", metrics[\"precision\"][0])\n",
    "print(\"Recall:\", metrics[\"recall\"][0])\n",
    "print(\"F1 Score:\", metrics[\"f1-score\"][0])\n",
    "print(\"Accuracy:\", metrics[\"accuracy\"][0])\n",
    "\n",
    "votes[y_pred == 0] = 1 - votes[y_pred == 0]\n",
    "fpr, tpr, auc = me.compute_roc_auc(y_test, votes)\n",
    "print(\"AUC Score:\", auc)\n",
    "\n",
    "plt.plot(fpr, tpr)\n",
    "plt.xlabel(\"False Positive Rate\")\n",
    "plt.ylabel(\"True Positive Rate\")\n",
    "plt.title(\"ROC curve\")\n",
    "plt.tight_layout()\n",
    "plt.show()"
   ]
  },
  {
   "cell_type": "code",
   "execution_count": 11,
   "metadata": {},
   "outputs": [
    {
     "name": "stdout",
     "output_type": "stream",
     "text": [
      "Current feature vector: ['V1', 'V5', 'V7', 'V8', 'V11', 'V13', 'V14', 'V15', 'V16', 'V17', 'V18', 'V19', 'V20', 'V21', 'V22', 'V23', 'V24', 'Amount']\n"
     ]
    },
    {
     "name": "stderr",
     "output_type": "stream",
     "text": [
      "Training of RF: 100%|██████████| 25/25 [03:47<00:00,  9.09s/it]\n"
     ]
    },
    {
     "name": "stdout",
     "output_type": "stream",
     "text": [
      "\n",
      "Current feature vector: ['V1', 'V6', 'V13', 'V16', 'V17', 'V22', 'V23', 'V28', 'Amount']\n"
     ]
    },
    {
     "name": "stderr",
     "output_type": "stream",
     "text": [
      "Training of RF: 100%|██████████| 25/25 [02:37<00:00,  6.29s/it]\n"
     ]
    },
    {
     "name": "stdout",
     "output_type": "stream",
     "text": [
      "\n",
      "Current feature vector: ['V2', 'V11', 'V12', 'V13', 'V15', 'V16', 'V17', 'V18', 'V20', 'V21', 'V24', 'V26', 'Amount']\n"
     ]
    },
    {
     "name": "stderr",
     "output_type": "stream",
     "text": [
      "Training of RF: 100%|██████████| 25/25 [02:41<00:00,  6.45s/it]\n"
     ]
    },
    {
     "name": "stdout",
     "output_type": "stream",
     "text": [
      "\n",
      "Current feature vector: ['V2', 'V7', 'V10', 'V13', 'V15', 'V17', 'V19', 'V28', 'Amount']\n"
     ]
    },
    {
     "name": "stderr",
     "output_type": "stream",
     "text": [
      "Training of RF: 100%|██████████| 25/25 [02:42<00:00,  6.50s/it]\n"
     ]
    },
    {
     "name": "stdout",
     "output_type": "stream",
     "text": [
      "\n",
      "Current feature vector: ['Time', 'V1', 'V7', 'V8', 'V9', 'V11', 'V12', 'V14', 'V15', 'V22', 'V27', 'V28', 'Amount']\n"
     ]
    },
    {
     "name": "stderr",
     "output_type": "stream",
     "text": [
      "Training of RF: 100%|██████████| 25/25 [02:31<00:00,  6.06s/it]\n"
     ]
    },
    {
     "name": "stdout",
     "output_type": "stream",
     "text": [
      "\n",
      "Current feature vector: ['Time', 'V1', 'V2', 'V3', 'V4', 'V5', 'V6', 'V7', 'V8', 'V9', 'V10', 'V11', 'V12', 'V13', 'V14', 'V15', 'V16', 'V17', 'V18', 'V19', 'V20', 'V21', 'V22', 'V23', 'V24', 'V25', 'V26', 'V27', 'V28', 'Amount']\n"
     ]
    },
    {
     "name": "stderr",
     "output_type": "stream",
     "text": [
      "Training of RF: 100%|██████████| 25/25 [04:28<00:00, 10.74s/it]\n"
     ]
    },
    {
     "name": "stdout",
     "output_type": "stream",
     "text": [
      "\n",
      "Current feature vector: ['V1', 'V2', 'V3', 'V4', 'V5', 'V6', 'V7', 'V8', 'V9', 'V10', 'V11', 'V12', 'V13', 'V14', 'V15', 'V16', 'V17', 'V18', 'V19', 'V20', 'V21', 'V22', 'V23', 'V24', 'V25', 'V26', 'V27', 'V28', 'Amount']\n"
     ]
    },
    {
     "name": "stderr",
     "output_type": "stream",
     "text": [
      "Training of RF: 100%|██████████| 25/25 [04:17<00:00, 10.32s/it]\n"
     ]
    },
    {
     "name": "stdout",
     "output_type": "stream",
     "text": [
      "\n"
     ]
    }
   ],
   "source": [
    "params = {\n",
    "    \"n_trees\" : 25,\n",
    "    \"criterion\" : \"entropy\", \n",
    "    \"max_depth\" : 15, \n",
    "    \"min_samples_split\" : 5, \n",
    "    \"min_samples_leaf\" : 2, \n",
    "    \"min_impurity_decrease\" : 1e-5, \n",
    "    \"max_thresholds\" : 75, \n",
    "    \"random_state\" : 0\n",
    "}\n",
    "\n",
    "metrics_training = pd.DataFrame()\n",
    "metrics_testing = pd.DataFrame()\n",
    "\n",
    "roc_auc_training = {}\n",
    "roc_auc_testing = {}\n",
    "\n",
    "for key, value in me.feature_vectors.items():\n",
    "    print(f\"Current feature vector: {value}\")\n",
    "    data = init_data[value + [\"Class\"]]\n",
    "    X = data.drop(columns = [\"Class\"])\n",
    "    X = np.array(X)\n",
    "\n",
    "    X_train, X_test, y_train, y_test = train_test_split(X, y, test_size = 0.3, random_state = 0)\n",
    "\n",
    "    rf = RandomForest(**params)\n",
    "\n",
    "    rf.fit(X_train, y_train)\n",
    "    y_pred, votes = rf.predict(X_train)\n",
    "    votes[y_pred == 0] = 1 - votes[y_pred == 0]\n",
    "\n",
    "    metrics_training = me.compute_metrics(y_train, y_pred, metrics_df = metrics_training, dataset_label = key)\n",
    "    roc_auc_training[key] = me.compute_roc_auc(y_train, votes)\n",
    "\n",
    "    y_pred, votes = rf.predict(X_test)\n",
    "    votes[y_pred == 0] = 1 - votes[y_pred == 0]\n",
    "    \n",
    "    metrics_testing = me.compute_metrics(y_test, y_pred, metrics_df = metrics_testing, dataset_label = key)\n",
    "    roc_auc_testing[key] = me.compute_roc_auc(y_test, votes)\n",
    "    \n",
    "    print(\"\")"
   ]
  },
  {
   "cell_type": "code",
   "execution_count": 12,
   "metadata": {},
   "outputs": [
    {
     "data": {
      "text/html": [
       "<div>\n",
       "<style scoped>\n",
       "    .dataframe tbody tr th:only-of-type {\n",
       "        vertical-align: middle;\n",
       "    }\n",
       "\n",
       "    .dataframe tbody tr th {\n",
       "        vertical-align: top;\n",
       "    }\n",
       "\n",
       "    .dataframe thead th {\n",
       "        text-align: right;\n",
       "    }\n",
       "</style>\n",
       "<table border=\"1\" class=\"dataframe\">\n",
       "  <thead>\n",
       "    <tr style=\"text-align: right;\">\n",
       "      <th></th>\n",
       "      <th>set of features</th>\n",
       "      <th>tp</th>\n",
       "      <th>tn</th>\n",
       "      <th>fp</th>\n",
       "      <th>fn</th>\n",
       "      <th>accuracy</th>\n",
       "      <th>recall</th>\n",
       "      <th>precision</th>\n",
       "      <th>f1-score</th>\n",
       "      <th>total transaction</th>\n",
       "      <th>fraud transactions</th>\n",
       "    </tr>\n",
       "  </thead>\n",
       "  <tbody>\n",
       "    <tr>\n",
       "      <th>0</th>\n",
       "      <td>v1</td>\n",
       "      <td>299</td>\n",
       "      <td>199019</td>\n",
       "      <td>0</td>\n",
       "      <td>46</td>\n",
       "      <td>0.999769</td>\n",
       "      <td>0.866667</td>\n",
       "      <td>1.000000</td>\n",
       "      <td>0.928571</td>\n",
       "      <td>199364</td>\n",
       "      <td>345</td>\n",
       "    </tr>\n",
       "    <tr>\n",
       "      <th>1</th>\n",
       "      <td>v2</td>\n",
       "      <td>280</td>\n",
       "      <td>199019</td>\n",
       "      <td>0</td>\n",
       "      <td>65</td>\n",
       "      <td>0.999674</td>\n",
       "      <td>0.811594</td>\n",
       "      <td>1.000000</td>\n",
       "      <td>0.896000</td>\n",
       "      <td>199364</td>\n",
       "      <td>345</td>\n",
       "    </tr>\n",
       "    <tr>\n",
       "      <th>2</th>\n",
       "      <td>v3</td>\n",
       "      <td>292</td>\n",
       "      <td>199018</td>\n",
       "      <td>1</td>\n",
       "      <td>53</td>\n",
       "      <td>0.999729</td>\n",
       "      <td>0.846377</td>\n",
       "      <td>0.996587</td>\n",
       "      <td>0.915361</td>\n",
       "      <td>199364</td>\n",
       "      <td>345</td>\n",
       "    </tr>\n",
       "    <tr>\n",
       "      <th>3</th>\n",
       "      <td>v4</td>\n",
       "      <td>285</td>\n",
       "      <td>199019</td>\n",
       "      <td>0</td>\n",
       "      <td>60</td>\n",
       "      <td>0.999699</td>\n",
       "      <td>0.826087</td>\n",
       "      <td>1.000000</td>\n",
       "      <td>0.904762</td>\n",
       "      <td>199364</td>\n",
       "      <td>345</td>\n",
       "    </tr>\n",
       "    <tr>\n",
       "      <th>4</th>\n",
       "      <td>v5</td>\n",
       "      <td>288</td>\n",
       "      <td>199018</td>\n",
       "      <td>1</td>\n",
       "      <td>57</td>\n",
       "      <td>0.999709</td>\n",
       "      <td>0.834783</td>\n",
       "      <td>0.996540</td>\n",
       "      <td>0.908517</td>\n",
       "      <td>199364</td>\n",
       "      <td>345</td>\n",
       "    </tr>\n",
       "    <tr>\n",
       "      <th>5</th>\n",
       "      <td>v6</td>\n",
       "      <td>298</td>\n",
       "      <td>199019</td>\n",
       "      <td>0</td>\n",
       "      <td>47</td>\n",
       "      <td>0.999764</td>\n",
       "      <td>0.863768</td>\n",
       "      <td>1.000000</td>\n",
       "      <td>0.926905</td>\n",
       "      <td>199364</td>\n",
       "      <td>345</td>\n",
       "    </tr>\n",
       "    <tr>\n",
       "      <th>6</th>\n",
       "      <td>v7</td>\n",
       "      <td>294</td>\n",
       "      <td>199019</td>\n",
       "      <td>0</td>\n",
       "      <td>51</td>\n",
       "      <td>0.999744</td>\n",
       "      <td>0.852174</td>\n",
       "      <td>1.000000</td>\n",
       "      <td>0.920188</td>\n",
       "      <td>199364</td>\n",
       "      <td>345</td>\n",
       "    </tr>\n",
       "  </tbody>\n",
       "</table>\n",
       "</div>"
      ],
      "text/plain": [
       "  set of features   tp      tn  fp  fn  accuracy    recall  precision  \\\n",
       "0              v1  299  199019   0  46  0.999769  0.866667   1.000000   \n",
       "1              v2  280  199019   0  65  0.999674  0.811594   1.000000   \n",
       "2              v3  292  199018   1  53  0.999729  0.846377   0.996587   \n",
       "3              v4  285  199019   0  60  0.999699  0.826087   1.000000   \n",
       "4              v5  288  199018   1  57  0.999709  0.834783   0.996540   \n",
       "5              v6  298  199019   0  47  0.999764  0.863768   1.000000   \n",
       "6              v7  294  199019   0  51  0.999744  0.852174   1.000000   \n",
       "\n",
       "   f1-score  total transaction  fraud transactions  \n",
       "0  0.928571             199364                 345  \n",
       "1  0.896000             199364                 345  \n",
       "2  0.915361             199364                 345  \n",
       "3  0.904762             199364                 345  \n",
       "4  0.908517             199364                 345  \n",
       "5  0.926905             199364                 345  \n",
       "6  0.920188             199364                 345  "
      ]
     },
     "execution_count": 12,
     "metadata": {},
     "output_type": "execute_result"
    }
   ],
   "source": [
    "#Metrics for training\n",
    "metrics_training"
   ]
  },
  {
   "cell_type": "code",
   "execution_count": 13,
   "metadata": {},
   "outputs": [
    {
     "data": {
      "text/html": [
       "<div>\n",
       "<style scoped>\n",
       "    .dataframe tbody tr th:only-of-type {\n",
       "        vertical-align: middle;\n",
       "    }\n",
       "\n",
       "    .dataframe tbody tr th {\n",
       "        vertical-align: top;\n",
       "    }\n",
       "\n",
       "    .dataframe thead th {\n",
       "        text-align: right;\n",
       "    }\n",
       "</style>\n",
       "<table border=\"1\" class=\"dataframe\">\n",
       "  <thead>\n",
       "    <tr style=\"text-align: right;\">\n",
       "      <th></th>\n",
       "      <th>set of features</th>\n",
       "      <th>tp</th>\n",
       "      <th>tn</th>\n",
       "      <th>fp</th>\n",
       "      <th>fn</th>\n",
       "      <th>accuracy</th>\n",
       "      <th>recall</th>\n",
       "      <th>precision</th>\n",
       "      <th>f1-score</th>\n",
       "      <th>total transaction</th>\n",
       "      <th>fraud transactions</th>\n",
       "    </tr>\n",
       "  </thead>\n",
       "  <tbody>\n",
       "    <tr>\n",
       "      <th>0</th>\n",
       "      <td>v1</td>\n",
       "      <td>105</td>\n",
       "      <td>85291</td>\n",
       "      <td>5</td>\n",
       "      <td>42</td>\n",
       "      <td>0.999450</td>\n",
       "      <td>0.714286</td>\n",
       "      <td>0.954545</td>\n",
       "      <td>0.817121</td>\n",
       "      <td>85443</td>\n",
       "      <td>147</td>\n",
       "    </tr>\n",
       "    <tr>\n",
       "      <th>1</th>\n",
       "      <td>v2</td>\n",
       "      <td>95</td>\n",
       "      <td>85284</td>\n",
       "      <td>12</td>\n",
       "      <td>52</td>\n",
       "      <td>0.999251</td>\n",
       "      <td>0.646259</td>\n",
       "      <td>0.887850</td>\n",
       "      <td>0.748031</td>\n",
       "      <td>85443</td>\n",
       "      <td>147</td>\n",
       "    </tr>\n",
       "    <tr>\n",
       "      <th>2</th>\n",
       "      <td>v3</td>\n",
       "      <td>104</td>\n",
       "      <td>85288</td>\n",
       "      <td>8</td>\n",
       "      <td>43</td>\n",
       "      <td>0.999403</td>\n",
       "      <td>0.707483</td>\n",
       "      <td>0.928571</td>\n",
       "      <td>0.803089</td>\n",
       "      <td>85443</td>\n",
       "      <td>147</td>\n",
       "    </tr>\n",
       "    <tr>\n",
       "      <th>3</th>\n",
       "      <td>v4</td>\n",
       "      <td>112</td>\n",
       "      <td>85287</td>\n",
       "      <td>9</td>\n",
       "      <td>35</td>\n",
       "      <td>0.999485</td>\n",
       "      <td>0.761905</td>\n",
       "      <td>0.925620</td>\n",
       "      <td>0.835821</td>\n",
       "      <td>85443</td>\n",
       "      <td>147</td>\n",
       "    </tr>\n",
       "    <tr>\n",
       "      <th>4</th>\n",
       "      <td>v5</td>\n",
       "      <td>107</td>\n",
       "      <td>85291</td>\n",
       "      <td>5</td>\n",
       "      <td>40</td>\n",
       "      <td>0.999473</td>\n",
       "      <td>0.727891</td>\n",
       "      <td>0.955357</td>\n",
       "      <td>0.826255</td>\n",
       "      <td>85443</td>\n",
       "      <td>147</td>\n",
       "    </tr>\n",
       "    <tr>\n",
       "      <th>5</th>\n",
       "      <td>v6</td>\n",
       "      <td>113</td>\n",
       "      <td>85289</td>\n",
       "      <td>7</td>\n",
       "      <td>34</td>\n",
       "      <td>0.999520</td>\n",
       "      <td>0.768707</td>\n",
       "      <td>0.941667</td>\n",
       "      <td>0.846442</td>\n",
       "      <td>85443</td>\n",
       "      <td>147</td>\n",
       "    </tr>\n",
       "    <tr>\n",
       "      <th>6</th>\n",
       "      <td>v7</td>\n",
       "      <td>107</td>\n",
       "      <td>85292</td>\n",
       "      <td>4</td>\n",
       "      <td>40</td>\n",
       "      <td>0.999485</td>\n",
       "      <td>0.727891</td>\n",
       "      <td>0.963964</td>\n",
       "      <td>0.829457</td>\n",
       "      <td>85443</td>\n",
       "      <td>147</td>\n",
       "    </tr>\n",
       "  </tbody>\n",
       "</table>\n",
       "</div>"
      ],
      "text/plain": [
       "  set of features   tp     tn  fp  fn  accuracy    recall  precision  \\\n",
       "0              v1  105  85291   5  42  0.999450  0.714286   0.954545   \n",
       "1              v2   95  85284  12  52  0.999251  0.646259   0.887850   \n",
       "2              v3  104  85288   8  43  0.999403  0.707483   0.928571   \n",
       "3              v4  112  85287   9  35  0.999485  0.761905   0.925620   \n",
       "4              v5  107  85291   5  40  0.999473  0.727891   0.955357   \n",
       "5              v6  113  85289   7  34  0.999520  0.768707   0.941667   \n",
       "6              v7  107  85292   4  40  0.999485  0.727891   0.963964   \n",
       "\n",
       "   f1-score  total transaction  fraud transactions  \n",
       "0  0.817121              85443                 147  \n",
       "1  0.748031              85443                 147  \n",
       "2  0.803089              85443                 147  \n",
       "3  0.835821              85443                 147  \n",
       "4  0.826255              85443                 147  \n",
       "5  0.846442              85443                 147  \n",
       "6  0.829457              85443                 147  "
      ]
     },
     "execution_count": 13,
     "metadata": {},
     "output_type": "execute_result"
    }
   ],
   "source": [
    "#Metrics for testing\n",
    "metrics_testing"
   ]
  },
  {
   "cell_type": "code",
   "execution_count": 14,
   "metadata": {},
   "outputs": [
    {
     "data": {
      "image/png": "[encoded data removed]",
      "text/plain": [
       "<Figure size 1000x500 with 2 Axes>"
      ]
     },
     "metadata": {},
     "output_type": "display_data"
    },
    {
     "name": "stdout",
     "output_type": "stream",
     "text": [
      "Training AUC:\n",
      "v7 -> 0.999997203675332\n",
      "v7 -> 0.9999883559293116\n",
      "v7 -> 0.9999920989263934\n",
      "v7 -> 0.9999884724428393\n",
      "v7 -> 0.9999931257018574\n",
      "v7 -> 0.9999969560840851\n",
      "v7 -> 0.9999960895147219\n",
      "\n",
      "Testing AUC:\n",
      "v7 -> 0.9314593709365194\n",
      "v7 -> 0.9178002940061787\n",
      "v7 -> 0.9212712002827769\n",
      "v7 -> 0.9280996820037339\n",
      "v7 -> 0.9280985654438102\n",
      "v7 -> 0.9281286328074656\n",
      "v7 -> 0.9315214995208362\n"
     ]
    }
   ],
   "source": [
    "fig, axs = plt.subplots(1, 2, figsize = (10, 5))\n",
    "\n",
    "#ROC curve for training\n",
    "for i in roc_auc_training.keys():\n",
    "    axs[0].plot(roc_auc_training[i][0], roc_auc_training[i][1], label = i)\n",
    "    axs[0].set_xlabel(\"False Positive Rate\")\n",
    "    axs[0].set_ylabel(\"True Positive Rate\")\n",
    "    axs[0].set_title(\"ROC curve for training\")\n",
    "    axs[0].legend()\n",
    "\n",
    "#ROC curve for testing\n",
    "for i in roc_auc_testing.keys():\n",
    "    axs[1].plot(roc_auc_testing[i][0], roc_auc_testing[i][1], label = i)\n",
    "    axs[1].set_xlabel(\"False Positive Rate\")\n",
    "    axs[1].set_ylabel(\"True Positive Rate\")\n",
    "    axs[1].set_title(\"ROC curve for testing\")\n",
    "    axs[1].legend()\n",
    "\n",
    "plt.tight_layout()\n",
    "plt.show()\n",
    "\n",
    "print(\"Training AUC:\")\n",
    "for i, auc in roc_auc_training.items():\n",
    "    print(f\"{key} -> {auc[2]}\")\n",
    "\n",
    "print(\"\\nTesting AUC:\")\n",
    "for i, auc in roc_auc_testing.items():\n",
    "    print(f\"{key} -> {auc[2]}\")"
   ]
  },
  {
   "cell_type": "code",
   "execution_count": 15,
   "metadata": {},
   "outputs": [],
   "source": [
    "#One thing that we can try to do is undersampling:\n",
    "X_train, X_test, y_train, y_test = train_test_split(X, y, test_size = 0.3, random_state = 0)\n",
    "\n",
    "X_train, y_train = undersample(X_train, y_train, 0, 1 - (sum(y_train) * 300.0 / X_train.shape[0]))"
   ]
  },
  {
   "cell_type": "code",
   "execution_count": 16,
   "metadata": {},
   "outputs": [],
   "source": [
    "rf = RandomForest(n_trees = 20,\n",
    "                  criterion = \"gini\", \n",
    "                  max_depth = 10, \n",
    "                  min_samples_split = 2, \n",
    "                  min_samples_leaf = 1, \n",
    "                  min_impurity_decrease = 0.0, #Important parameter: small changes can lead to big differences in the tree and its performance (1e-5)\n",
    "                  max_thresholds = 20, \n",
    "                  random_state = 0)"
   ]
  },
  {
   "cell_type": "code",
   "execution_count": 17,
   "metadata": {},
   "outputs": [
    {
     "name": "stderr",
     "output_type": "stream",
     "text": [
      "Training of RF: 100%|██████████| 20/20 [00:33<00:00,  1.66s/it]\n"
     ]
    }
   ],
   "source": [
    "#Once defined, we can train the model\n",
    "rf.fit(X_train, y_train)"
   ]
  },
  {
   "cell_type": "code",
   "execution_count": 18,
   "metadata": {},
   "outputs": [
    {
     "data": {
      "text/plain": [
       "array([0, 0, 0, ..., 0, 0, 0], shape=(85443,))"
      ]
     },
     "execution_count": 18,
     "metadata": {},
     "output_type": "execute_result"
    }
   ],
   "source": [
    "#Once trained, we can make predictions\n",
    "y_pred, votes = rf.predict(X_test)\n",
    "y_pred"
   ]
  },
  {
   "cell_type": "code",
   "execution_count": 19,
   "metadata": {},
   "outputs": [
    {
     "name": "stdout",
     "output_type": "stream",
     "text": [
      "Precision: 0.954954954954955\n",
      "Recall: 0.7210884353741497\n",
      "F1 Score: 0.8217054263565892\n",
      "Accuracy: 0.9994616293903538\n",
      "AUC Score: 0.9213187338338074\n"
     ]
    },
    {
     "data": {
      "image/png": "[encoded data removed]",
      "text/plain": [
       "<Figure size 640x480 with 1 Axes>"
      ]
     },
     "metadata": {},
     "output_type": "display_data"
    }
   ],
   "source": [
    "metrics = me.compute_metrics(y_test, y_pred)\n",
    "\n",
    "print(\"Precision:\", metrics[\"precision\"][0])\n",
    "print(\"Recall:\", metrics[\"recall\"][0])\n",
    "print(\"F1 Score:\", metrics[\"f1-score\"][0])\n",
    "print(\"Accuracy:\", metrics[\"accuracy\"][0])\n",
    "\n",
    "votes[y_pred == 0] = 1 - votes[y_pred == 0]\n",
    "fpr, tpr, auc = me.compute_roc_auc(y_test, votes)\n",
    "print(\"AUC Score:\", auc)\n",
    "\n",
    "plt.plot(fpr, tpr)\n",
    "plt.xlabel(\"False Positive Rate\")\n",
    "plt.ylabel(\"True Positive Rate\")\n",
    "plt.title(\"ROC curve\")\n",
    "plt.tight_layout()\n",
    "plt.show()"
   ]
  },
  {
   "cell_type": "code",
   "execution_count": 21,
   "metadata": {},
   "outputs": [
    {
     "name": "stdout",
     "output_type": "stream",
     "text": [
      "Current feature vector: ['V1', 'V5', 'V7', 'V8', 'V11', 'V13', 'V14', 'V15', 'V16', 'V17', 'V18', 'V19', 'V20', 'V21', 'V22', 'V23', 'V24', 'Amount']\n"
     ]
    },
    {
     "name": "stderr",
     "output_type": "stream",
     "text": [
      "Training of RF: 100%|██████████| 20/20 [00:51<00:00,  2.55s/it]\n"
     ]
    },
    {
     "name": "stdout",
     "output_type": "stream",
     "text": [
      "\n",
      "Current feature vector: ['V1', 'V6', 'V13', 'V16', 'V17', 'V22', 'V23', 'V28', 'Amount']\n"
     ]
    },
    {
     "name": "stderr",
     "output_type": "stream",
     "text": [
      "Training of RF: 100%|██████████| 20/20 [00:35<00:00,  1.79s/it]\n"
     ]
    },
    {
     "name": "stdout",
     "output_type": "stream",
     "text": [
      "\n",
      "Current feature vector: ['V2', 'V11', 'V12', 'V13', 'V15', 'V16', 'V17', 'V18', 'V20', 'V21', 'V24', 'V26', 'Amount']\n"
     ]
    },
    {
     "name": "stderr",
     "output_type": "stream",
     "text": [
      "Training of RF: 100%|██████████| 20/20 [00:38<00:00,  1.90s/it]\n"
     ]
    },
    {
     "name": "stdout",
     "output_type": "stream",
     "text": [
      "\n",
      "Current feature vector: ['V2', 'V7', 'V10', 'V13', 'V15', 'V17', 'V19', 'V28', 'Amount']\n"
     ]
    },
    {
     "name": "stderr",
     "output_type": "stream",
     "text": [
      "Training of RF: 100%|██████████| 20/20 [00:35<00:00,  1.76s/it]\n"
     ]
    },
    {
     "name": "stdout",
     "output_type": "stream",
     "text": [
      "\n",
      "Current feature vector: ['Time', 'V1', 'V7', 'V8', 'V9', 'V11', 'V12', 'V14', 'V15', 'V22', 'V27', 'V28', 'Amount']\n"
     ]
    },
    {
     "name": "stderr",
     "output_type": "stream",
     "text": [
      "Training of RF: 100%|██████████| 20/20 [00:35<00:00,  1.77s/it]\n"
     ]
    },
    {
     "name": "stdout",
     "output_type": "stream",
     "text": [
      "\n",
      "Current feature vector: ['Time', 'V1', 'V2', 'V3', 'V4', 'V5', 'V6', 'V7', 'V8', 'V9', 'V10', 'V11', 'V12', 'V13', 'V14', 'V15', 'V16', 'V17', 'V18', 'V19', 'V20', 'V21', 'V22', 'V23', 'V24', 'V25', 'V26', 'V27', 'V28', 'Amount']\n"
     ]
    },
    {
     "name": "stderr",
     "output_type": "stream",
     "text": [
      "Training of RF: 100%|██████████| 20/20 [01:01<00:00,  3.09s/it]\n"
     ]
    },
    {
     "name": "stdout",
     "output_type": "stream",
     "text": [
      "\n",
      "Current feature vector: ['V1', 'V2', 'V3', 'V4', 'V5', 'V6', 'V7', 'V8', 'V9', 'V10', 'V11', 'V12', 'V13', 'V14', 'V15', 'V16', 'V17', 'V18', 'V19', 'V20', 'V21', 'V22', 'V23', 'V24', 'V25', 'V26', 'V27', 'V28', 'Amount']\n"
     ]
    },
    {
     "name": "stderr",
     "output_type": "stream",
     "text": [
      "Training of RF: 100%|██████████| 20/20 [01:01<00:00,  3.07s/it]\n"
     ]
    },
    {
     "name": "stdout",
     "output_type": "stream",
     "text": [
      "\n"
     ]
    }
   ],
   "source": [
    "params = {\n",
    "    \"n_trees\" : 20,\n",
    "    \"criterion\" : \"gini\", \n",
    "    \"max_depth\" : 10, \n",
    "    \"min_samples_split\" : 2, \n",
    "    \"min_samples_leaf\" : 1, \n",
    "    \"min_impurity_decrease\" : 0, \n",
    "    \"max_thresholds\" : 20, \n",
    "    \"random_state\" : 0\n",
    "}\n",
    "\n",
    "metrics_training_2 = pd.DataFrame()\n",
    "metrics_testing_2 = pd.DataFrame()\n",
    "\n",
    "roc_auc_training = {}\n",
    "roc_auc_testing = {}\n",
    "\n",
    "for key, value in me.feature_vectors.items():\n",
    "    print(f\"Current feature vector: {value}\")\n",
    "    data = init_data[value + [\"Class\"]]\n",
    "    X = data.drop(columns = [\"Class\"])\n",
    "    X = np.array(X)\n",
    "\n",
    "    X_train, X_test, y_train, y_test = train_test_split(X, y, test_size = 0.3, random_state = 0)\n",
    "\n",
    "    rf = RandomForest(**params)\n",
    "\n",
    "    rf.fit(X_train, y_train)\n",
    "    y_pred, votes = rf.predict(X_train)\n",
    "    votes[y_pred == 0] = 1 - votes[y_pred == 0]\n",
    "\n",
    "    metrics_training_2 = me.compute_metrics(y_train, y_pred, metrics_df = metrics_training_2, dataset_label = key)\n",
    "    roc_auc_training[key] = me.compute_roc_auc(y_train, votes)\n",
    "\n",
    "    y_pred, votes = rf.predict(X_test)\n",
    "    votes[y_pred == 0] = 1 - votes[y_pred == 0]\n",
    "    \n",
    "    metrics_testing_2 = me.compute_metrics(y_test, y_pred, metrics_df = metrics_testing_2, dataset_label = key)\n",
    "    roc_auc_testing[key] = me.compute_roc_auc(y_test, votes)\n",
    "    \n",
    "    print(\"\")"
   ]
  },
  {
   "cell_type": "code",
   "execution_count": 22,
   "metadata": {},
   "outputs": [
    {
     "data": {
      "text/html": [
       "<div>\n",
       "<style scoped>\n",
       "    .dataframe tbody tr th:only-of-type {\n",
       "        vertical-align: middle;\n",
       "    }\n",
       "\n",
       "    .dataframe tbody tr th {\n",
       "        vertical-align: top;\n",
       "    }\n",
       "\n",
       "    .dataframe thead th {\n",
       "        text-align: right;\n",
       "    }\n",
       "</style>\n",
       "<table border=\"1\" class=\"dataframe\">\n",
       "  <thead>\n",
       "    <tr style=\"text-align: right;\">\n",
       "      <th></th>\n",
       "      <th>set of features</th>\n",
       "      <th>tp</th>\n",
       "      <th>tn</th>\n",
       "      <th>fp</th>\n",
       "      <th>fn</th>\n",
       "      <th>accuracy</th>\n",
       "      <th>recall</th>\n",
       "      <th>precision</th>\n",
       "      <th>f1-score</th>\n",
       "      <th>total transaction</th>\n",
       "      <th>fraud transactions</th>\n",
       "    </tr>\n",
       "  </thead>\n",
       "  <tbody>\n",
       "    <tr>\n",
       "      <th>0</th>\n",
       "      <td>v1</td>\n",
       "      <td>296</td>\n",
       "      <td>199019</td>\n",
       "      <td>0</td>\n",
       "      <td>49</td>\n",
       "      <td>0.999754</td>\n",
       "      <td>0.857971</td>\n",
       "      <td>1.000000</td>\n",
       "      <td>0.923557</td>\n",
       "      <td>199364</td>\n",
       "      <td>345</td>\n",
       "    </tr>\n",
       "    <tr>\n",
       "      <th>1</th>\n",
       "      <td>v2</td>\n",
       "      <td>284</td>\n",
       "      <td>199017</td>\n",
       "      <td>2</td>\n",
       "      <td>61</td>\n",
       "      <td>0.999684</td>\n",
       "      <td>0.823188</td>\n",
       "      <td>0.993007</td>\n",
       "      <td>0.900158</td>\n",
       "      <td>199364</td>\n",
       "      <td>345</td>\n",
       "    </tr>\n",
       "    <tr>\n",
       "      <th>2</th>\n",
       "      <td>v3</td>\n",
       "      <td>285</td>\n",
       "      <td>199019</td>\n",
       "      <td>0</td>\n",
       "      <td>60</td>\n",
       "      <td>0.999699</td>\n",
       "      <td>0.826087</td>\n",
       "      <td>1.000000</td>\n",
       "      <td>0.904762</td>\n",
       "      <td>199364</td>\n",
       "      <td>345</td>\n",
       "    </tr>\n",
       "    <tr>\n",
       "      <th>3</th>\n",
       "      <td>v4</td>\n",
       "      <td>291</td>\n",
       "      <td>199018</td>\n",
       "      <td>1</td>\n",
       "      <td>54</td>\n",
       "      <td>0.999724</td>\n",
       "      <td>0.843478</td>\n",
       "      <td>0.996575</td>\n",
       "      <td>0.913658</td>\n",
       "      <td>199364</td>\n",
       "      <td>345</td>\n",
       "    </tr>\n",
       "    <tr>\n",
       "      <th>4</th>\n",
       "      <td>v5</td>\n",
       "      <td>280</td>\n",
       "      <td>199018</td>\n",
       "      <td>1</td>\n",
       "      <td>65</td>\n",
       "      <td>0.999669</td>\n",
       "      <td>0.811594</td>\n",
       "      <td>0.996441</td>\n",
       "      <td>0.894569</td>\n",
       "      <td>199364</td>\n",
       "      <td>345</td>\n",
       "    </tr>\n",
       "    <tr>\n",
       "      <th>5</th>\n",
       "      <td>v6</td>\n",
       "      <td>295</td>\n",
       "      <td>199019</td>\n",
       "      <td>0</td>\n",
       "      <td>50</td>\n",
       "      <td>0.999749</td>\n",
       "      <td>0.855072</td>\n",
       "      <td>1.000000</td>\n",
       "      <td>0.921875</td>\n",
       "      <td>199364</td>\n",
       "      <td>345</td>\n",
       "    </tr>\n",
       "    <tr>\n",
       "      <th>6</th>\n",
       "      <td>v7</td>\n",
       "      <td>296</td>\n",
       "      <td>199019</td>\n",
       "      <td>0</td>\n",
       "      <td>49</td>\n",
       "      <td>0.999754</td>\n",
       "      <td>0.857971</td>\n",
       "      <td>1.000000</td>\n",
       "      <td>0.923557</td>\n",
       "      <td>199364</td>\n",
       "      <td>345</td>\n",
       "    </tr>\n",
       "  </tbody>\n",
       "</table>\n",
       "</div>"
      ],
      "text/plain": [
       "  set of features   tp      tn  fp  fn  accuracy    recall  precision  \\\n",
       "0              v1  296  199019   0  49  0.999754  0.857971   1.000000   \n",
       "1              v2  284  199017   2  61  0.999684  0.823188   0.993007   \n",
       "2              v3  285  199019   0  60  0.999699  0.826087   1.000000   \n",
       "3              v4  291  199018   1  54  0.999724  0.843478   0.996575   \n",
       "4              v5  280  199018   1  65  0.999669  0.811594   0.996441   \n",
       "5              v6  295  199019   0  50  0.999749  0.855072   1.000000   \n",
       "6              v7  296  199019   0  49  0.999754  0.857971   1.000000   \n",
       "\n",
       "   f1-score  total transaction  fraud transactions  \n",
       "0  0.923557             199364                 345  \n",
       "1  0.900158             199364                 345  \n",
       "2  0.904762             199364                 345  \n",
       "3  0.913658             199364                 345  \n",
       "4  0.894569             199364                 345  \n",
       "5  0.921875             199364                 345  \n",
       "6  0.923557             199364                 345  "
      ]
     },
     "execution_count": 22,
     "metadata": {},
     "output_type": "execute_result"
    }
   ],
   "source": [
    "#Metrics for training\n",
    "metrics_training_2"
   ]
  },
  {
   "cell_type": "code",
   "execution_count": 23,
   "metadata": {},
   "outputs": [
    {
     "data": {
      "text/html": [
       "<div>\n",
       "<style scoped>\n",
       "    .dataframe tbody tr th:only-of-type {\n",
       "        vertical-align: middle;\n",
       "    }\n",
       "\n",
       "    .dataframe tbody tr th {\n",
       "        vertical-align: top;\n",
       "    }\n",
       "\n",
       "    .dataframe thead th {\n",
       "        text-align: right;\n",
       "    }\n",
       "</style>\n",
       "<table border=\"1\" class=\"dataframe\">\n",
       "  <thead>\n",
       "    <tr style=\"text-align: right;\">\n",
       "      <th></th>\n",
       "      <th>set of features</th>\n",
       "      <th>tp</th>\n",
       "      <th>tn</th>\n",
       "      <th>fp</th>\n",
       "      <th>fn</th>\n",
       "      <th>accuracy</th>\n",
       "      <th>recall</th>\n",
       "      <th>precision</th>\n",
       "      <th>f1-score</th>\n",
       "      <th>total transaction</th>\n",
       "      <th>fraud transactions</th>\n",
       "    </tr>\n",
       "  </thead>\n",
       "  <tbody>\n",
       "    <tr>\n",
       "      <th>0</th>\n",
       "      <td>v1</td>\n",
       "      <td>104</td>\n",
       "      <td>85291</td>\n",
       "      <td>5</td>\n",
       "      <td>43</td>\n",
       "      <td>0.999438</td>\n",
       "      <td>0.707483</td>\n",
       "      <td>0.954128</td>\n",
       "      <td>0.812500</td>\n",
       "      <td>85443</td>\n",
       "      <td>147</td>\n",
       "    </tr>\n",
       "    <tr>\n",
       "      <th>1</th>\n",
       "      <td>v2</td>\n",
       "      <td>95</td>\n",
       "      <td>85284</td>\n",
       "      <td>12</td>\n",
       "      <td>52</td>\n",
       "      <td>0.999251</td>\n",
       "      <td>0.646259</td>\n",
       "      <td>0.887850</td>\n",
       "      <td>0.748031</td>\n",
       "      <td>85443</td>\n",
       "      <td>147</td>\n",
       "    </tr>\n",
       "    <tr>\n",
       "      <th>2</th>\n",
       "      <td>v3</td>\n",
       "      <td>107</td>\n",
       "      <td>85288</td>\n",
       "      <td>8</td>\n",
       "      <td>40</td>\n",
       "      <td>0.999438</td>\n",
       "      <td>0.727891</td>\n",
       "      <td>0.930435</td>\n",
       "      <td>0.816794</td>\n",
       "      <td>85443</td>\n",
       "      <td>147</td>\n",
       "    </tr>\n",
       "    <tr>\n",
       "      <th>3</th>\n",
       "      <td>v4</td>\n",
       "      <td>104</td>\n",
       "      <td>85286</td>\n",
       "      <td>10</td>\n",
       "      <td>43</td>\n",
       "      <td>0.999380</td>\n",
       "      <td>0.707483</td>\n",
       "      <td>0.912281</td>\n",
       "      <td>0.796935</td>\n",
       "      <td>85443</td>\n",
       "      <td>147</td>\n",
       "    </tr>\n",
       "    <tr>\n",
       "      <th>4</th>\n",
       "      <td>v5</td>\n",
       "      <td>107</td>\n",
       "      <td>85291</td>\n",
       "      <td>5</td>\n",
       "      <td>40</td>\n",
       "      <td>0.999473</td>\n",
       "      <td>0.727891</td>\n",
       "      <td>0.955357</td>\n",
       "      <td>0.826255</td>\n",
       "      <td>85443</td>\n",
       "      <td>147</td>\n",
       "    </tr>\n",
       "    <tr>\n",
       "      <th>5</th>\n",
       "      <td>v6</td>\n",
       "      <td>109</td>\n",
       "      <td>85290</td>\n",
       "      <td>6</td>\n",
       "      <td>38</td>\n",
       "      <td>0.999485</td>\n",
       "      <td>0.741497</td>\n",
       "      <td>0.947826</td>\n",
       "      <td>0.832061</td>\n",
       "      <td>85443</td>\n",
       "      <td>147</td>\n",
       "    </tr>\n",
       "    <tr>\n",
       "      <th>6</th>\n",
       "      <td>v7</td>\n",
       "      <td>109</td>\n",
       "      <td>85290</td>\n",
       "      <td>6</td>\n",
       "      <td>38</td>\n",
       "      <td>0.999485</td>\n",
       "      <td>0.741497</td>\n",
       "      <td>0.947826</td>\n",
       "      <td>0.832061</td>\n",
       "      <td>85443</td>\n",
       "      <td>147</td>\n",
       "    </tr>\n",
       "  </tbody>\n",
       "</table>\n",
       "</div>"
      ],
      "text/plain": [
       "  set of features   tp     tn  fp  fn  accuracy    recall  precision  \\\n",
       "0              v1  104  85291   5  43  0.999438  0.707483   0.954128   \n",
       "1              v2   95  85284  12  52  0.999251  0.646259   0.887850   \n",
       "2              v3  107  85288   8  40  0.999438  0.727891   0.930435   \n",
       "3              v4  104  85286  10  43  0.999380  0.707483   0.912281   \n",
       "4              v5  107  85291   5  40  0.999473  0.727891   0.955357   \n",
       "5              v6  109  85290   6  38  0.999485  0.741497   0.947826   \n",
       "6              v7  109  85290   6  38  0.999485  0.741497   0.947826   \n",
       "\n",
       "   f1-score  total transaction  fraud transactions  \n",
       "0  0.812500              85443                 147  \n",
       "1  0.748031              85443                 147  \n",
       "2  0.816794              85443                 147  \n",
       "3  0.796935              85443                 147  \n",
       "4  0.826255              85443                 147  \n",
       "5  0.832061              85443                 147  \n",
       "6  0.832061              85443                 147  "
      ]
     },
     "execution_count": 23,
     "metadata": {},
     "output_type": "execute_result"
    }
   ],
   "source": [
    "#Metrics for testing\n",
    "metrics_testing_2"
   ]
  },
  {
   "cell_type": "code",
   "execution_count": 24,
   "metadata": {},
   "outputs": [
    {
     "data": {
      "image/png": "[encoded data removed]",
      "text/plain": [
       "<Figure size 1000x500 with 2 Axes>"
      ]
     },
     "metadata": {},
     "output_type": "display_data"
    },
    {
     "name": "stdout",
     "output_type": "stream",
     "text": [
      "Training AUC:\n",
      "v7 -> 0.9941589802328246\n",
      "v7 -> 0.9883380881775835\n",
      "v7 -> 0.9883510940001287\n",
      "v7 -> 0.9912614344373646\n",
      "v7 -> 0.997060931696056\n",
      "v7 -> 0.9927237593148014\n",
      "v7 -> 0.995626096729094\n",
      "\n",
      "Testing AUC:\n",
      "v7 -> 0.9248301951619139\n",
      "v7 -> 0.921349877880246\n",
      "v7 -> 0.9179881950904542\n",
      "v7 -> 0.9247531525271898\n",
      "v7 -> 0.9282688009550097\n",
      "v7 -> 0.924884826843887\n",
      "v7 -> 0.928263537172513\n"
     ]
    }
   ],
   "source": [
    "fig, axs = plt.subplots(1, 2, figsize = (10, 5))\n",
    "\n",
    "#ROC curve for training\n",
    "for i in roc_auc_training.keys():\n",
    "    axs[0].plot(roc_auc_training[i][0], roc_auc_training[i][1], label = i)\n",
    "    axs[0].set_xlabel(\"False Positive Rate\")\n",
    "    axs[0].set_ylabel(\"True Positive Rate\")\n",
    "    axs[0].set_title(\"ROC curve for training\")\n",
    "    axs[0].legend()\n",
    "\n",
    "#ROC curve for testing\n",
    "for i in roc_auc_testing.keys():\n",
    "    axs[1].plot(roc_auc_testing[i][0], roc_auc_testing[i][1], label = i)\n",
    "    axs[1].set_xlabel(\"False Positive Rate\")\n",
    "    axs[1].set_ylabel(\"True Positive Rate\")\n",
    "    axs[1].set_title(\"ROC curve for testing\")\n",
    "    axs[1].legend()\n",
    "\n",
    "plt.tight_layout()\n",
    "plt.show()\n",
    "\n",
    "print(\"Training AUC:\")\n",
    "for i, auc in roc_auc_training.items():\n",
    "    print(f\"{key} -> {auc[2]}\")\n",
    "\n",
    "print(\"\\nTesting AUC:\")\n",
    "for i, auc in roc_auc_testing.items():\n",
    "    print(f\"{key} -> {auc[2]}\")"
   ]
  }
 ],
 "metadata": {
  "kernelspec": {
   "display_name": "venv",
   "language": "python",
   "name": "python3"
  },
  "language_info": {
   "codemirror_mode": {
    "name": "ipython",
    "version": 3
   },
   "file_extension": ".py",
   "mimetype": "text/x-python",
   "name": "python",
   "nbconvert_exporter": "python",
   "pygments_lexer": "ipython3",
   "version": "3.12.7"
  }
 },
 "nbformat": 4,
 "nbformat_minor": 2
}
