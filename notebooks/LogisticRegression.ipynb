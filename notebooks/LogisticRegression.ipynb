{
 "cells": [
  {
   "cell_type": "markdown",
   "id": "bb25668f",
   "metadata": {},
   "source": [
    "### ***Theory of logistic regression***"
   ]
  },
  {
   "cell_type": "markdown",
   "id": "319f64c3",
   "metadata": {},
   "source": [
    "Logistic regression is the baseline supervised ML algorithm for classification and has very close relationship with neural network: indeed, an artificial neural network can be viewed as a series of logistic regression classifiers stacked on top of each other."
   ]
  },
  {
   "cell_type": "markdown",
   "id": "c4bebd23",
   "metadata": {},
   "source": [
    "##### ***Components***"
   ]
  },
  {
   "cell_type": "markdown",
   "id": "bd194344",
   "metadata": {},
   "source": [
    "Like Naive Bayes, logistic regression is a **probabilistic classifier** that uses these 3 components:\n",
    "1.  a **classification function** that computes $y_{pred}$ (the estimated/predicted class), via $p(y|x)$. In general, the **sigmoid** is the chosen function for computing the probability of a sample to belong to a certain class:\n",
    "$$\n",
    "y_{pred} = sigmoid(z) = \\frac{1}{1 + e^{-z}}\n",
    "$$\n",
    "$$\n",
    "z = \\alpha_0 + \\sum_{i=1}^{n} \\alpha_i X_i = \\alpha_0 + \\alpha_1X_1 + \\alpha_2X_2 + ... + \\alpha_n X_n\n",
    "$$ \n",
    "*   $\\alpha_0$:  bias term\n",
    "*   $\\alpha_i$:  i-th feature's weight\n",
    "*   $X_i$:  i-th feature value\n",
    "*   $n$:  number of features\n",
    "\n",
    "2.  An **objective function** that we want to optimize for learning, usually involving minimizing a loss function corresponding to error on training examples. We will introduce the **cross-entropy loss** function:\n",
    "$$ \n",
    "J_{x-entropy} = -\\frac{1}{N} \\sum_i^N y_i \\log(y_{pred,i}) + (1 - y_i) \\log(1 - y_{pred,i}) \n",
    "$$ \n",
    "*   $y_i$ is the true class of the sample\n",
    "*   $N$: number of samples\n",
    "\n",
    "3.  An algorithm for **optimizing** the objective function (*Stochastic Gradient Descent* and *RMSprop* algorithms)"
   ]
  },
  {
   "cell_type": "markdown",
   "id": "1526b69a",
   "metadata": {},
   "source": [
    "#### ***Import libraries***"
   ]
  },
  {
   "cell_type": "code",
   "id": "initial_id",
   "metadata": {
    "collapsed": true,
    "ExecuteTime": {
     "end_time": "2025-02-08T11:34:47.688959Z",
     "start_time": "2025-02-08T11:34:45.659089Z"
    }
   },
   "source": [
    "import sys\n",
    "sys.path.append('../')\n",
    "\n",
    "import jax\n",
    "import jax.numpy as jnp\n",
    "import matplotlib.pyplot as plt\n",
    "import utils.model_evaluation as me\n",
    "import pandas as pd\n",
    "\n",
    "from utils.models.base_model import BaseModel\n",
    "from utils.preprocessing import *\n",
    "from utils.data_processer import *"
   ],
   "outputs": [],
   "execution_count": 1
  },
  {
   "cell_type": "markdown",
   "id": "fe9775c1",
   "metadata": {},
   "source": [
    "#### ***Model definition***"
   ]
  },
  {
   "cell_type": "code",
   "id": "91050f89",
   "metadata": {
    "ExecuteTime": {
     "end_time": "2025-02-08T11:35:20.248966Z",
     "start_time": "2025-02-08T11:35:20.228307Z"
    }
   },
   "source": [
    "class LogisticRegression(BaseModel):\n",
    "    def __init__(self, num_features=None):\n",
    "        \"\"\"\n",
    "        A class representing a logistic regression classifier configuration for specifying the number of features\n",
    "        the classifier has to manage.\n",
    "\n",
    "        :param num_features: The number of features of the dataset.\n",
    "        :type num_features: Optional[int]\n",
    "        \"\"\"\n",
    "\n",
    "        self.num_features = num_features\n",
    "\n",
    "    def initialize_parameters(self, num_features):\n",
    "        \"\"\"\n",
    "            Returns the parameters (weights and bias) for the logistic regression given the number of the dataset's features,\n",
    "            initialized randomly.\n",
    "\n",
    "            :param num_features: The number of features which represents also the number of weights to generate\n",
    "            :type num_features: int\n",
    "            :return: Parameters of the logistic regression classifier, specifically weights and biases.\n",
    "        \"\"\"\n",
    "\n",
    "        self.num_features = num_features\n",
    "\n",
    "        np.random.seed(0)  # For reproducibility\n",
    "\n",
    "        # Parameters\n",
    "        weights = np.random.randn(self.num_features, 1)\n",
    "        bias = 0.\n",
    "\n",
    "        return weights, bias\n",
    "\n",
    "    def MSW(self, weights):\n",
    "        \"\"\"\n",
    "        Computes the mean squared weights (MSW) of a logistic regression classifier's weights.\n",
    "\n",
    "        This function calculates the average of the squared values of the weights present\n",
    "        in the given parameters of a logistic regression classifier.\n",
    "\n",
    "        :param weights: Weights of the logistic regression classifier\n",
    "        :type weights: list\n",
    "        :return: Mean of squared weights of the logistic regression classifier\n",
    "        :rtype: float\n",
    "        \"\"\"\n",
    "\n",
    "        # Calculate MSW\n",
    "        partial_sum = 0.0\n",
    "        n_weights = 0\n",
    "        for W in weights:\n",
    "            partial_sum = partial_sum + jnp.sum(W * W)\n",
    "            n_weights = n_weights + W.size\n",
    "\n",
    "        return partial_sum / n_weights\n",
    "\n",
    "    # Loss function\n",
    "    def cross_entropy(self):\n",
    "        \"\"\"\n",
    "        Defines the cross-entropy loss function for classification problems with\n",
    "        logistic output. This function calculates the negative log-likelihood\n",
    "        of the predictions made by the model when compared with the true labels.\n",
    "        It is commonly used as a loss function for binary classification tasks.\n",
    "\n",
    "        :returns: A callable function that computes the cross-entropy loss\n",
    "            for given input features, true labels, and model parameters. The\n",
    "            callable expects four arguments: x (input features), y (true labels), \n",
    "            weights and bias (model parameters).\n",
    "        :rtype: Callable\n",
    "        \"\"\"\n",
    "        def callable(x, y, weights, bias):\n",
    "            y_pred = self.predict(x, weights, bias)\n",
    "            return -jnp.mean(y * jnp.log(y_pred) + (1 - y) * jnp.log(1 - y_pred))\n",
    "        return callable\n",
    "\n",
    "    def regularized_loss(self, loss_function, penalization):\n",
    "        \"\"\"\n",
    "        Computes a regularized loss function by combining the given loss function with\n",
    "        a penalization term. The penalization term is scaled based on the dataset size\n",
    "        and involves the Mean Squared Weight (MSW) for the provided weights.\n",
    "\n",
    "        This method returns a callable function that takes `x`, `y`, `weights` and `bias` as inputs\n",
    "        and computes the regularized loss by applying the given loss function and adding\n",
    "        the scaled penalization term.\n",
    "\n",
    "        :param loss_function: A callable function representing the loss function to be\n",
    "            applied to the dataset. It should accept `x`, `y`, `weights` and `bias` as inputs.\n",
    "        :param penalization: A scalar value representing the penalization term to be\n",
    "            applied during regularization. This value is combined with the MSW.\n",
    "        :return: Returns a callable function which computes the regularized loss as a\n",
    "            combination of the loss function and the penalization term.\n",
    "        \"\"\"\n",
    "        def callable(x, y, weights, bias):\n",
    "            return loss_function(x, y, weights, bias) + penalization / (2 * x.shape[0]) * self.MSW(weights)\n",
    "\n",
    "        return callable\n",
    "\n",
    "    # Optimisation algorithms\n",
    "    def SGD(\n",
    "            self,\n",
    "            loss_function,\n",
    "            epochs=1000,\n",
    "            batch_size=128,\n",
    "            learning_rate_min=1e-3,\n",
    "            learning_rate_max=1e-1,\n",
    "            learning_rate_decay=1000,\n",
    "    ):\n",
    "        \"\"\"\n",
    "        Creates a Stochastic Gradient Descent (SGD) optimizer as a callable function.\n",
    "\n",
    "        This optimizer performs parameter updates based on gradient descent using\n",
    "        a randomly selected batch of data at each iteration. The learning rate\n",
    "        decays linearly over the specified number of epochs. The optimization\n",
    "        process history, including the loss at each epoch, is also recorded and\n",
    "        returned.\n",
    "\n",
    "        :param loss_function: The loss function used to guide the optimization\n",
    "            process. Should accept inputs, labels, and model parameters, and\n",
    "            return a scalar loss value.\n",
    "        :param epochs: The total number of iterations for training the model.\n",
    "        :param batch_size: The number of samples to randomly select for computing\n",
    "            gradients at each iteration.\n",
    "        :param learning_rate_min: The minimum boundary for the learning rate.\n",
    "        :param learning_rate_max: The initial maximum learning rate.\n",
    "        :param learning_rate_decay: The rate at which the learning rate decreases\n",
    "            linearly over the epochs. The learning rate reaches `learning_rate_min`\n",
    "            when `epochs` are completed.\n",
    "        :return: A callable optimizer function that applies SGD on the provided\n",
    "            data and model parameters and returns the updated parameters and a\n",
    "            history of loss values over all epochs.\n",
    "        \"\"\"\n",
    "        def callable(x_train, y_train, weights, bias):\n",
    "            # Number of samples\n",
    "            num_samples = x_train.shape[0]\n",
    "\n",
    "            # Loss and it's gradient functions\n",
    "            loss = jax.jit(loss_function)\n",
    "            grad_loss = jax.jit(jax.grad(loss_function, argnums=[2,3]))\n",
    "\n",
    "            # History\n",
    "            history = list()\n",
    "            history.append(loss(x_train, y_train, weights, bias))\n",
    "\n",
    "            for epoch in range(epochs):\n",
    "                # Get learning rate\n",
    "                learning_rate = max(learning_rate_min, learning_rate_max * (1 - epoch/learning_rate_decay))\n",
    "\n",
    "                # Select batch_size indices randomly\n",
    "                idxs = np.random.choice(num_samples, batch_size)\n",
    "\n",
    "                # Calculate gradient\n",
    "                grad_vals = grad_loss(x_train[idxs,:], y_train[idxs,:], weights, bias)\n",
    "\n",
    "                # Update weights and bias\n",
    "                weights = weights - learning_rate * grad_vals[0]\n",
    "                bias = bias - learning_rate * grad_vals[1]\n",
    "\n",
    "                # Update history\n",
    "                history.append(loss(x_train, y_train, weights, bias))\n",
    "            return weights, bias, history\n",
    "        return callable\n",
    "\n",
    "    def RMSprop(\n",
    "            self,\n",
    "            loss_function,\n",
    "            epochs=1000,\n",
    "            batch_size=128,\n",
    "            learning_rate=0.1,\n",
    "            decay_rate = 0.9,\n",
    "            epsilon = 1e-8\n",
    "    ):\n",
    "        \"\"\"\n",
    "        Implements the RMSprop optimization algorithm. RMSprop is an adaptive learning rate method\n",
    "        that maintains a moving average of the square of the gradients to normalize the gradient step sizes.\n",
    "        This function returns a callable object capable of training a model using inputs, outputs, and\n",
    "        initial parameters.\n",
    "\n",
    "        :param loss_function: The loss function to be minimized. This function must take the training inputs,\n",
    "            expected outputs, and model parameters as arguments and return the corresponding loss.\n",
    "        :type loss_function: callable\n",
    "        :param epochs: The number of training iterations.\n",
    "        :type epochs: int, optional\n",
    "        :param batch_size: The number of data samples to use in each iteration.\n",
    "        :type batch_size: int, optional\n",
    "        :param learning_rate: The initial learning rate for the optimizer.\n",
    "        :type learning_rate: float, optional\n",
    "        :param decay_rate: The decay rate used for the moving average of squared gradients.\n",
    "        :type decay_rate: float, optional\n",
    "        :param epsilon: A small constant to avoid division by zero.\n",
    "        :type epsilon: float, optional\n",
    "        :return: A callable that takes training inputs, training outputs, and model parameters as input and returns\n",
    "            updated parameters and the training loss history.\n",
    "        :rtype: callable\n",
    "        \"\"\"\n",
    "        def callable(x_train, y_train, weights, bias):\n",
    "            # Number of samples\n",
    "            num_samples = x_train.shape[0]\n",
    "\n",
    "            # Loss and it's gradient functions\n",
    "            loss = jax.jit(loss_function)\n",
    "            grad_loss = jax.jit(jax.grad(loss_function, argnums=[2,3]))\n",
    "\n",
    "            # History\n",
    "            history = list()\n",
    "            history.append(loss(x_train, y_train, weights, bias))\n",
    "\n",
    "            # Initialize cumulated square gradient\n",
    "            cumulated_square_grad = list()\n",
    "            cumulated_square_grad.append(np.zeros_like(weights))\n",
    "            cumulated_square_grad.append(np.zeros_like(bias))\n",
    "\n",
    "            for epoch in range(epochs):\n",
    "                # Select batch_size indices randomly\n",
    "                idxs = np.random.choice(num_samples, batch_size)\n",
    "\n",
    "                # Calculate gradient\n",
    "                grad_val = grad_loss(x_train[idxs,:], y_train[idxs,:], weights, bias)\n",
    "\n",
    "                # Update cumulated square gradient of weights\n",
    "                cumulated_square_grad[0] = decay_rate * cumulated_square_grad[0] + (1 - decay_rate) * grad_val[0] * grad_val[0]\n",
    "\n",
    "                # Update weights\n",
    "                weights = weights - learning_rate * grad_val[0] / (epsilon + np.sqrt(cumulated_square_grad[0]))\n",
    "\n",
    "                # Update cumulated square gradient of bias\n",
    "                cumulated_square_grad[1] = decay_rate * cumulated_square_grad[1] + (1 - decay_rate) * grad_val[1] * grad_val[1]\n",
    "\n",
    "                # Update bias\n",
    "                bias = bias - learning_rate * grad_val[1] / (epsilon + np.sqrt(cumulated_square_grad[1]))\n",
    "\n",
    "                # Update history\n",
    "                history.append(loss(x_train, y_train, weights, bias))\n",
    "            return weights, bias, history\n",
    "        return callable\n",
    "        \n",
    "    def fit(self, X=None, y=None, weights=None, bias=None, optimizer=None):\n",
    "        \"\"\"\n",
    "        Fits the model to the data (X, y) using the specified parameters (weights and bias) and optimization\n",
    "        strategy. The function applies the provided optimizer to train on the input data\n",
    "        and returns the updated parameters and the loss function optimization history.\n",
    "\n",
    "        The function does not modify the data or labels directly,\n",
    "        but operates through the given optimizer.\n",
    "\n",
    "        :param X: Input features for the model.\n",
    "        :param y: Target labels corresponding to the input features.\n",
    "        :param weights: Weights to optimize\n",
    "        :param bias: Bias to optimize\n",
    "        :param optimizer: Callable, the function used for optimization.\n",
    "        :return: Optimized parameters and the loss function optimization history.\n",
    "        \"\"\"\n",
    "\n",
    "        return optimizer(X, y, weights, bias)\n",
    "\n",
    "    def predict(self, X=None, weights=None, bias=None):\n",
    "        \"\"\"\n",
    "        Predicts output values based on the provided input data, model weights and bias.\n",
    "\n",
    "        :param X: The input data, expected to be a NumPy array of shape (n_samples, n_features).\n",
    "        :param weights: A list containing the weights of the model.\n",
    "        :param bias: A float contain the bias of the model.\n",
    "        :return: The predicted output values, as a NumPy array of shape (n_samples, n_outputs).\n",
    "        \"\"\"\n",
    "        # Algorithm\n",
    "        z = bias + X @ weights\n",
    "        y_pred = jax.nn.sigmoid(-z)\n",
    "        \n",
    "        return y_pred"
   ],
   "outputs": [],
   "execution_count": 3
  },
  {
   "cell_type": "markdown",
   "id": "765ea31f",
   "metadata": {},
   "source": [
    "#### ***Read dataset***"
   ]
  },
  {
   "cell_type": "code",
   "id": "6e03c2571bf11f0a",
   "metadata": {
    "ExecuteTime": {
     "end_time": "2025-02-08T11:35:24.025601Z",
     "start_time": "2025-02-08T11:35:23.263994Z"
    }
   },
   "source": [
    "dataset = pd.read_csv(\"../creditcard_2021.csv\")\n",
    "print(f\"Number of samples: {len(dataset)}\")\n",
    "print(f\"Number of fraudolent transaction: {(dataset['Class'] == 1).sum()}\")\n",
    "print(f\"Ratio of fraudolent transaction: {dataset['Class'].mean()}\")"
   ],
   "outputs": [
    {
     "name": "stdout",
     "output_type": "stream",
     "text": [
      "Number of samples: 284807\n",
      "Number of fraudolent transaction: 492\n",
      "Ratio of fraudolent transaction: 0.001727485630620034\n"
     ]
    }
   ],
   "execution_count": 4
  },
  {
   "cell_type": "markdown",
   "id": "a0b139f1",
   "metadata": {},
   "source": [
    "#### ***Usage of the model***"
   ]
  },
  {
   "cell_type": "code",
   "id": "9cdfc41e",
   "metadata": {
    "ExecuteTime": {
     "end_time": "2025-02-08T11:35:25.604843Z",
     "start_time": "2025-02-08T11:35:25.603014Z"
    }
   },
   "source": [
    "# Logistic Regression classifier\n",
    "lr_classifier = LogisticRegression()"
   ],
   "outputs": [],
   "execution_count": 5
  },
  {
   "cell_type": "markdown",
   "id": "deb4288f",
   "metadata": {},
   "source": [
    "##### ***Example of usage (full features vector - v7)***"
   ]
  },
  {
   "cell_type": "code",
   "id": "174dba2e",
   "metadata": {
    "ExecuteTime": {
     "end_time": "2025-02-08T11:35:26.702411Z",
     "start_time": "2025-02-08T11:35:26.642887Z"
    }
   },
   "source": [
    "data = dataset[me.feature_vectors['v7'] + ['Class']]\n",
    "data = data.to_numpy()"
   ],
   "outputs": [],
   "execution_count": 6
  },
  {
   "metadata": {},
   "cell_type": "markdown",
   "source": "##### ***Split dataset into training and testing sets***",
   "id": "83320bbbb543848f"
  },
  {
   "metadata": {
    "ExecuteTime": {
     "end_time": "2025-02-08T11:35:27.798241Z",
     "start_time": "2025-02-08T11:35:27.556253Z"
    }
   },
   "cell_type": "code",
   "source": [
    "X_train, y_train, _, _, X_test, y_test = data_split(data_input=data, train_size=0.8)\n",
    "X_train.shape, y_train.shape, X_test.shape, y_test.shape"
   ],
   "id": "4aa088f7624833bd",
   "outputs": [
    {
     "data": {
      "text/plain": [
       "((227845, 29), (227845, 1), (56962, 29), (56962, 1))"
      ]
     },
     "execution_count": 7,
     "metadata": {},
     "output_type": "execute_result"
    }
   ],
   "execution_count": 7
  },
  {
   "metadata": {},
   "cell_type": "markdown",
   "source": [
    "##### ***Apply SMOTE***\n",
    "This helps to reduce the imbalance in the dataset between normal and fraudulent transactions"
   ],
   "id": "cbc67d0f086fbe04"
  },
  {
   "metadata": {
    "ExecuteTime": {
     "end_time": "2025-02-08T11:35:29.414459Z",
     "start_time": "2025-02-08T11:35:28.844882Z"
    }
   },
   "cell_type": "code",
   "source": [
    "# Number of samples to generate\n",
    "n_samples = 5000\n",
    "\n",
    "# Minority class samples (attacks)\n",
    "X_minority = X_train[y_train[:, 0] == 1]\n",
    "\n",
    "# Generate synthetic fraudulent samples with SMOTE\n",
    "X_smote = fit_resample(X_minority, n_samples, k=5)\n",
    "y_smote = np.ones((n_samples, 1))\n",
    "\n",
    "# Add synthetic data to the training set\n",
    "X_train = np.concatenate((X_train, X_smote), axis=0)\n",
    "y_train = np.concatenate((y_train, y_smote), axis=0)"
   ],
   "id": "626c3802ca05deb6",
   "outputs": [],
   "execution_count": 8
  },
  {
   "metadata": {},
   "cell_type": "markdown",
   "source": "##### ***Normalize training and testing sets, with min-max scaling method***",
   "id": "cbc22762ad2c2c58"
  },
  {
   "metadata": {
    "ExecuteTime": {
     "end_time": "2025-02-08T11:35:30.944646Z",
     "start_time": "2025-02-08T11:35:30.890790Z"
    }
   },
   "cell_type": "code",
   "source": [
    "# Normalize training set\n",
    "X_train_normalized, data_train_min, data_train_max = min_max(data=X_train)\n",
    "\n",
    "# Normalize testing set\n",
    "X_test_normalized, _, _ = min_max(X_test, data_train_min, data_train_max)"
   ],
   "id": "2aea9c43bb499f73",
   "outputs": [],
   "execution_count": 9
  },
  {
   "metadata": {},
   "cell_type": "markdown",
   "source": "##### ***Train Logistic Regression Classifier***",
   "id": "631a411db598c194"
  },
  {
   "metadata": {
    "ExecuteTime": {
     "end_time": "2025-02-08T11:36:07.909581Z",
     "start_time": "2025-02-08T11:35:32.059653Z"
    }
   },
   "cell_type": "code",
   "source": [
    "# Initialize weights and biases\n",
    "weights, bias = lr_classifier.initialize_parameters(X_train_normalized.shape[1])\n",
    "\n",
    "# Train logistic regression classifier\n",
    "updated_weights, updated_bias, history = lr_classifier.fit(\n",
    "    X = X_train_normalized,\n",
    "    y = y_train,\n",
    "    weights = weights,\n",
    "    bias = bias,\n",
    "    optimizer = lr_classifier.RMSprop(\n",
    "        loss_function=lr_classifier.regularized_loss(\n",
    "            lr_classifier.cross_entropy(),\n",
    "            penalization=0.5\n",
    "        ),\n",
    "        epochs=8000,\n",
    "        batch_size=4096,\n",
    "        learning_rate=0.001,\n",
    "        decay_rate=0.9,\n",
    "        epsilon=1e-8,\n",
    "    )\n",
    ")"
   ],
   "id": "41054ab50e3d951d",
   "outputs": [],
   "execution_count": 10
  },
  {
   "metadata": {},
   "cell_type": "markdown",
   "source": "##### ***Evaluation***",
   "id": "869dd02cfa18b5e3"
  },
  {
   "metadata": {
    "ExecuteTime": {
     "end_time": "2025-02-08T11:36:11.279887Z",
     "start_time": "2025-02-08T11:36:11.165736Z"
    }
   },
   "cell_type": "code",
   "source": [
    "# Get testing predicted labels\n",
    "y_pred = lr_classifier.predict(X_test_normalized, updated_weights, updated_bias)\n",
    "y_fraud_pred = y_pred >= 0.5"
   ],
   "id": "407577ea334680c",
   "outputs": [],
   "execution_count": 11
  },
  {
   "metadata": {
    "ExecuteTime": {
     "end_time": "2025-02-08T11:36:12.997768Z",
     "start_time": "2025-02-08T11:36:12.862797Z"
    }
   },
   "cell_type": "code",
   "source": [
    "metrics = me.compute_metrics(\n",
    "    y_true=y_test,\n",
    "    y_pred=y_fraud_pred,\n",
    "    metrics_df=None,\n",
    "    dataset_label='v7 training'\n",
    ")\n",
    "\n",
    "print(\"Precision:\", metrics[\"precision\"][0])\n",
    "print(\"Recall:\", metrics[\"recall\"][0])\n",
    "print(\"F1 Score:\", metrics[\"f1-score\"][0])\n",
    "print(\"Accuracy:\", metrics[\"accuracy\"][0])\n",
    "\n",
    "fpr, tpr, auc = me.compute_roc_auc(y_test, y_fraud_pred)\n",
    "print(\"AUC Score:\", auc)\n",
    "\n",
    "plt.plot(fpr, tpr)\n",
    "plt.xlabel(\"False Positive Rate\")\n",
    "plt.ylabel(\"True Positive Rate\")\n",
    "plt.title(\"ROC curve (all features)\")\n",
    "plt.tight_layout()\n",
    "plt.show()"
   ],
   "id": "2451c5b0b9c8a641",
   "outputs": [
    {
     "name": "stdout",
     "output_type": "stream",
     "text": [
      "Precision: 0.9078947368421053\n",
      "Recall: 0.6831683168316832\n",
      "F1 Score: 0.7796610169491525\n",
      "Accuracy: 0.9993153330290369\n",
      "AUC Score: 0.8415226048026446\n"
     ]
    },
    {
     "data": {
      "text/plain": [
       "<Figure size 640x480 with 1 Axes>"
      ],
      "image/png": "[encoded data removed]"
     },
     "metadata": {},
     "output_type": "display_data"
    }
   ],
   "execution_count": 12
  },
  {
   "metadata": {},
   "cell_type": "markdown",
   "source": "#### ***Training and Evaluation (for all feature vectors)***\n",
   "id": "bfb4a6d96a2376fe"
  },
  {
   "metadata": {
    "ExecuteTime": {
     "end_time": "2025-02-08T11:36:47.390579Z",
     "start_time": "2025-02-08T11:36:47.159983Z"
    }
   },
   "cell_type": "code",
   "source": [
    "# Split data\n",
    "X_train, y_train, _, _, X_test, y_test = data_split(dataset.to_numpy(), train_size=0.8)\n",
    "X_train.shape, y_train.shape, X_test.shape, y_test.shape"
   ],
   "id": "26caf9281b0a9232",
   "outputs": [
    {
     "data": {
      "text/plain": [
       "((227845, 30), (227845, 1), (56962, 30), (56962, 1))"
      ]
     },
     "execution_count": 13,
     "metadata": {},
     "output_type": "execute_result"
    }
   ],
   "execution_count": 13
  },
  {
   "metadata": {
    "ExecuteTime": {
     "end_time": "2025-02-08T11:36:48.884808Z",
     "start_time": "2025-02-08T11:36:48.641047Z"
    }
   },
   "cell_type": "code",
   "source": [
    "# Number of samples to generate\n",
    "n_samples = 5000\n",
    "\n",
    "# Minority class samples (attacks)\n",
    "X_minority = X_train[y_train[:, 0] == 1]\n",
    "\n",
    "# Generate synthetic fraudulent samples with SMOTE\n",
    "X_smote = fit_resample(X_minority, n_samples, k=5)\n",
    "y_smote = np.ones((n_samples, 1))\n",
    "\n",
    "# Add synthetic data to the training set\n",
    "X_train = np.concatenate((X_train, X_smote), axis=0)\n",
    "y_train = np.concatenate((y_train, y_smote), axis=0)"
   ],
   "id": "8f7604ec6247dc3f",
   "outputs": [],
   "execution_count": 14
  },
  {
   "metadata": {
    "ExecuteTime": {
     "end_time": "2025-02-08T11:36:52.171219Z",
     "start_time": "2025-02-08T11:36:52.109993Z"
    }
   },
   "cell_type": "code",
   "source": [
    "# Normalize training set\n",
    "X_train_normalized, data_train_min, data_train_max = min_max(X_train)\n",
    "\n",
    "# Normalize testing set\n",
    "X_test_normalized, _, _ = min_max(X_test, data_train_min, data_train_max)"
   ],
   "id": "2e687fcf8a61f5a1",
   "outputs": [],
   "execution_count": 15
  },
  {
   "metadata": {
    "ExecuteTime": {
     "end_time": "2025-02-08T11:41:02.089940Z",
     "start_time": "2025-02-08T11:36:53.633727Z"
    }
   },
   "cell_type": "code",
   "source": [
    "# Metrics\n",
    "metrics_training = pd.DataFrame()\n",
    "metrics_testing = pd.DataFrame()\n",
    "\n",
    "# ROC AUC scores\n",
    "roc_auc_training = {}\n",
    "roc_auc_testing = {}\n",
    "\n",
    "# Run the model for each feature vector\n",
    "for key, value in me.feature_vectors.items():\n",
    "    print(f\"Running model for feature vector {key}...\")\n",
    "\n",
    "    # Get dataset for the current feature vector\n",
    "    X_train_curr = X_train_normalized[:, np.array(me.feature_masks[key]).astype(bool)]\n",
    "    X_test_curr = X_test_normalized[:, np.array(me.feature_masks[key]).astype(bool)]\n",
    "\n",
    "    # Initialize weights and biases\n",
    "    weights, bias = lr_classifier.initialize_parameters(X_train_curr.shape[1])\n",
    "\n",
    "    # Train Logistic Regression Classifier\n",
    "\n",
    "    if key == 'v6' or key == 'v7':\n",
    "        updated_weights, updated_bias, history = lr_classifier.fit(\n",
    "            X=X_train_curr,\n",
    "            y=y_train,\n",
    "            weights=weights,\n",
    "            bias=bias,\n",
    "            optimizer=lr_classifier.RMSprop(\n",
    "                loss_function=lr_classifier.regularized_loss(\n",
    "                    lr_classifier.cross_entropy(),\n",
    "                    penalization=0.5\n",
    "                ),\n",
    "                epochs=7500,\n",
    "                batch_size=4096,\n",
    "                learning_rate=0.001,\n",
    "                decay_rate=0.9,\n",
    "                epsilon=1e-8,\n",
    "            )\n",
    "        )\n",
    "    else:\n",
    "        updated_weights, updated_bias, history = lr_classifier.fit(\n",
    "            X=X_train_curr,\n",
    "            y=y_train,\n",
    "            weights=weights,\n",
    "            bias=bias,\n",
    "            optimizer=lr_classifier.RMSprop(\n",
    "                loss_function=lr_classifier.regularized_loss(\n",
    "                    lr_classifier.cross_entropy(),\n",
    "                    penalization=0.5\n",
    "                ),\n",
    "                epochs=10000,\n",
    "                batch_size=10000,\n",
    "                learning_rate=0.001,\n",
    "                decay_rate=0.9,\n",
    "                epsilon=1e-8,\n",
    "            )\n",
    "        )\n",
    "\n",
    "    # Get training predicted labels\n",
    "    y_train_pred = lr_classifier.predict(X_train_curr, updated_weights, updated_bias)\n",
    "    train_fraud_pred = y_train_pred >= 0.5\n",
    "\n",
    "    # Save training metrics\n",
    "    metrics_training = me.compute_metrics(\n",
    "        y_true=y_train,\n",
    "        y_pred=train_fraud_pred,\n",
    "        metrics_df=metrics_training,\n",
    "        dataset_label=key + ' training'\n",
    "    )\n",
    "    roc_auc_training[key] = me.compute_roc_auc(y_train, y_train_pred)\n",
    "\n",
    "    # Get validation predicted labels\n",
    "    # ...\n",
    "\n",
    "    # Get testing predicted labels\n",
    "    y_test_pred = lr_classifier.predict(X_test_curr, updated_weights, updated_bias)\n",
    "    test_fraud_pred = y_test_pred >= 0.5\n",
    "\n",
    "    # Save testing metrics\n",
    "    metrics_testing = me.compute_metrics(\n",
    "        y_true=y_test,\n",
    "        y_pred=test_fraud_pred,\n",
    "        metrics_df=metrics_testing,\n",
    "        dataset_label=key + ' testing'\n",
    "    )\n",
    "    roc_auc_testing[key] = me.compute_roc_auc(y_test, y_test_pred)"
   ],
   "id": "4d12a4be80f11662",
   "outputs": [
    {
     "name": "stdout",
     "output_type": "stream",
     "text": [
      "Running model for feature vector v1...\n",
      "Running model for feature vector v2...\n",
      "Running model for feature vector v3...\n",
      "Running model for feature vector v4...\n",
      "Running model for feature vector v5...\n",
      "Running model for feature vector v6...\n",
      "Running model for feature vector v7...\n"
     ]
    }
   ],
   "execution_count": 16
  },
  {
   "metadata": {
    "ExecuteTime": {
     "end_time": "2025-02-08T11:41:03.427437Z",
     "start_time": "2025-02-08T11:41:03.405681Z"
    }
   },
   "cell_type": "code",
   "source": "metrics_training",
   "id": "b32bbb8aa898e686",
   "outputs": [
    {
     "data": {
      "text/plain": [
       "  set of features    tp      tn  fp    fn  accuracy    recall  precision  \\\n",
       "0     v1 training  3507  227407  47  1884  0.991707  0.650529   0.986775   \n",
       "1     v2 training  2001  227420  34  3390  0.985295  0.371174   0.983292   \n",
       "2     v3 training  3422  227407  47  1969  0.991342  0.634762   0.986451   \n",
       "3     v4 training  1930  227419  35  3461  0.984986  0.358004   0.982188   \n",
       "4     v5 training  3636  227403  51  1755  0.992244  0.674457   0.986168   \n",
       "5     v6 training  3852  227410  44  1539  0.993201  0.714524   0.988706   \n",
       "6     v7 training  3870  227409  45  1521  0.993274  0.717863   0.988506   \n",
       "\n",
       "   f1-score  total transaction fraud transactions  \n",
       "0  0.784125             232845           [5391.0]  \n",
       "1  0.538917             232845           [5391.0]  \n",
       "2  0.772460             232845           [5391.0]  \n",
       "3  0.524742             232845           [5391.0]  \n",
       "4  0.801058             232845           [5391.0]  \n",
       "5  0.829547             232845           [5391.0]  \n",
       "6  0.831721             232845           [5391.0]  "
      ],
      "text/html": [
       "<div>\n",
       "<style scoped>\n",
       "    .dataframe tbody tr th:only-of-type {\n",
       "        vertical-align: middle;\n",
       "    }\n",
       "\n",
       "    .dataframe tbody tr th {\n",
       "        vertical-align: top;\n",
       "    }\n",
       "\n",
       "    .dataframe thead th {\n",
       "        text-align: right;\n",
       "    }\n",
       "</style>\n",
       "<table border=\"1\" class=\"dataframe\">\n",
       "  <thead>\n",
       "    <tr style=\"text-align: right;\">\n",
       "      <th></th>\n",
       "      <th>set of features</th>\n",
       "      <th>tp</th>\n",
       "      <th>tn</th>\n",
       "      <th>fp</th>\n",
       "      <th>fn</th>\n",
       "      <th>accuracy</th>\n",
       "      <th>recall</th>\n",
       "      <th>precision</th>\n",
       "      <th>f1-score</th>\n",
       "      <th>total transaction</th>\n",
       "      <th>fraud transactions</th>\n",
       "    </tr>\n",
       "  </thead>\n",
       "  <tbody>\n",
       "    <tr>\n",
       "      <th>0</th>\n",
       "      <td>v1 training</td>\n",
       "      <td>3507</td>\n",
       "      <td>227407</td>\n",
       "      <td>47</td>\n",
       "      <td>1884</td>\n",
       "      <td>0.991707</td>\n",
       "      <td>0.650529</td>\n",
       "      <td>0.986775</td>\n",
       "      <td>0.784125</td>\n",
       "      <td>232845</td>\n",
       "      <td>[5391.0]</td>\n",
       "    </tr>\n",
       "    <tr>\n",
       "      <th>1</th>\n",
       "      <td>v2 training</td>\n",
       "      <td>2001</td>\n",
       "      <td>227420</td>\n",
       "      <td>34</td>\n",
       "      <td>3390</td>\n",
       "      <td>0.985295</td>\n",
       "      <td>0.371174</td>\n",
       "      <td>0.983292</td>\n",
       "      <td>0.538917</td>\n",
       "      <td>232845</td>\n",
       "      <td>[5391.0]</td>\n",
       "    </tr>\n",
       "    <tr>\n",
       "      <th>2</th>\n",
       "      <td>v3 training</td>\n",
       "      <td>3422</td>\n",
       "      <td>227407</td>\n",
       "      <td>47</td>\n",
       "      <td>1969</td>\n",
       "      <td>0.991342</td>\n",
       "      <td>0.634762</td>\n",
       "      <td>0.986451</td>\n",
       "      <td>0.772460</td>\n",
       "      <td>232845</td>\n",
       "      <td>[5391.0]</td>\n",
       "    </tr>\n",
       "    <tr>\n",
       "      <th>3</th>\n",
       "      <td>v4 training</td>\n",
       "      <td>1930</td>\n",
       "      <td>227419</td>\n",
       "      <td>35</td>\n",
       "      <td>3461</td>\n",
       "      <td>0.984986</td>\n",
       "      <td>0.358004</td>\n",
       "      <td>0.982188</td>\n",
       "      <td>0.524742</td>\n",
       "      <td>232845</td>\n",
       "      <td>[5391.0]</td>\n",
       "    </tr>\n",
       "    <tr>\n",
       "      <th>4</th>\n",
       "      <td>v5 training</td>\n",
       "      <td>3636</td>\n",
       "      <td>227403</td>\n",
       "      <td>51</td>\n",
       "      <td>1755</td>\n",
       "      <td>0.992244</td>\n",
       "      <td>0.674457</td>\n",
       "      <td>0.986168</td>\n",
       "      <td>0.801058</td>\n",
       "      <td>232845</td>\n",
       "      <td>[5391.0]</td>\n",
       "    </tr>\n",
       "    <tr>\n",
       "      <th>5</th>\n",
       "      <td>v6 training</td>\n",
       "      <td>3852</td>\n",
       "      <td>227410</td>\n",
       "      <td>44</td>\n",
       "      <td>1539</td>\n",
       "      <td>0.993201</td>\n",
       "      <td>0.714524</td>\n",
       "      <td>0.988706</td>\n",
       "      <td>0.829547</td>\n",
       "      <td>232845</td>\n",
       "      <td>[5391.0]</td>\n",
       "    </tr>\n",
       "    <tr>\n",
       "      <th>6</th>\n",
       "      <td>v7 training</td>\n",
       "      <td>3870</td>\n",
       "      <td>227409</td>\n",
       "      <td>45</td>\n",
       "      <td>1521</td>\n",
       "      <td>0.993274</td>\n",
       "      <td>0.717863</td>\n",
       "      <td>0.988506</td>\n",
       "      <td>0.831721</td>\n",
       "      <td>232845</td>\n",
       "      <td>[5391.0]</td>\n",
       "    </tr>\n",
       "  </tbody>\n",
       "</table>\n",
       "</div>"
      ]
     },
     "execution_count": 17,
     "metadata": {},
     "output_type": "execute_result"
    }
   ],
   "execution_count": 17
  },
  {
   "metadata": {
    "ExecuteTime": {
     "end_time": "2025-02-08T11:41:05.969537Z",
     "start_time": "2025-02-08T11:41:05.961065Z"
    }
   },
   "cell_type": "code",
   "source": "metrics_testing",
   "id": "a5347efd0006784d",
   "outputs": [
    {
     "data": {
      "text/plain": [
       "  set of features  tp     tn  fp  fn  accuracy    recall  precision  f1-score  \\\n",
       "0      v1 testing  57  56851  10  44  0.999052  0.564356   0.850746  0.678571   \n",
       "1      v2 testing  36  56856   5  65  0.998771  0.356436   0.878049  0.507042   \n",
       "2      v3 testing  55  56852   9  46  0.999034  0.544554   0.859375  0.666667   \n",
       "3      v4 testing  31  56856   5  70  0.998683  0.306931   0.861111  0.452555   \n",
       "4      v5 testing  64  56852   9  37  0.999192  0.633663   0.876712  0.735632   \n",
       "5      v6 testing  69  56853   8  32  0.999298  0.683168   0.896104  0.775281   \n",
       "6      v7 testing  68  56854   7  33  0.999298  0.673267   0.906667  0.772727   \n",
       "\n",
       "   total transaction fraud transactions  \n",
       "0              56962            [101.0]  \n",
       "1              56962            [101.0]  \n",
       "2              56962            [101.0]  \n",
       "3              56962            [101.0]  \n",
       "4              56962            [101.0]  \n",
       "5              56962            [101.0]  \n",
       "6              56962            [101.0]  "
      ],
      "text/html": [
       "<div>\n",
       "<style scoped>\n",
       "    .dataframe tbody tr th:only-of-type {\n",
       "        vertical-align: middle;\n",
       "    }\n",
       "\n",
       "    .dataframe tbody tr th {\n",
       "        vertical-align: top;\n",
       "    }\n",
       "\n",
       "    .dataframe thead th {\n",
       "        text-align: right;\n",
       "    }\n",
       "</style>\n",
       "<table border=\"1\" class=\"dataframe\">\n",
       "  <thead>\n",
       "    <tr style=\"text-align: right;\">\n",
       "      <th></th>\n",
       "      <th>set of features</th>\n",
       "      <th>tp</th>\n",
       "      <th>tn</th>\n",
       "      <th>fp</th>\n",
       "      <th>fn</th>\n",
       "      <th>accuracy</th>\n",
       "      <th>recall</th>\n",
       "      <th>precision</th>\n",
       "      <th>f1-score</th>\n",
       "      <th>total transaction</th>\n",
       "      <th>fraud transactions</th>\n",
       "    </tr>\n",
       "  </thead>\n",
       "  <tbody>\n",
       "    <tr>\n",
       "      <th>0</th>\n",
       "      <td>v1 testing</td>\n",
       "      <td>57</td>\n",
       "      <td>56851</td>\n",
       "      <td>10</td>\n",
       "      <td>44</td>\n",
       "      <td>0.999052</td>\n",
       "      <td>0.564356</td>\n",
       "      <td>0.850746</td>\n",
       "      <td>0.678571</td>\n",
       "      <td>56962</td>\n",
       "      <td>[101.0]</td>\n",
       "    </tr>\n",
       "    <tr>\n",
       "      <th>1</th>\n",
       "      <td>v2 testing</td>\n",
       "      <td>36</td>\n",
       "      <td>56856</td>\n",
       "      <td>5</td>\n",
       "      <td>65</td>\n",
       "      <td>0.998771</td>\n",
       "      <td>0.356436</td>\n",
       "      <td>0.878049</td>\n",
       "      <td>0.507042</td>\n",
       "      <td>56962</td>\n",
       "      <td>[101.0]</td>\n",
       "    </tr>\n",
       "    <tr>\n",
       "      <th>2</th>\n",
       "      <td>v3 testing</td>\n",
       "      <td>55</td>\n",
       "      <td>56852</td>\n",
       "      <td>9</td>\n",
       "      <td>46</td>\n",
       "      <td>0.999034</td>\n",
       "      <td>0.544554</td>\n",
       "      <td>0.859375</td>\n",
       "      <td>0.666667</td>\n",
       "      <td>56962</td>\n",
       "      <td>[101.0]</td>\n",
       "    </tr>\n",
       "    <tr>\n",
       "      <th>3</th>\n",
       "      <td>v4 testing</td>\n",
       "      <td>31</td>\n",
       "      <td>56856</td>\n",
       "      <td>5</td>\n",
       "      <td>70</td>\n",
       "      <td>0.998683</td>\n",
       "      <td>0.306931</td>\n",
       "      <td>0.861111</td>\n",
       "      <td>0.452555</td>\n",
       "      <td>56962</td>\n",
       "      <td>[101.0]</td>\n",
       "    </tr>\n",
       "    <tr>\n",
       "      <th>4</th>\n",
       "      <td>v5 testing</td>\n",
       "      <td>64</td>\n",
       "      <td>56852</td>\n",
       "      <td>9</td>\n",
       "      <td>37</td>\n",
       "      <td>0.999192</td>\n",
       "      <td>0.633663</td>\n",
       "      <td>0.876712</td>\n",
       "      <td>0.735632</td>\n",
       "      <td>56962</td>\n",
       "      <td>[101.0]</td>\n",
       "    </tr>\n",
       "    <tr>\n",
       "      <th>5</th>\n",
       "      <td>v6 testing</td>\n",
       "      <td>69</td>\n",
       "      <td>56853</td>\n",
       "      <td>8</td>\n",
       "      <td>32</td>\n",
       "      <td>0.999298</td>\n",
       "      <td>0.683168</td>\n",
       "      <td>0.896104</td>\n",
       "      <td>0.775281</td>\n",
       "      <td>56962</td>\n",
       "      <td>[101.0]</td>\n",
       "    </tr>\n",
       "    <tr>\n",
       "      <th>6</th>\n",
       "      <td>v7 testing</td>\n",
       "      <td>68</td>\n",
       "      <td>56854</td>\n",
       "      <td>7</td>\n",
       "      <td>33</td>\n",
       "      <td>0.999298</td>\n",
       "      <td>0.673267</td>\n",
       "      <td>0.906667</td>\n",
       "      <td>0.772727</td>\n",
       "      <td>56962</td>\n",
       "      <td>[101.0]</td>\n",
       "    </tr>\n",
       "  </tbody>\n",
       "</table>\n",
       "</div>"
      ]
     },
     "execution_count": 18,
     "metadata": {},
     "output_type": "execute_result"
    }
   ],
   "execution_count": 18
  },
  {
   "metadata": {
    "ExecuteTime": {
     "end_time": "2025-02-08T11:41:21.792935Z",
     "start_time": "2025-02-08T11:41:21.531086Z"
    }
   },
   "cell_type": "code",
   "source": [
    "fig, axs = plt.subplots(1, 2, figsize = (10, 5))\n",
    "\n",
    "#ROC curve for training\n",
    "for i in roc_auc_training.keys():\n",
    "    axs[0].plot(roc_auc_training[i][0], roc_auc_training[i][1], label = i)\n",
    "    axs[0].set_xlabel(\"False Positive Rate\")\n",
    "    axs[0].set_ylabel(\"True Positive Rate\")\n",
    "    axs[0].set_title(\"ROC curve for training\")\n",
    "    axs[0].legend()\n",
    "\n",
    "#ROC curve for testing\n",
    "for i in roc_auc_testing.keys():\n",
    "    axs[1].plot(roc_auc_testing[i][0], roc_auc_testing[i][1], label = i)\n",
    "    axs[1].set_xlabel(\"False Positive Rate\")\n",
    "    axs[1].set_ylabel(\"True Positive Rate\")\n",
    "    axs[1].set_title(\"ROC curve for testing\")\n",
    "    axs[1].legend()\n",
    "\n",
    "plt.tight_layout()\n",
    "plt.show()\n",
    "\n",
    "print(\"Training AUC:\")\n",
    "for i, auc in roc_auc_training.items():\n",
    "    print(f\"{i} -> {auc[2]:.2f}\")\n",
    "\n",
    "print(\"\\nTesting AUC:\")\n",
    "for i, auc in roc_auc_testing.items():\n",
    "    print(f\"{i} -> {auc[2]:.2f}\")"
   ],
   "id": "ebb27651bd9c1e24",
   "outputs": [
    {
     "data": {
      "text/plain": [
       "<Figure size 1000x500 with 2 Axes>"
      ],
      "image/png": "[encoded data removed]"
     },
     "metadata": {},
     "output_type": "display_data"
    },
    {
     "name": "stdout",
     "output_type": "stream",
     "text": [
      "Training AUC:\n",
      "v1 -> 0.97\n",
      "v2 -> 0.88\n",
      "v3 -> 0.95\n",
      "v4 -> 0.91\n",
      "v5 -> 0.98\n",
      "v6 -> 0.99\n",
      "v7 -> 0.99\n",
      "\n",
      "Testing AUC:\n",
      "v1 -> 0.92\n",
      "v2 -> 0.81\n",
      "v3 -> 0.90\n",
      "v4 -> 0.85\n",
      "v5 -> 0.96\n",
      "v6 -> 0.98\n",
      "v7 -> 0.98\n"
     ]
    }
   ],
   "execution_count": 19
  }
 ],
 "metadata": {
  "kernelspec": {
   "display_name": "venv",
   "language": "python",
   "name": "python3"
  },
  "language_info": {
   "codemirror_mode": {
    "name": "ipython",
    "version": 3
   },
   "file_extension": ".py",
   "mimetype": "text/x-python",
   "name": "python",
   "nbconvert_exporter": "python",
   "pygments_lexer": "ipython3",
   "version": "3.12.7"
  }
 },
 "nbformat": 4,
 "nbformat_minor": 5
}
