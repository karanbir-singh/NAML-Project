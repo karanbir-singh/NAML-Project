{
 "cells": [
  {
   "cell_type": "markdown",
   "metadata": {},
   "source": [
    "### ***Theory of random forest***\n",
    "\n",
    "As described in DT notebook, DT can be subject to high overfitting because they have low bias and high variance errors. The first is high if we have made a lot of assumptions abpout the target function, so if our modelling function is not flexible. The second, instead, refers to the variability of a target function w.r.t. different training samples: models with high varianvce will change a lot when small modifications of the training dataset are made. The idea used by RF to overcome this limitations is to build multiple trees and average their prediction for regression or use majority voting for classification. Each tree is built using a different dataset and a random subset of features.\n",
    "\n",
    "To reduce the variance error, RF employs *bootstrap aggregation* (or *bagging*). Among the different techniques used for it, the one that will be used in this notebook was proposed by the inventors of RF Leo Breiman and Adele Cutler. Given a dataset $D=\\{(X_1, y_1), \\dots, (X_N, y_N)\\}$ where $X_i$ are the features and $y_i$ the labels, we generate $B$ bootstraped samples $D_1, \\dots, D_B$ by sampling with replacement $N$ tuples from $D$. Because replacement is allowed there might be some duplicate elements in $D_k$. Then, a decision tree $T_i$ is trained using $D_i$. Without bootrapping, all the trees would be highly correlated, i.e. if $T_i$ predicts label $\\tilde y$, there's a high chance that also $T_k$ will predict $\\tilde y$: consequently, if one overfits, also the other will overfit either. Note that this allows us to parallelize the training process: different machines will train one (or several) model.\n",
    "\n",
    "Moreover, each $T_i$ is built considering only a random subset of $|F_i|=m$ features among the total $|F|=d$ features at eah best split call (see `DecisionTree.find_best_split(...)`): if we used the entire features vector, even with bootstrapping, there would be an high chance to keep using the mostly dominant features, not reducing correlation. Typically, $m=\\sqrt{d}$ for classification and $m=\\frac13d$ for regression. \n",
    "\n",
    "When it comes to make a prediction for a classification task, the idea is to use *majority voting*:\n",
    "$$\\tilde y = \\argmax_{k}\\,\\,\\sum_{i = 1}^{B}\\mathbb{I}\\{T_i(x) = k\\}$$\n",
    "\n",
    "where $k$ is a label, $\\mathbb{I}\\{...\\}$ is the indicator function and $T_i(x)$ is the prediction of the $i\\text{-th}$ tree.\n",
    "\n",
    "Viceversa, for a regrassion task (not necessary in this notebook, but reported for the sake of completeness):\n",
    "$$\\tilde y = \\frac1B\\sum_{i=1}^{B}T_i(x)$$"
   ]
  },
  {
   "cell_type": "markdown",
   "metadata": {},
   "source": [
    "### ***Model definition***"
   ]
  },
  {
   "cell_type": "code",
   "execution_count": 2,
   "metadata": {},
   "outputs": [],
   "source": [
    "import numpy as np\n",
    "from tqdm import tqdm\n",
    "import scipy\n",
    "\n",
    "import sys\n",
    "sys.path.append(\"..\")\n",
    "from utils.models.DecisionTree import DecisionTree"
   ]
  },
  {
   "cell_type": "code",
   "execution_count": 3,
   "metadata": {},
   "outputs": [],
   "source": [
    "class RandomForest:\n",
    "    def __init__(self, \n",
    "                 n_trees = 10,\n",
    "                 criterion = \"gini\", \n",
    "                 max_depth = None, \n",
    "                 min_samples_split = 2, \n",
    "                 min_samples_leaf = 1, \n",
    "                 min_impurity_decrease = 0.0,\n",
    "                 max_thresholds = 1,\n",
    "                 random_state = 0):\n",
    "        \n",
    "        \"\"\"\n",
    "            Initialize the decision tree parameters.\n",
    "            \n",
    "            Args:\n",
    "                - Parameters of RF:\n",
    "                    n_trees (int): number of trees to be built\n",
    "                    random_state (int): random seed.\n",
    "                \n",
    "                - Paramters of DT to be built: \n",
    "                    criterion (str): the function to measure the quality of a split (\"gini\" or \"entropy\").\n",
    "                    max_depth (int): the maximum depth of the tree.\n",
    "                    min_samples_split (int): the minimum number of samples required to split an internal node.\n",
    "                    min_samples_leaf (int): the minimum number of samples required to be at a leaf node.\n",
    "                    min_impurity_decrease (float): the minimum impurity decrease required to split a node.\n",
    "                    max_thresholds (int): the maximum number of thresholds to use during best split search.\n",
    "                    max_features (str / float): the maximum number of features to choose from in the given ones: \n",
    "                                                    - if \"sqrt\", then int(sqrt(n_features)); \n",
    "                                                    - if \"log2\", then int(log2(n_features)):\n",
    "                                                    - if float, then int(n_features * max_features);\n",
    "                                                    - if None, all features\n",
    "                    random_state (int): random seed.\n",
    "        \"\"\"\n",
    "        \n",
    "        self.n_trees = n_trees\n",
    "\n",
    "        #When the traing process is complete, all the DecisionTree objects in this list will be trained\n",
    "        self.trees = [DecisionTree(criterion = criterion,\n",
    "                                   max_depth = max_depth,\n",
    "                                   min_samples_split = min_samples_split,\n",
    "                                   min_samples_leaf = min_samples_leaf,\n",
    "                                   min_impurity_decrease = min_impurity_decrease,\n",
    "                                   max_thresholds = max_thresholds,\n",
    "                                   max_features = \"sqrt\", #As explained in the theory part, for classification tasks, sqrt(n_features) have to be used.\n",
    "                                                          #Thus, we pass directly to the DT the parameter max_features = \"sqrt\", so that it will be the DT to selct randomly them;\n",
    "                                                          #see for more details methods \"build_tree(...)\" and \"find_best_split(...)\" of DT.\n",
    "                                   random_state = random_state)\n",
    "                     for _ in range(self.n_trees)]\n",
    "\n",
    "        self.random_state = random_state\n",
    "\n",
    "    def fit(self, X, y):\n",
    "        \"\"\"\n",
    "            Fit a RF model with the specified parameters to the data. \n",
    "\n",
    "            Args:\n",
    "                X (np.ndarray): the matrix containing the features (sample on the rows);\n",
    "                y (np.ndarray): the vector containg the labels.\n",
    "        \"\"\"\n",
    " \n",
    "        for i in tqdm(range(self.n_trees), desc = \"Training of RF\"):\n",
    "            #For each subtree that we have to build, we generate a bootstrapped dataset\n",
    "            bs_ids = np.random.choice(np.arange(X.shape[0]), X.shape[0], replace = True)\n",
    "            X_bs = X[bs_ids]\n",
    "            y_bs = y[bs_ids]\n",
    "\n",
    "            #Then, we train the DT on it\n",
    "            self.trees[i].fit(X_bs, y_bs)\n",
    "\n",
    "    def predict(self, X):\n",
    "        \"\"\"\n",
    "            This method predicts the labels of a given set of samples.\n",
    "\n",
    "            Args:\n",
    "                X (np.ndarray): the matrix containing the samples to be classified (samples on rows)\n",
    "\n",
    "            Returns:\n",
    "                labels (np.ndarray): the predicted label of each sample in X\n",
    "                scores (np.ndarray): the score associated to each prediction\n",
    "        \"\"\"\n",
    "\n",
    "        #As define in the theory part, we collect the prediction of each tree.\n",
    "        #Note: the resulting matrix is n_trees x n_samples, so we have to compute the frequencies of the values\n",
    "        #on the columns, not on the rows!\n",
    "        predictions = np.array([t.predict(X) for t in self.trees])  \n",
    "        \n",
    "        #scipy.stats.mode (axis = 0) collets all the modes or \"modal\" (most common values) along with their frequencies\n",
    "        labels, counts = scipy.stats.mode(predictions, axis = 0)\n",
    "\n",
    "        #Finally, we normalize the frequencies so that tey are in [0,1]\n",
    "        scores = counts / predictions.shape[0]\n",
    "\n",
    "        return labels, scores\n"
   ]
  },
  {
   "cell_type": "markdown",
   "metadata": {},
   "source": [
    "### ***Usage of the model***"
   ]
  },
  {
   "cell_type": "code",
   "execution_count": 91,
   "metadata": {},
   "outputs": [],
   "source": [
    "import pandas as pd\n",
    "from sklearn.model_selection import train_test_split\n",
    "import numpy as np\n",
    "\n",
    "import sys\n",
    "sys.path.append(\"..\")\n",
    "\n",
    "from utils.preprocessing import undersample, fit_resample\n",
    "\n",
    "import utils.model_evaluation as me\n",
    "import matplotlib.pyplot as plt"
   ]
  },
  {
   "cell_type": "code",
   "execution_count": 92,
   "metadata": {},
   "outputs": [],
   "source": [
    "#Load the dataset\n",
    "init_data = pd.read_csv(\"../creditcard_2021.csv\")\n",
    "data = init_data[me.feature_vectors[\"v3\"] + [\"Class\"]]\n",
    "\n",
    "#\"Class\" column is the target variable, so we remove it from the feature matrix and store it in the variable y\n",
    "X = data.drop(columns = [\"Class\"])\n",
    "y = data[\"Class\"]\n",
    "\n",
    "X = np.array(X)\n",
    "y = np.array(y)"
   ]
  },
  {
   "cell_type": "code",
   "execution_count": 93,
   "metadata": {},
   "outputs": [],
   "source": [
    "#Split the dataset into training and testing sets\n",
    "X_train, X_test, y_train, y_test = train_test_split(X, y, test_size = 0.3, random_state = 0)"
   ]
  },
  {
   "cell_type": "code",
   "execution_count": 94,
   "metadata": {},
   "outputs": [],
   "source": [
    "#Note: in constrant with what have been done for DT, here we apply SMOTE because we have observed experimentally that it increases the recall with slight decrease of the precision on the testing set\n",
    "X_smote = fit_resample(X_train[y_train == 1], 2500, 10)\n",
    "\n",
    "X_train = np.vstack((X_train, X_smote))\n",
    "y_train = np.hstack((y_train, [1] * 2500))"
   ]
  },
  {
   "cell_type": "code",
   "execution_count": 95,
   "metadata": {},
   "outputs": [],
   "source": [
    "rf = RandomForest(n_trees = 200,\n",
    "                  criterion = \"entropy\", \n",
    "                  max_depth = 15, \n",
    "                  min_samples_split = 5, \n",
    "                  min_samples_leaf = 2, \n",
    "                  min_impurity_decrease = 1e-5, #Important parameter: small changes can lead to big differences in the tree and its performance\n",
    "                  max_thresholds = 75, \n",
    "                  random_state = 0)"
   ]
  },
  {
   "cell_type": "code",
   "execution_count": 20,
   "metadata": {},
   "outputs": [
    {
     "name": "stderr",
     "output_type": "stream",
     "text": [
      "Training of RF:  75%|███████▌  | 150/200 [20:07<06:48,  8.17s/it]"
     ]
    }
   ],
   "source": [
    "#Once defined, we can train the model\n",
    "rf.fit(X_train, y_train)"
   ]
  },
  {
   "cell_type": "code",
   "execution_count": null,
   "metadata": {},
   "outputs": [
    {
     "data": {
      "text/plain": [
       "array([0, 0, 0, ..., 0, 0, 0], shape=(85443,))"
      ]
     },
     "execution_count": 21,
     "metadata": {},
     "output_type": "execute_result"
    }
   ],
   "source": [
    "#Once trained, we can make predictions\n",
    "y_pred, votes = rf.predict(X_test)\n",
    "y_pred"
   ]
  },
  {
   "cell_type": "code",
   "execution_count": null,
   "metadata": {},
   "outputs": [
    {
     "name": "stdout",
     "output_type": "stream",
     "text": [
      "Precision: 0.90625\n",
      "Recall: 0.7891156462585034\n",
      "F1 Score: 0.8436363636363635\n",
      "Accuracy: 0.9994967405170698\n",
      "AUC Score: 0.8944874798540688\n"
     ]
    },
    {
     "data": {
      "image/png": "[encoded data removed]",
      "text/plain": [
       "<Figure size 640x480 with 1 Axes>"
      ]
     },
     "metadata": {},
     "output_type": "display_data"
    }
   ],
   "source": [
    "metrics = me.compute_metrics(y_pred, y_test)\n",
    "\n",
    "print(\"Precision:\", metrics[\"precision\"])\n",
    "print(\"Recall:\", metrics[\"recall\"])\n",
    "print(\"F1 Score:\", metrics[\"f1\"])\n",
    "print(\"Accuracy:\", metrics[\"accuracy\"])\n",
    "\n",
    "print(\"AUC Score:\", metrics[\"auc\"])\n",
    "\n",
    "plt.plot(metrics[\"roc\"][\"fpr\"], metrics[\"roc\"][\"tpr\"])\n",
    "plt.xlabel(\"False Positive Rate\")\n",
    "plt.ylabel(\"True Positive Rate\")\n",
    "plt.title(\"ROC curve\")\n",
    "plt.tight_layout()\n",
    "plt.show()"
   ]
  },
  {
   "cell_type": "code",
   "execution_count": 28,
   "metadata": {},
   "outputs": [],
   "source": [
    "#One thing that we can try to do is undersampling:\n",
    "X_train, X_test, y_train, y_test = train_test_split(X, y, test_size = 0.3, random_state = 0)\n",
    "X_train, y_train = undersample(X_train, y_train, 0, 1 - (sum(y_train) * 300.0 / X_train.shape[0]))"
   ]
  },
  {
   "cell_type": "code",
   "execution_count": 85,
   "metadata": {},
   "outputs": [],
   "source": [
    "rf = RandomForest(n_trees = 20,\n",
    "                  criterion = \"gini\", \n",
    "                  max_depth = 10, \n",
    "                  min_samples_split = 2, \n",
    "                  min_samples_leaf = 1, \n",
    "                  min_impurity_decrease = 0.0, #Important parameter: small changes can lead to big differences in the tree and its performance (1e-5)\n",
    "                  max_thresholds = 20, \n",
    "                  random_state = 0)"
   ]
  },
  {
   "cell_type": "code",
   "execution_count": 86,
   "metadata": {},
   "outputs": [
    {
     "name": "stderr",
     "output_type": "stream",
     "text": [
      "Training of RF: 100%|██████████| 20/20 [00:16<00:00,  1.21it/s]\n"
     ]
    }
   ],
   "source": [
    "#Once defined, we can train the model\n",
    "rf.fit(X_train, y_train)"
   ]
  },
  {
   "cell_type": "code",
   "execution_count": 87,
   "metadata": {},
   "outputs": [
    {
     "data": {
      "text/plain": [
       "array([0, 0, 0, ..., 0, 0, 0], shape=(85443,))"
      ]
     },
     "execution_count": 87,
     "metadata": {},
     "output_type": "execute_result"
    }
   ],
   "source": [
    "#Once trained, we can make predictions\n",
    "y_pred, votes = rf.predict(X_test)\n",
    "y_pred"
   ]
  },
  {
   "cell_type": "code",
   "execution_count": 88,
   "metadata": {},
   "outputs": [
    {
     "name": "stdout",
     "output_type": "stream",
     "text": [
      "Precision: 0.9099099099099099\n",
      "Recall: 0.6870748299319728\n",
      "F1 Score: 0.7829457364341086\n",
      "Accuracy: 0.9993445923013002\n",
      "AUC Score: 0.8434787955700008\n"
     ]
    },
    {
     "data": {
      "image/png": "[encoded data removed]",
      "text/plain": [
       "<Figure size 640x480 with 1 Axes>"
      ]
     },
     "metadata": {},
     "output_type": "display_data"
    }
   ],
   "source": [
    "metrics = me.compute_metrics(y_pred, y_test)\n",
    "\n",
    "print(\"Precision:\", metrics[\"precision\"])\n",
    "print(\"Recall:\", metrics[\"recall\"])\n",
    "print(\"F1 Score:\", metrics[\"f1\"])\n",
    "print(\"Accuracy:\", metrics[\"accuracy\"])\n",
    "\n",
    "print(\"AUC Score:\", metrics[\"auc\"])\n",
    "\n",
    "plt.plot(metrics[\"roc\"][\"fpr\"], metrics[\"roc\"][\"tpr\"])\n",
    "plt.xlabel(\"False Positive Rate\")\n",
    "plt.ylabel(\"True Positive Rate\")\n",
    "plt.title(\"ROC curve\")\n",
    "plt.tight_layout()\n",
    "plt.show()"
   ]
  }
 ],
 "metadata": {
  "kernelspec": {
   "display_name": "venv",
   "language": "python",
   "name": "python3"
  },
  "language_info": {
   "codemirror_mode": {
    "name": "ipython",
    "version": 3
   },
   "file_extension": ".py",
   "mimetype": "text/x-python",
   "name": "python",
   "nbconvert_exporter": "python",
   "pygments_lexer": "ipython3",
   "version": "3.12.7"
  }
 },
 "nbformat": 4,
 "nbformat_minor": 2
}
